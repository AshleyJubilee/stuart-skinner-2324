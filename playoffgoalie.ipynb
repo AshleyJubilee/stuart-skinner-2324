{
 "cells": [
  {
   "cell_type": "code",
   "execution_count": 292,
   "metadata": {},
   "outputs": [],
   "source": [
    "import pandas as pd\n",
    "import glob\n",
    "import re\n",
    "import plotly.express as px\n",
    "import plotly.graph_objects as go\n",
    "from plotly.colors import hex_to_rgb\n",
    "from nhl_themes import teamColours\n",
    "pd.set_option('mode.chained_assignment', None)"
   ]
  },
  {
   "cell_type": "code",
   "execution_count": 293,
   "metadata": {},
   "outputs": [],
   "source": [
    "data = pd.read_csv(\"EH_std_gl_stats_all_playoffs_adj_2024-05-13.csv\")\n",
    "# data = data.loc[data[\"xGA\"] > data[\"xGA\"].quantile(0.25)]\n",
    "data = data.loc[data['GP'] > 12]\n",
    "data = data.loc[data[\"xGA\"] < 200]\n",
    "data[\"Player\"] = data[\"Player\"].str.split(n=1).str[1]\n"
   ]
  },
  {
   "cell_type": "code",
   "execution_count": 294,
   "metadata": {},
   "outputs": [
    {
     "data": {
      "text/html": [
       "<div>\n",
       "<style scoped>\n",
       "    .dataframe tbody tr th:only-of-type {\n",
       "        vertical-align: middle;\n",
       "    }\n",
       "\n",
       "    .dataframe tbody tr th {\n",
       "        vertical-align: top;\n",
       "    }\n",
       "\n",
       "    .dataframe thead th {\n",
       "        text-align: right;\n",
       "    }\n",
       "</style>\n",
       "<table border=\"1\" class=\"dataframe\">\n",
       "  <thead>\n",
       "    <tr style=\"text-align: right;\">\n",
       "      <th></th>\n",
       "      <th>Player</th>\n",
       "      <th>Season</th>\n",
       "      <th>Team</th>\n",
       "      <th>Position</th>\n",
       "      <th>GP</th>\n",
       "      <th>TOI</th>\n",
       "      <th>GA</th>\n",
       "      <th>SA</th>\n",
       "      <th>FA</th>\n",
       "      <th>xGA</th>\n",
       "      <th>Sv%</th>\n",
       "      <th>FSv%</th>\n",
       "      <th>xFSv%</th>\n",
       "      <th>dFSv%</th>\n",
       "      <th>GSAA</th>\n",
       "      <th>GSAx</th>\n",
       "    </tr>\n",
       "  </thead>\n",
       "  <tbody>\n",
       "    <tr>\n",
       "      <th>1</th>\n",
       "      <td>Hill</td>\n",
       "      <td>22-24</td>\n",
       "      <td>VGK</td>\n",
       "      <td>G</td>\n",
       "      <td>19</td>\n",
       "      <td>1089.61</td>\n",
       "      <td>37.67</td>\n",
       "      <td>545.99</td>\n",
       "      <td>783.10</td>\n",
       "      <td>54.27</td>\n",
       "      <td>93.10</td>\n",
       "      <td>95.19</td>\n",
       "      <td>93.07</td>\n",
       "      <td>2.12</td>\n",
       "      <td>14.85</td>\n",
       "      <td>16.60</td>\n",
       "    </tr>\n",
       "    <tr>\n",
       "      <th>7</th>\n",
       "      <td>Georgiev</td>\n",
       "      <td>22-24</td>\n",
       "      <td>COL</td>\n",
       "      <td>G</td>\n",
       "      <td>15</td>\n",
       "      <td>899.70</td>\n",
       "      <td>41.65</td>\n",
       "      <td>429.75</td>\n",
       "      <td>628.54</td>\n",
       "      <td>40.65</td>\n",
       "      <td>90.31</td>\n",
       "      <td>93.37</td>\n",
       "      <td>93.53</td>\n",
       "      <td>-0.16</td>\n",
       "      <td>0.07</td>\n",
       "      <td>-1.00</td>\n",
       "    </tr>\n",
       "    <tr>\n",
       "      <th>12</th>\n",
       "      <td>Khudobin</td>\n",
       "      <td>18-20</td>\n",
       "      <td>DAL</td>\n",
       "      <td>G</td>\n",
       "      <td>25</td>\n",
       "      <td>1440.21</td>\n",
       "      <td>66.45</td>\n",
       "      <td>803.51</td>\n",
       "      <td>1085.03</td>\n",
       "      <td>76.72</td>\n",
       "      <td>91.73</td>\n",
       "      <td>93.88</td>\n",
       "      <td>92.93</td>\n",
       "      <td>0.95</td>\n",
       "      <td>1.02</td>\n",
       "      <td>10.27</td>\n",
       "    </tr>\n",
       "    <tr>\n",
       "      <th>13</th>\n",
       "      <td>Niemi</td>\n",
       "      <td>09-10</td>\n",
       "      <td>CHI</td>\n",
       "      <td>G</td>\n",
       "      <td>22</td>\n",
       "      <td>1321.85</td>\n",
       "      <td>58.18</td>\n",
       "      <td>640.42</td>\n",
       "      <td>894.93</td>\n",
       "      <td>59.24</td>\n",
       "      <td>90.92</td>\n",
       "      <td>93.50</td>\n",
       "      <td>93.38</td>\n",
       "      <td>0.12</td>\n",
       "      <td>0.82</td>\n",
       "      <td>1.06</td>\n",
       "    </tr>\n",
       "    <tr>\n",
       "      <th>14</th>\n",
       "      <td>Niemi</td>\n",
       "      <td>10-14</td>\n",
       "      <td>S.J</td>\n",
       "      <td>G</td>\n",
       "      <td>40</td>\n",
       "      <td>2340.00</td>\n",
       "      <td>108.72</td>\n",
       "      <td>1145.15</td>\n",
       "      <td>1612.58</td>\n",
       "      <td>92.93</td>\n",
       "      <td>90.51</td>\n",
       "      <td>93.26</td>\n",
       "      <td>94.24</td>\n",
       "      <td>-0.98</td>\n",
       "      <td>-14.29</td>\n",
       "      <td>-15.79</td>\n",
       "    </tr>\n",
       "    <tr>\n",
       "      <th>...</th>\n",
       "      <td>...</td>\n",
       "      <td>...</td>\n",
       "      <td>...</td>\n",
       "      <td>...</td>\n",
       "      <td>...</td>\n",
       "      <td>...</td>\n",
       "      <td>...</td>\n",
       "      <td>...</td>\n",
       "      <td>...</td>\n",
       "      <td>...</td>\n",
       "      <td>...</td>\n",
       "      <td>...</td>\n",
       "      <td>...</td>\n",
       "      <td>...</td>\n",
       "      <td>...</td>\n",
       "      <td>...</td>\n",
       "    </tr>\n",
       "    <tr>\n",
       "      <th>165</th>\n",
       "      <td>Bobrovsky</td>\n",
       "      <td>13-19</td>\n",
       "      <td>CBJ</td>\n",
       "      <td>G</td>\n",
       "      <td>27</td>\n",
       "      <td>1725.25</td>\n",
       "      <td>87.71</td>\n",
       "      <td>959.49</td>\n",
       "      <td>1283.73</td>\n",
       "      <td>76.31</td>\n",
       "      <td>90.86</td>\n",
       "      <td>93.17</td>\n",
       "      <td>94.06</td>\n",
       "      <td>-0.89</td>\n",
       "      <td>-6.01</td>\n",
       "      <td>-11.40</td>\n",
       "    </tr>\n",
       "    <tr>\n",
       "      <th>166</th>\n",
       "      <td>Bobrovsky</td>\n",
       "      <td>19-24</td>\n",
       "      <td>FLA</td>\n",
       "      <td>G</td>\n",
       "      <td>45</td>\n",
       "      <td>2650.88</td>\n",
       "      <td>125.95</td>\n",
       "      <td>1348.89</td>\n",
       "      <td>1954.21</td>\n",
       "      <td>143.12</td>\n",
       "      <td>90.66</td>\n",
       "      <td>93.55</td>\n",
       "      <td>92.68</td>\n",
       "      <td>0.88</td>\n",
       "      <td>-1.45</td>\n",
       "      <td>17.17</td>\n",
       "    </tr>\n",
       "    <tr>\n",
       "      <th>170</th>\n",
       "      <td>Skinner</td>\n",
       "      <td>22-24</td>\n",
       "      <td>EDM</td>\n",
       "      <td>G</td>\n",
       "      <td>20</td>\n",
       "      <td>1084.12</td>\n",
       "      <td>62.47</td>\n",
       "      <td>507.53</td>\n",
       "      <td>700.13</td>\n",
       "      <td>49.61</td>\n",
       "      <td>87.69</td>\n",
       "      <td>91.08</td>\n",
       "      <td>92.91</td>\n",
       "      <td>-1.84</td>\n",
       "      <td>-13.34</td>\n",
       "      <td>-12.86</td>\n",
       "    </tr>\n",
       "    <tr>\n",
       "      <th>172</th>\n",
       "      <td>Greiss</td>\n",
       "      <td>15-20</td>\n",
       "      <td>NYI</td>\n",
       "      <td>G</td>\n",
       "      <td>16</td>\n",
       "      <td>947.70</td>\n",
       "      <td>37.65</td>\n",
       "      <td>486.98</td>\n",
       "      <td>682.97</td>\n",
       "      <td>38.92</td>\n",
       "      <td>92.27</td>\n",
       "      <td>94.49</td>\n",
       "      <td>94.30</td>\n",
       "      <td>0.19</td>\n",
       "      <td>2.91</td>\n",
       "      <td>1.27</td>\n",
       "    </tr>\n",
       "    <tr>\n",
       "      <th>173</th>\n",
       "      <td>Thomas</td>\n",
       "      <td>07-12</td>\n",
       "      <td>BOS</td>\n",
       "      <td>G</td>\n",
       "      <td>50</td>\n",
       "      <td>3099.76</td>\n",
       "      <td>106.23</td>\n",
       "      <td>1584.07</td>\n",
       "      <td>2081.05</td>\n",
       "      <td>112.37</td>\n",
       "      <td>93.29</td>\n",
       "      <td>94.90</td>\n",
       "      <td>94.60</td>\n",
       "      <td>0.30</td>\n",
       "      <td>27.16</td>\n",
       "      <td>6.14</td>\n",
       "    </tr>\n",
       "  </tbody>\n",
       "</table>\n",
       "<p>63 rows × 16 columns</p>\n",
       "</div>"
      ],
      "text/plain": [
       "        Player Season Team Position  GP      TOI      GA       SA       FA  \\\n",
       "1         Hill  22-24  VGK        G  19  1089.61   37.67   545.99   783.10   \n",
       "7     Georgiev  22-24  COL        G  15   899.70   41.65   429.75   628.54   \n",
       "12    Khudobin  18-20  DAL        G  25  1440.21   66.45   803.51  1085.03   \n",
       "13       Niemi  09-10  CHI        G  22  1321.85   58.18   640.42   894.93   \n",
       "14       Niemi  10-14  S.J        G  40  2340.00  108.72  1145.15  1612.58   \n",
       "..         ...    ...  ...      ...  ..      ...     ...      ...      ...   \n",
       "165  Bobrovsky  13-19  CBJ        G  27  1725.25   87.71   959.49  1283.73   \n",
       "166  Bobrovsky  19-24  FLA        G  45  2650.88  125.95  1348.89  1954.21   \n",
       "170    Skinner  22-24  EDM        G  20  1084.12   62.47   507.53   700.13   \n",
       "172     Greiss  15-20  NYI        G  16   947.70   37.65   486.98   682.97   \n",
       "173     Thomas  07-12  BOS        G  50  3099.76  106.23  1584.07  2081.05   \n",
       "\n",
       "        xGA    Sv%   FSv%  xFSv%  dFSv%   GSAA   GSAx  \n",
       "1     54.27  93.10  95.19  93.07   2.12  14.85  16.60  \n",
       "7     40.65  90.31  93.37  93.53  -0.16   0.07  -1.00  \n",
       "12    76.72  91.73  93.88  92.93   0.95   1.02  10.27  \n",
       "13    59.24  90.92  93.50  93.38   0.12   0.82   1.06  \n",
       "14    92.93  90.51  93.26  94.24  -0.98 -14.29 -15.79  \n",
       "..      ...    ...    ...    ...    ...    ...    ...  \n",
       "165   76.31  90.86  93.17  94.06  -0.89  -6.01 -11.40  \n",
       "166  143.12  90.66  93.55  92.68   0.88  -1.45  17.17  \n",
       "170   49.61  87.69  91.08  92.91  -1.84 -13.34 -12.86  \n",
       "172   38.92  92.27  94.49  94.30   0.19   2.91   1.27  \n",
       "173  112.37  93.29  94.90  94.60   0.30  27.16   6.14  \n",
       "\n",
       "[63 rows x 16 columns]"
      ]
     },
     "execution_count": 294,
     "metadata": {},
     "output_type": "execute_result"
    }
   ],
   "source": [
    "data"
   ]
  },
  {
   "cell_type": "code",
   "execution_count": 295,
   "metadata": {},
   "outputs": [
    {
     "data": {
      "text/html": [
       "<div>\n",
       "<style scoped>\n",
       "    .dataframe tbody tr th:only-of-type {\n",
       "        vertical-align: middle;\n",
       "    }\n",
       "\n",
       "    .dataframe tbody tr th {\n",
       "        vertical-align: top;\n",
       "    }\n",
       "\n",
       "    .dataframe thead th {\n",
       "        text-align: right;\n",
       "    }\n",
       "</style>\n",
       "<table border=\"1\" class=\"dataframe\">\n",
       "  <thead>\n",
       "    <tr style=\"text-align: right;\">\n",
       "      <th></th>\n",
       "      <th>Player</th>\n",
       "      <th>Season</th>\n",
       "      <th>Team</th>\n",
       "      <th>Position</th>\n",
       "      <th>GP</th>\n",
       "      <th>TOI</th>\n",
       "      <th>GA</th>\n",
       "      <th>SA</th>\n",
       "      <th>FA</th>\n",
       "      <th>xGA</th>\n",
       "      <th>Sv%</th>\n",
       "      <th>FSv%</th>\n",
       "      <th>xFSv%</th>\n",
       "      <th>dFSv%</th>\n",
       "      <th>GSAA</th>\n",
       "      <th>GSAx</th>\n",
       "      <th>GSAx/60</th>\n",
       "    </tr>\n",
       "  </thead>\n",
       "  <tbody>\n",
       "    <tr>\n",
       "      <th>1</th>\n",
       "      <td>Hill</td>\n",
       "      <td>22-24</td>\n",
       "      <td>VGK</td>\n",
       "      <td>G</td>\n",
       "      <td>19</td>\n",
       "      <td>1089.61</td>\n",
       "      <td>37.67</td>\n",
       "      <td>545.99</td>\n",
       "      <td>783.10</td>\n",
       "      <td>54.27</td>\n",
       "      <td>93.10</td>\n",
       "      <td>95.19</td>\n",
       "      <td>93.07</td>\n",
       "      <td>2.12</td>\n",
       "      <td>14.85</td>\n",
       "      <td>16.60</td>\n",
       "      <td>0.91</td>\n",
       "    </tr>\n",
       "    <tr>\n",
       "      <th>7</th>\n",
       "      <td>Georgiev</td>\n",
       "      <td>22-24</td>\n",
       "      <td>COL</td>\n",
       "      <td>G</td>\n",
       "      <td>15</td>\n",
       "      <td>899.70</td>\n",
       "      <td>41.65</td>\n",
       "      <td>429.75</td>\n",
       "      <td>628.54</td>\n",
       "      <td>40.65</td>\n",
       "      <td>90.31</td>\n",
       "      <td>93.37</td>\n",
       "      <td>93.53</td>\n",
       "      <td>-0.16</td>\n",
       "      <td>0.07</td>\n",
       "      <td>-1.00</td>\n",
       "      <td>-0.07</td>\n",
       "    </tr>\n",
       "    <tr>\n",
       "      <th>12</th>\n",
       "      <td>Khudobin</td>\n",
       "      <td>18-20</td>\n",
       "      <td>DAL</td>\n",
       "      <td>G</td>\n",
       "      <td>25</td>\n",
       "      <td>1440.21</td>\n",
       "      <td>66.45</td>\n",
       "      <td>803.51</td>\n",
       "      <td>1085.03</td>\n",
       "      <td>76.72</td>\n",
       "      <td>91.73</td>\n",
       "      <td>93.88</td>\n",
       "      <td>92.93</td>\n",
       "      <td>0.95</td>\n",
       "      <td>1.02</td>\n",
       "      <td>10.27</td>\n",
       "      <td>0.43</td>\n",
       "    </tr>\n",
       "    <tr>\n",
       "      <th>13</th>\n",
       "      <td>Niemi</td>\n",
       "      <td>09-10</td>\n",
       "      <td>CHI</td>\n",
       "      <td>G</td>\n",
       "      <td>22</td>\n",
       "      <td>1321.85</td>\n",
       "      <td>58.18</td>\n",
       "      <td>640.42</td>\n",
       "      <td>894.93</td>\n",
       "      <td>59.24</td>\n",
       "      <td>90.92</td>\n",
       "      <td>93.50</td>\n",
       "      <td>93.38</td>\n",
       "      <td>0.12</td>\n",
       "      <td>0.82</td>\n",
       "      <td>1.06</td>\n",
       "      <td>0.05</td>\n",
       "    </tr>\n",
       "    <tr>\n",
       "      <th>14</th>\n",
       "      <td>Niemi</td>\n",
       "      <td>10-14</td>\n",
       "      <td>S.J</td>\n",
       "      <td>G</td>\n",
       "      <td>40</td>\n",
       "      <td>2340.00</td>\n",
       "      <td>108.72</td>\n",
       "      <td>1145.15</td>\n",
       "      <td>1612.58</td>\n",
       "      <td>92.93</td>\n",
       "      <td>90.51</td>\n",
       "      <td>93.26</td>\n",
       "      <td>94.24</td>\n",
       "      <td>-0.98</td>\n",
       "      <td>-14.29</td>\n",
       "      <td>-15.79</td>\n",
       "      <td>-0.40</td>\n",
       "    </tr>\n",
       "  </tbody>\n",
       "</table>\n",
       "</div>"
      ],
      "text/plain": [
       "      Player Season Team Position  GP      TOI      GA       SA       FA  \\\n",
       "1       Hill  22-24  VGK        G  19  1089.61   37.67   545.99   783.10   \n",
       "7   Georgiev  22-24  COL        G  15   899.70   41.65   429.75   628.54   \n",
       "12  Khudobin  18-20  DAL        G  25  1440.21   66.45   803.51  1085.03   \n",
       "13     Niemi  09-10  CHI        G  22  1321.85   58.18   640.42   894.93   \n",
       "14     Niemi  10-14  S.J        G  40  2340.00  108.72  1145.15  1612.58   \n",
       "\n",
       "      xGA    Sv%   FSv%  xFSv%  dFSv%   GSAA   GSAx  GSAx/60  \n",
       "1   54.27  93.10  95.19  93.07   2.12  14.85  16.60     0.91  \n",
       "7   40.65  90.31  93.37  93.53  -0.16   0.07  -1.00    -0.07  \n",
       "12  76.72  91.73  93.88  92.93   0.95   1.02  10.27     0.43  \n",
       "13  59.24  90.92  93.50  93.38   0.12   0.82   1.06     0.05  \n",
       "14  92.93  90.51  93.26  94.24  -0.98 -14.29 -15.79    -0.40  "
      ]
     },
     "execution_count": 295,
     "metadata": {},
     "output_type": "execute_result"
    }
   ],
   "source": [
    "data[\"GSAx/60\"] = round((60 * data[\"GSAx\"]) / data[\"TOI\"], 2)\n",
    "data.head()"
   ]
  },
  {
   "cell_type": "code",
   "execution_count": 296,
   "metadata": {},
   "outputs": [
    {
     "data": {
      "text/html": [
       "<div>\n",
       "<style scoped>\n",
       "    .dataframe tbody tr th:only-of-type {\n",
       "        vertical-align: middle;\n",
       "    }\n",
       "\n",
       "    .dataframe tbody tr th {\n",
       "        vertical-align: top;\n",
       "    }\n",
       "\n",
       "    .dataframe thead th {\n",
       "        text-align: right;\n",
       "    }\n",
       "</style>\n",
       "<table border=\"1\" class=\"dataframe\">\n",
       "  <thead>\n",
       "    <tr style=\"text-align: right;\">\n",
       "      <th></th>\n",
       "      <th>Player</th>\n",
       "      <th>Season</th>\n",
       "      <th>Team</th>\n",
       "      <th>Position</th>\n",
       "      <th>GP</th>\n",
       "      <th>TOI</th>\n",
       "      <th>GA</th>\n",
       "      <th>SA</th>\n",
       "      <th>FA</th>\n",
       "      <th>xGA</th>\n",
       "      <th>Sv%</th>\n",
       "      <th>FSv%</th>\n",
       "      <th>xFSv%</th>\n",
       "      <th>dFSv%</th>\n",
       "      <th>GSAA</th>\n",
       "      <th>GSAx</th>\n",
       "      <th>GSAx/60</th>\n",
       "      <th>GA/100 xGA</th>\n",
       "    </tr>\n",
       "  </thead>\n",
       "  <tbody>\n",
       "    <tr>\n",
       "      <th>1</th>\n",
       "      <td>Hill</td>\n",
       "      <td>22-24</td>\n",
       "      <td>VGK</td>\n",
       "      <td>G</td>\n",
       "      <td>19</td>\n",
       "      <td>1089.61</td>\n",
       "      <td>37.67</td>\n",
       "      <td>545.99</td>\n",
       "      <td>783.10</td>\n",
       "      <td>54.27</td>\n",
       "      <td>93.10</td>\n",
       "      <td>95.19</td>\n",
       "      <td>93.07</td>\n",
       "      <td>2.12</td>\n",
       "      <td>14.85</td>\n",
       "      <td>16.60</td>\n",
       "      <td>0.91</td>\n",
       "      <td>69.0</td>\n",
       "    </tr>\n",
       "    <tr>\n",
       "      <th>7</th>\n",
       "      <td>Georgiev</td>\n",
       "      <td>22-24</td>\n",
       "      <td>COL</td>\n",
       "      <td>G</td>\n",
       "      <td>15</td>\n",
       "      <td>899.70</td>\n",
       "      <td>41.65</td>\n",
       "      <td>429.75</td>\n",
       "      <td>628.54</td>\n",
       "      <td>40.65</td>\n",
       "      <td>90.31</td>\n",
       "      <td>93.37</td>\n",
       "      <td>93.53</td>\n",
       "      <td>-0.16</td>\n",
       "      <td>0.07</td>\n",
       "      <td>-1.00</td>\n",
       "      <td>-0.07</td>\n",
       "      <td>102.0</td>\n",
       "    </tr>\n",
       "    <tr>\n",
       "      <th>12</th>\n",
       "      <td>Khudobin</td>\n",
       "      <td>18-20</td>\n",
       "      <td>DAL</td>\n",
       "      <td>G</td>\n",
       "      <td>25</td>\n",
       "      <td>1440.21</td>\n",
       "      <td>66.45</td>\n",
       "      <td>803.51</td>\n",
       "      <td>1085.03</td>\n",
       "      <td>76.72</td>\n",
       "      <td>91.73</td>\n",
       "      <td>93.88</td>\n",
       "      <td>92.93</td>\n",
       "      <td>0.95</td>\n",
       "      <td>1.02</td>\n",
       "      <td>10.27</td>\n",
       "      <td>0.43</td>\n",
       "      <td>87.0</td>\n",
       "    </tr>\n",
       "    <tr>\n",
       "      <th>13</th>\n",
       "      <td>Niemi</td>\n",
       "      <td>09-10</td>\n",
       "      <td>CHI</td>\n",
       "      <td>G</td>\n",
       "      <td>22</td>\n",
       "      <td>1321.85</td>\n",
       "      <td>58.18</td>\n",
       "      <td>640.42</td>\n",
       "      <td>894.93</td>\n",
       "      <td>59.24</td>\n",
       "      <td>90.92</td>\n",
       "      <td>93.50</td>\n",
       "      <td>93.38</td>\n",
       "      <td>0.12</td>\n",
       "      <td>0.82</td>\n",
       "      <td>1.06</td>\n",
       "      <td>0.05</td>\n",
       "      <td>98.0</td>\n",
       "    </tr>\n",
       "    <tr>\n",
       "      <th>14</th>\n",
       "      <td>Niemi</td>\n",
       "      <td>10-14</td>\n",
       "      <td>S.J</td>\n",
       "      <td>G</td>\n",
       "      <td>40</td>\n",
       "      <td>2340.00</td>\n",
       "      <td>108.72</td>\n",
       "      <td>1145.15</td>\n",
       "      <td>1612.58</td>\n",
       "      <td>92.93</td>\n",
       "      <td>90.51</td>\n",
       "      <td>93.26</td>\n",
       "      <td>94.24</td>\n",
       "      <td>-0.98</td>\n",
       "      <td>-14.29</td>\n",
       "      <td>-15.79</td>\n",
       "      <td>-0.40</td>\n",
       "      <td>117.0</td>\n",
       "    </tr>\n",
       "  </tbody>\n",
       "</table>\n",
       "</div>"
      ],
      "text/plain": [
       "      Player Season Team Position  GP      TOI      GA       SA       FA  \\\n",
       "1       Hill  22-24  VGK        G  19  1089.61   37.67   545.99   783.10   \n",
       "7   Georgiev  22-24  COL        G  15   899.70   41.65   429.75   628.54   \n",
       "12  Khudobin  18-20  DAL        G  25  1440.21   66.45   803.51  1085.03   \n",
       "13     Niemi  09-10  CHI        G  22  1321.85   58.18   640.42   894.93   \n",
       "14     Niemi  10-14  S.J        G  40  2340.00  108.72  1145.15  1612.58   \n",
       "\n",
       "      xGA    Sv%   FSv%  xFSv%  dFSv%   GSAA   GSAx  GSAx/60  GA/100 xGA  \n",
       "1   54.27  93.10  95.19  93.07   2.12  14.85  16.60     0.91        69.0  \n",
       "7   40.65  90.31  93.37  93.53  -0.16   0.07  -1.00    -0.07       102.0  \n",
       "12  76.72  91.73  93.88  92.93   0.95   1.02  10.27     0.43        87.0  \n",
       "13  59.24  90.92  93.50  93.38   0.12   0.82   1.06     0.05        98.0  \n",
       "14  92.93  90.51  93.26  94.24  -0.98 -14.29 -15.79    -0.40       117.0  "
      ]
     },
     "execution_count": 296,
     "metadata": {},
     "output_type": "execute_result"
    }
   ],
   "source": [
    "data[\"GA/100 xGA\"] = round((100 * data[\"GA\"] / data[\"xGA\"]))\n",
    "data.head()"
   ]
  },
  {
   "cell_type": "code",
   "execution_count": 297,
   "metadata": {},
   "outputs": [
    {
     "data": {
      "text/html": [
       "<div>\n",
       "<style scoped>\n",
       "    .dataframe tbody tr th:only-of-type {\n",
       "        vertical-align: middle;\n",
       "    }\n",
       "\n",
       "    .dataframe tbody tr th {\n",
       "        vertical-align: top;\n",
       "    }\n",
       "\n",
       "    .dataframe thead th {\n",
       "        text-align: right;\n",
       "    }\n",
       "</style>\n",
       "<table border=\"1\" class=\"dataframe\">\n",
       "  <thead>\n",
       "    <tr style=\"text-align: right;\">\n",
       "      <th></th>\n",
       "      <th>Player</th>\n",
       "      <th>Season</th>\n",
       "      <th>Team</th>\n",
       "      <th>Position</th>\n",
       "      <th>GP</th>\n",
       "      <th>TOI</th>\n",
       "      <th>GA</th>\n",
       "      <th>SA</th>\n",
       "      <th>FA</th>\n",
       "      <th>xGA</th>\n",
       "      <th>Sv%</th>\n",
       "      <th>FSv%</th>\n",
       "      <th>xFSv%</th>\n",
       "      <th>dFSv%</th>\n",
       "      <th>GSAA</th>\n",
       "      <th>GSAx</th>\n",
       "      <th>GSAx/60</th>\n",
       "      <th>GA/100 xGA</th>\n",
       "    </tr>\n",
       "  </thead>\n",
       "  <tbody>\n",
       "    <tr>\n",
       "      <th>1</th>\n",
       "      <td>Hill</td>\n",
       "      <td>22-24</td>\n",
       "      <td>VGK</td>\n",
       "      <td>G</td>\n",
       "      <td>19</td>\n",
       "      <td>1089.61</td>\n",
       "      <td>37.67</td>\n",
       "      <td>545.99</td>\n",
       "      <td>783.10</td>\n",
       "      <td>54.27</td>\n",
       "      <td>93.10</td>\n",
       "      <td>95.19</td>\n",
       "      <td>93.07</td>\n",
       "      <td>2.12</td>\n",
       "      <td>14.85</td>\n",
       "      <td>16.60</td>\n",
       "      <td>0.91</td>\n",
       "      <td>69.0</td>\n",
       "    </tr>\n",
       "    <tr>\n",
       "      <th>7</th>\n",
       "      <td>Georgiev</td>\n",
       "      <td>22-24</td>\n",
       "      <td>COL</td>\n",
       "      <td>G</td>\n",
       "      <td>15</td>\n",
       "      <td>899.70</td>\n",
       "      <td>41.65</td>\n",
       "      <td>429.75</td>\n",
       "      <td>628.54</td>\n",
       "      <td>40.65</td>\n",
       "      <td>90.31</td>\n",
       "      <td>93.37</td>\n",
       "      <td>93.53</td>\n",
       "      <td>-0.16</td>\n",
       "      <td>0.07</td>\n",
       "      <td>-1.00</td>\n",
       "      <td>-0.07</td>\n",
       "      <td>102.0</td>\n",
       "    </tr>\n",
       "    <tr>\n",
       "      <th>12</th>\n",
       "      <td>Khudobin</td>\n",
       "      <td>18-20</td>\n",
       "      <td>DAL</td>\n",
       "      <td>G</td>\n",
       "      <td>25</td>\n",
       "      <td>1440.21</td>\n",
       "      <td>66.45</td>\n",
       "      <td>803.51</td>\n",
       "      <td>1085.03</td>\n",
       "      <td>76.72</td>\n",
       "      <td>91.73</td>\n",
       "      <td>93.88</td>\n",
       "      <td>92.93</td>\n",
       "      <td>0.95</td>\n",
       "      <td>1.02</td>\n",
       "      <td>10.27</td>\n",
       "      <td>0.43</td>\n",
       "      <td>87.0</td>\n",
       "    </tr>\n",
       "    <tr>\n",
       "      <th>13</th>\n",
       "      <td>Niemi (CHI)</td>\n",
       "      <td>09-10</td>\n",
       "      <td>CHI</td>\n",
       "      <td>G</td>\n",
       "      <td>22</td>\n",
       "      <td>1321.85</td>\n",
       "      <td>58.18</td>\n",
       "      <td>640.42</td>\n",
       "      <td>894.93</td>\n",
       "      <td>59.24</td>\n",
       "      <td>90.92</td>\n",
       "      <td>93.50</td>\n",
       "      <td>93.38</td>\n",
       "      <td>0.12</td>\n",
       "      <td>0.82</td>\n",
       "      <td>1.06</td>\n",
       "      <td>0.05</td>\n",
       "      <td>98.0</td>\n",
       "    </tr>\n",
       "    <tr>\n",
       "      <th>14</th>\n",
       "      <td>Niemi (S.J)</td>\n",
       "      <td>10-14</td>\n",
       "      <td>S.J</td>\n",
       "      <td>G</td>\n",
       "      <td>40</td>\n",
       "      <td>2340.00</td>\n",
       "      <td>108.72</td>\n",
       "      <td>1145.15</td>\n",
       "      <td>1612.58</td>\n",
       "      <td>92.93</td>\n",
       "      <td>90.51</td>\n",
       "      <td>93.26</td>\n",
       "      <td>94.24</td>\n",
       "      <td>-0.98</td>\n",
       "      <td>-14.29</td>\n",
       "      <td>-15.79</td>\n",
       "      <td>-0.40</td>\n",
       "      <td>117.0</td>\n",
       "    </tr>\n",
       "    <tr>\n",
       "      <th>...</th>\n",
       "      <td>...</td>\n",
       "      <td>...</td>\n",
       "      <td>...</td>\n",
       "      <td>...</td>\n",
       "      <td>...</td>\n",
       "      <td>...</td>\n",
       "      <td>...</td>\n",
       "      <td>...</td>\n",
       "      <td>...</td>\n",
       "      <td>...</td>\n",
       "      <td>...</td>\n",
       "      <td>...</td>\n",
       "      <td>...</td>\n",
       "      <td>...</td>\n",
       "      <td>...</td>\n",
       "      <td>...</td>\n",
       "      <td>...</td>\n",
       "      <td>...</td>\n",
       "    </tr>\n",
       "    <tr>\n",
       "      <th>165</th>\n",
       "      <td>Bobrovsky (CBJ)</td>\n",
       "      <td>13-19</td>\n",
       "      <td>CBJ</td>\n",
       "      <td>G</td>\n",
       "      <td>27</td>\n",
       "      <td>1725.25</td>\n",
       "      <td>87.71</td>\n",
       "      <td>959.49</td>\n",
       "      <td>1283.73</td>\n",
       "      <td>76.31</td>\n",
       "      <td>90.86</td>\n",
       "      <td>93.17</td>\n",
       "      <td>94.06</td>\n",
       "      <td>-0.89</td>\n",
       "      <td>-6.01</td>\n",
       "      <td>-11.40</td>\n",
       "      <td>-0.40</td>\n",
       "      <td>115.0</td>\n",
       "    </tr>\n",
       "    <tr>\n",
       "      <th>166</th>\n",
       "      <td>Bobrovsky (FLA)</td>\n",
       "      <td>19-24</td>\n",
       "      <td>FLA</td>\n",
       "      <td>G</td>\n",
       "      <td>45</td>\n",
       "      <td>2650.88</td>\n",
       "      <td>125.95</td>\n",
       "      <td>1348.89</td>\n",
       "      <td>1954.21</td>\n",
       "      <td>143.12</td>\n",
       "      <td>90.66</td>\n",
       "      <td>93.55</td>\n",
       "      <td>92.68</td>\n",
       "      <td>0.88</td>\n",
       "      <td>-1.45</td>\n",
       "      <td>17.17</td>\n",
       "      <td>0.39</td>\n",
       "      <td>88.0</td>\n",
       "    </tr>\n",
       "    <tr>\n",
       "      <th>170</th>\n",
       "      <td>Skinner</td>\n",
       "      <td>22-24</td>\n",
       "      <td>EDM</td>\n",
       "      <td>G</td>\n",
       "      <td>20</td>\n",
       "      <td>1084.12</td>\n",
       "      <td>62.47</td>\n",
       "      <td>507.53</td>\n",
       "      <td>700.13</td>\n",
       "      <td>49.61</td>\n",
       "      <td>87.69</td>\n",
       "      <td>91.08</td>\n",
       "      <td>92.91</td>\n",
       "      <td>-1.84</td>\n",
       "      <td>-13.34</td>\n",
       "      <td>-12.86</td>\n",
       "      <td>-0.71</td>\n",
       "      <td>126.0</td>\n",
       "    </tr>\n",
       "    <tr>\n",
       "      <th>172</th>\n",
       "      <td>Greiss</td>\n",
       "      <td>15-20</td>\n",
       "      <td>NYI</td>\n",
       "      <td>G</td>\n",
       "      <td>16</td>\n",
       "      <td>947.70</td>\n",
       "      <td>37.65</td>\n",
       "      <td>486.98</td>\n",
       "      <td>682.97</td>\n",
       "      <td>38.92</td>\n",
       "      <td>92.27</td>\n",
       "      <td>94.49</td>\n",
       "      <td>94.30</td>\n",
       "      <td>0.19</td>\n",
       "      <td>2.91</td>\n",
       "      <td>1.27</td>\n",
       "      <td>0.08</td>\n",
       "      <td>97.0</td>\n",
       "    </tr>\n",
       "    <tr>\n",
       "      <th>173</th>\n",
       "      <td>Thomas</td>\n",
       "      <td>07-12</td>\n",
       "      <td>BOS</td>\n",
       "      <td>G</td>\n",
       "      <td>50</td>\n",
       "      <td>3099.76</td>\n",
       "      <td>106.23</td>\n",
       "      <td>1584.07</td>\n",
       "      <td>2081.05</td>\n",
       "      <td>112.37</td>\n",
       "      <td>93.29</td>\n",
       "      <td>94.90</td>\n",
       "      <td>94.60</td>\n",
       "      <td>0.30</td>\n",
       "      <td>27.16</td>\n",
       "      <td>6.14</td>\n",
       "      <td>0.12</td>\n",
       "      <td>95.0</td>\n",
       "    </tr>\n",
       "  </tbody>\n",
       "</table>\n",
       "<p>63 rows × 18 columns</p>\n",
       "</div>"
      ],
      "text/plain": [
       "              Player Season Team Position  GP      TOI      GA       SA  \\\n",
       "1               Hill  22-24  VGK        G  19  1089.61   37.67   545.99   \n",
       "7           Georgiev  22-24  COL        G  15   899.70   41.65   429.75   \n",
       "12          Khudobin  18-20  DAL        G  25  1440.21   66.45   803.51   \n",
       "13       Niemi (CHI)  09-10  CHI        G  22  1321.85   58.18   640.42   \n",
       "14       Niemi (S.J)  10-14  S.J        G  40  2340.00  108.72  1145.15   \n",
       "..               ...    ...  ...      ...  ..      ...     ...      ...   \n",
       "165  Bobrovsky (CBJ)  13-19  CBJ        G  27  1725.25   87.71   959.49   \n",
       "166  Bobrovsky (FLA)  19-24  FLA        G  45  2650.88  125.95  1348.89   \n",
       "170          Skinner  22-24  EDM        G  20  1084.12   62.47   507.53   \n",
       "172           Greiss  15-20  NYI        G  16   947.70   37.65   486.98   \n",
       "173           Thomas  07-12  BOS        G  50  3099.76  106.23  1584.07   \n",
       "\n",
       "          FA     xGA    Sv%   FSv%  xFSv%  dFSv%   GSAA   GSAx  GSAx/60  \\\n",
       "1     783.10   54.27  93.10  95.19  93.07   2.12  14.85  16.60     0.91   \n",
       "7     628.54   40.65  90.31  93.37  93.53  -0.16   0.07  -1.00    -0.07   \n",
       "12   1085.03   76.72  91.73  93.88  92.93   0.95   1.02  10.27     0.43   \n",
       "13    894.93   59.24  90.92  93.50  93.38   0.12   0.82   1.06     0.05   \n",
       "14   1612.58   92.93  90.51  93.26  94.24  -0.98 -14.29 -15.79    -0.40   \n",
       "..       ...     ...    ...    ...    ...    ...    ...    ...      ...   \n",
       "165  1283.73   76.31  90.86  93.17  94.06  -0.89  -6.01 -11.40    -0.40   \n",
       "166  1954.21  143.12  90.66  93.55  92.68   0.88  -1.45  17.17     0.39   \n",
       "170   700.13   49.61  87.69  91.08  92.91  -1.84 -13.34 -12.86    -0.71   \n",
       "172   682.97   38.92  92.27  94.49  94.30   0.19   2.91   1.27     0.08   \n",
       "173  2081.05  112.37  93.29  94.90  94.60   0.30  27.16   6.14     0.12   \n",
       "\n",
       "     GA/100 xGA  \n",
       "1          69.0  \n",
       "7         102.0  \n",
       "12         87.0  \n",
       "13         98.0  \n",
       "14        117.0  \n",
       "..          ...  \n",
       "165       115.0  \n",
       "166        88.0  \n",
       "170       126.0  \n",
       "172        97.0  \n",
       "173        95.0  \n",
       "\n",
       "[63 rows x 18 columns]"
      ]
     },
     "execution_count": 297,
     "metadata": {},
     "output_type": "execute_result"
    }
   ],
   "source": [
    "i = 0\n",
    "dataCopy = data.copy()\n",
    "\n",
    "for row in dataCopy['Player']:\n",
    "    if dataCopy['Player'].value_counts()[row] > 1:\n",
    "        data.iloc[i, 0] = f'{data.iloc[i, 0]} ({data.iloc[i, 2]})'\n",
    "    i += 1\n",
    "        \n",
    "data"
   ]
  },
  {
   "cell_type": "code",
   "execution_count": 298,
   "metadata": {},
   "outputs": [
    {
     "name": "stdout",
     "output_type": "stream",
     "text": [
      "Hill\n",
      "Georgiev\n",
      "Khudobin\n",
      "Niemi (CHI)\n",
      "Niemi (S.J)\n",
      "Raanta\n",
      "Bishop (T.B)\n",
      "Bishop (DAL)\n",
      "Boucher\n",
      "Elliott\n",
      "Talbot\n",
      "Ward\n",
      "Hart\n",
      "Osgood\n",
      "Hellebuyck\n",
      "Anderson\n",
      "Kuemper\n",
      "Dubnyk\n",
      "Roloson\n",
      "Nabokov\n",
      "Andersen (ANA)\n",
      "Andersen (TOR)\n",
      "Andersen (CAR)\n",
      "Shesterkin\n",
      "Samsonov\n",
      "Sorokin\n",
      "Campbell\n",
      "Markstrom\n",
      "Allen\n",
      "Oettinger\n",
      "Halak\n",
      "Swayman\n",
      "Howard\n",
      "Gibson\n",
      "Hiller\n",
      "Binnington\n",
      "Saros\n",
      "Lehtonen\n",
      "Fleury\n",
      "Biron\n",
      "Brodeur\n",
      "Jones\n",
      "Turco\n",
      "Murray\n",
      "Leighton\n",
      "Kiprusoff\n",
      "Smith (ARI)\n",
      "Smith (EDM)\n",
      "Khabibulin\n",
      "Francouz\n",
      "Mrazek\n",
      "Grubauer (COL)\n",
      "Grubauer (SEA)\n",
      "Luongo\n",
      "Lehner\n",
      "Miller\n",
      "Varlamov (WSH)\n",
      "Varlamov (NYI)\n",
      "Bobrovsky (CBJ)\n",
      "Bobrovsky (FLA)\n",
      "Skinner\n",
      "Greiss\n",
      "Thomas\n"
     ]
    }
   ],
   "source": [
    "for row in data.index:\n",
    "    print(data.loc[row, 'Player'])"
   ]
  },
  {
   "cell_type": "code",
   "execution_count": 299,
   "metadata": {},
   "outputs": [
    {
     "data": {
      "application/vnd.plotly.v1+json": {
       "config": {
        "plotlyServerURL": "https://plot.ly"
       },
       "data": [
        {
         "hovertemplate": "GP=%{x}<br>GSAx=%{y}<extra></extra>",
         "legendgroup": "",
         "marker": {
          "color": "#636efa",
          "symbol": "circle"
         },
         "mode": "markers",
         "name": "",
         "orientation": "v",
         "showlegend": false,
         "type": "scatter",
         "x": [
          19,
          15,
          25,
          22,
          40,
          19,
          36,
          16,
          21,
          33,
          13,
          17,
          14,
          42,
          45,
          40,
          16,
          26,
          17,
          34,
          28,
          25,
          17,
          36,
          14,
          14,
          14,
          14,
          28,
          38,
          20,
          18,
          48,
          26,
          26,
          41,
          23,
          17,
          47,
          22,
          41,
          60,
          18,
          51,
          16,
          13,
          16,
          21,
          15,
          13,
          18,
          29,
          14,
          52,
          19,
          13,
          19,
          39,
          27,
          45,
          20,
          16,
          50
         ],
         "xaxis": "x",
         "y": [
          16.6,
          -1,
          10.27,
          1.06,
          -15.79,
          8.2,
          7.05,
          1.6,
          -3.48,
          7.46,
          7.11,
          1.22,
          6.68,
          5.53,
          2.25,
          11.38,
          -7.29,
          -15.43,
          -2.2,
          -11.17,
          0.5,
          -5.8,
          9.83,
          40.92,
          -1.67,
          3,
          1.74,
          5.83,
          3.8,
          9.61,
          6.8,
          8.52,
          4.08,
          10.28,
          17.75,
          -2.49,
          -1.55,
          -5.57,
          17.64,
          -2.17,
          -0.94,
          13.3,
          -0.05,
          6.87,
          1.24,
          -6.27,
          14.7,
          -2.53,
          -8.15,
          0.23,
          -0.8,
          1.77,
          2.49,
          -5.58,
          1.63,
          4.53,
          -0.42,
          10.69,
          -11.4,
          17.17,
          -12.86,
          1.27,
          6.14
         ],
         "yaxis": "y"
        }
       ],
       "layout": {
        "annotations": [
         {
          "bgcolor": "#B4975A",
          "borderpad": 2.5,
          "font": {
           "color": "#000000",
           "size": 11
          },
          "name": "Team",
          "opacity": 0.8,
          "showarrow": false,
          "text": "Hill",
          "x": 19,
          "y": 16.6
         },
         {
          "bgcolor": "#6F263D",
          "borderpad": 2.5,
          "font": {
           "color": "#ffffff",
           "size": 11
          },
          "name": "Team",
          "opacity": 0.8,
          "showarrow": false,
          "text": "Georgiev",
          "x": 15,
          "y": -1
         },
         {
          "bgcolor": "#006847",
          "borderpad": 2.5,
          "font": {
           "color": "#ffffff",
           "size": 11
          },
          "name": "Team",
          "opacity": 0.8,
          "showarrow": false,
          "text": "Khudobin",
          "x": 25,
          "y": 10.27
         },
         {
          "bgcolor": "#af2c1b",
          "borderpad": 2.5,
          "font": {
           "color": "#ffffff",
           "size": 11
          },
          "name": "Team",
          "opacity": 0.8,
          "showarrow": false,
          "text": "Niemi (CHI)",
          "x": 22,
          "y": 1.06
         },
         {
          "bgcolor": "#006D75",
          "borderpad": 2.5,
          "font": {
           "color": "#ffffff",
           "size": 11
          },
          "name": "Team",
          "opacity": 0.8,
          "showarrow": false,
          "text": "Niemi (S.J)",
          "x": 40,
          "y": -15.79
         },
         {
          "bgcolor": "#CE1126",
          "borderpad": 2.5,
          "font": {
           "color": "#ffffff",
           "size": 11
          },
          "name": "Team",
          "opacity": 0.8,
          "showarrow": false,
          "text": "Raanta",
          "x": 19,
          "y": 8.2
         },
         {
          "bgcolor": "#002868",
          "borderpad": 2.5,
          "font": {
           "color": "#ffffff",
           "size": 11
          },
          "name": "Team",
          "opacity": 0.8,
          "showarrow": false,
          "text": "Bishop (T.B)",
          "x": 36,
          "y": 7.05
         },
         {
          "bgcolor": "#006847",
          "borderpad": 2.5,
          "font": {
           "color": "#ffffff",
           "size": 11
          },
          "name": "Team",
          "opacity": 0.8,
          "showarrow": false,
          "text": "Bishop (DAL)",
          "x": 16,
          "y": 1.6
         },
         {
          "bgcolor": "#F74902",
          "borderpad": 2.5,
          "font": {
           "color": "#ffffff",
           "size": 11
          },
          "name": "Team",
          "opacity": 0.8,
          "showarrow": false,
          "text": "Boucher",
          "x": 21,
          "y": -3.48
         },
         {
          "bgcolor": "#041E42",
          "borderpad": 2.5,
          "font": {
           "color": "#ffffff",
           "size": 11
          },
          "name": "Team",
          "opacity": 0.8,
          "showarrow": false,
          "text": "Elliott",
          "x": 33,
          "y": 7.46
         },
         {
          "bgcolor": "#FF4C00",
          "borderpad": 2.5,
          "font": {
           "color": "#ffffff",
           "size": 11
          },
          "name": "Team",
          "opacity": 0.8,
          "showarrow": false,
          "text": "Talbot",
          "x": 13,
          "y": 7.11
         },
         {
          "bgcolor": "#CE1126",
          "borderpad": 2.5,
          "font": {
           "color": "#ffffff",
           "size": 11
          },
          "name": "Team",
          "opacity": 0.8,
          "showarrow": false,
          "text": "Ward",
          "x": 17,
          "y": 1.22
         },
         {
          "bgcolor": "#F74902",
          "borderpad": 2.5,
          "font": {
           "color": "#ffffff",
           "size": 11
          },
          "name": "Team",
          "opacity": 0.8,
          "showarrow": false,
          "text": "Hart",
          "x": 14,
          "y": 6.68
         },
         {
          "bgcolor": "#d52b3f",
          "borderpad": 2.5,
          "font": {
           "color": "#ffffff",
           "size": 11
          },
          "name": "Team",
          "opacity": 0.8,
          "showarrow": false,
          "text": "Osgood",
          "x": 42,
          "y": 5.53
         },
         {
          "bgcolor": "#041E42",
          "borderpad": 2.5,
          "font": {
           "color": "#ffffff",
           "size": 11
          },
          "name": "Team",
          "opacity": 0.8,
          "showarrow": false,
          "text": "Hellebuyck",
          "x": 45,
          "y": 2.25
         },
         {
          "bgcolor": "#b12323",
          "borderpad": 2.5,
          "font": {
           "color": "#ffffff",
           "size": 11
          },
          "name": "Team",
          "opacity": 0.8,
          "showarrow": false,
          "text": "Anderson",
          "x": 40,
          "y": 11.38
         },
         {
          "bgcolor": "#6F263D",
          "borderpad": 2.5,
          "font": {
           "color": "#ffffff",
           "size": 11
          },
          "name": "Team",
          "opacity": 0.8,
          "showarrow": false,
          "text": "Kuemper",
          "x": 16,
          "y": -7.29
         },
         {
          "bgcolor": "#154734",
          "borderpad": 2.5,
          "font": {
           "color": "#ffffff",
           "size": 11
          },
          "name": "Team",
          "opacity": 0.8,
          "showarrow": false,
          "text": "Dubnyk",
          "x": 26,
          "y": -15.43
         },
         {
          "bgcolor": "#002868",
          "borderpad": 2.5,
          "font": {
           "color": "#ffffff",
           "size": 11
          },
          "name": "Team",
          "opacity": 0.8,
          "showarrow": false,
          "text": "Roloson",
          "x": 17,
          "y": -2.2
         },
         {
          "bgcolor": "#006D75",
          "borderpad": 2.5,
          "font": {
           "color": "#ffffff",
           "size": 11
          },
          "name": "Team",
          "opacity": 0.8,
          "showarrow": false,
          "text": "Nabokov",
          "x": 34,
          "y": -11.17
         },
         {
          "bgcolor": "#F47A38",
          "borderpad": 2.5,
          "font": {
           "color": "#ffffff",
           "size": 11
          },
          "name": "Team",
          "opacity": 0.8,
          "showarrow": false,
          "text": "Andersen (ANA)",
          "x": 28,
          "y": 0.5
         },
         {
          "bgcolor": "#00205B",
          "borderpad": 2.5,
          "font": {
           "color": "#ffffff",
           "size": 11
          },
          "name": "Team",
          "opacity": 0.8,
          "showarrow": false,
          "text": "Andersen (TOR)",
          "x": 25,
          "y": -5.8
         },
         {
          "bgcolor": "#CE1126",
          "borderpad": 2.5,
          "font": {
           "color": "#ffffff",
           "size": 11
          },
          "name": "Team",
          "opacity": 0.8,
          "showarrow": false,
          "text": "Andersen (CAR)",
          "x": 17,
          "y": 9.83
         },
         {
          "bgcolor": "#0038A8",
          "borderpad": 2.5,
          "font": {
           "color": "#ffffff",
           "size": 11
          },
          "name": "Team",
          "opacity": 0.8,
          "showarrow": false,
          "text": "Shesterkin",
          "x": 36,
          "y": 40.92
         },
         {
          "bgcolor": "#00205B",
          "borderpad": 2.5,
          "font": {
           "color": "#ffffff",
           "size": 11
          },
          "name": "Team",
          "opacity": 0.8,
          "showarrow": false,
          "text": "Samsonov",
          "x": 14,
          "y": -1.67
         },
         {
          "bgcolor": "#F47D30",
          "borderpad": 2.5,
          "font": {
           "color": "#ffffff",
           "size": 11
          },
          "name": "Team",
          "opacity": 0.8,
          "showarrow": false,
          "text": "Sorokin",
          "x": 14,
          "y": 3
         },
         {
          "bgcolor": "#00205B",
          "borderpad": 2.5,
          "font": {
           "color": "#ffffff",
           "size": 11
          },
          "name": "Team",
          "opacity": 0.8,
          "showarrow": false,
          "text": "Campbell",
          "x": 14,
          "y": 1.74
         },
         {
          "bgcolor": "#173d83",
          "borderpad": 2.5,
          "font": {
           "color": "#ffffff",
           "size": 11
          },
          "name": "Team",
          "opacity": 0.8,
          "showarrow": false,
          "text": "Markstrom",
          "x": 14,
          "y": 5.83
         },
         {
          "bgcolor": "#041E42",
          "borderpad": 2.5,
          "font": {
           "color": "#ffffff",
           "size": 11
          },
          "name": "Team",
          "opacity": 0.8,
          "showarrow": false,
          "text": "Allen",
          "x": 28,
          "y": 3.8
         },
         {
          "bgcolor": "#006847",
          "borderpad": 2.5,
          "font": {
           "color": "#ffffff",
           "size": 11
          },
          "name": "Team",
          "opacity": 0.8,
          "showarrow": false,
          "text": "Oettinger",
          "x": 38,
          "y": 9.61
         },
         {
          "bgcolor": "#AF1E2D",
          "borderpad": 2.5,
          "font": {
           "color": "#ffffff",
           "size": 11
          },
          "name": "Team",
          "opacity": 0.8,
          "showarrow": false,
          "text": "Halak",
          "x": 20,
          "y": 6.8
         },
         {
          "bgcolor": "#FFB81C",
          "borderpad": 2.5,
          "font": {
           "color": "#000000",
           "size": 11
          },
          "name": "Team",
          "opacity": 0.8,
          "showarrow": false,
          "text": "Swayman",
          "x": 18,
          "y": 8.52
         },
         {
          "bgcolor": "#d52b3f",
          "borderpad": 2.5,
          "font": {
           "color": "#ffffff",
           "size": 11
          },
          "name": "Team",
          "opacity": 0.8,
          "showarrow": false,
          "text": "Howard",
          "x": 48,
          "y": 4.08
         },
         {
          "bgcolor": "#F47A38",
          "borderpad": 2.5,
          "font": {
           "color": "#ffffff",
           "size": 11
          },
          "name": "Team",
          "opacity": 0.8,
          "showarrow": false,
          "text": "Gibson",
          "x": 26,
          "y": 10.28
         },
         {
          "bgcolor": "#F47A38",
          "borderpad": 2.5,
          "font": {
           "color": "#ffffff",
           "size": 11
          },
          "name": "Team",
          "opacity": 0.8,
          "showarrow": false,
          "text": "Hiller",
          "x": 26,
          "y": 17.75
         },
         {
          "bgcolor": "#041E42",
          "borderpad": 2.5,
          "font": {
           "color": "#ffffff",
           "size": 11
          },
          "name": "Team",
          "opacity": 0.8,
          "showarrow": false,
          "text": "Binnington",
          "x": 41,
          "y": -2.49
         },
         {
          "bgcolor": "#FFB81C",
          "borderpad": 2.5,
          "font": {
           "color": "#000000",
           "size": 11
          },
          "name": "Team",
          "opacity": 0.8,
          "showarrow": false,
          "text": "Saros",
          "x": 23,
          "y": -1.55
         },
         {
          "bgcolor": "#006847",
          "borderpad": 2.5,
          "font": {
           "color": "#ffffff",
           "size": 11
          },
          "name": "Team",
          "opacity": 0.8,
          "showarrow": false,
          "text": "Lehtonen",
          "x": 17,
          "y": -5.57
         },
         {
          "bgcolor": "#B4975A",
          "borderpad": 2.5,
          "font": {
           "color": "#000000",
           "size": 11
          },
          "name": "Team",
          "opacity": 0.8,
          "showarrow": false,
          "text": "Fleury",
          "x": 47,
          "y": 17.64
         },
         {
          "bgcolor": "#F74902",
          "borderpad": 2.5,
          "font": {
           "color": "#ffffff",
           "size": 11
          },
          "name": "Team",
          "opacity": 0.8,
          "showarrow": false,
          "text": "Biron",
          "x": 22,
          "y": -2.17
         },
         {
          "bgcolor": "#CE1126",
          "borderpad": 2.5,
          "font": {
           "color": "#ffffff",
           "size": 11
          },
          "name": "Team",
          "opacity": 0.8,
          "showarrow": false,
          "text": "Brodeur",
          "x": 41,
          "y": -0.94
         },
         {
          "bgcolor": "#006D75",
          "borderpad": 2.5,
          "font": {
           "color": "#ffffff",
           "size": 11
          },
          "name": "Team",
          "opacity": 0.8,
          "showarrow": false,
          "text": "Jones",
          "x": 60,
          "y": 13.3
         },
         {
          "bgcolor": "#006847",
          "borderpad": 2.5,
          "font": {
           "color": "#ffffff",
           "size": 11
          },
          "name": "Team",
          "opacity": 0.8,
          "showarrow": false,
          "text": "Turco",
          "x": 18,
          "y": -0.05
         },
         {
          "bgcolor": "#FCB514",
          "borderpad": 2.5,
          "font": {
           "color": "#000000",
           "size": 11
          },
          "name": "Team",
          "opacity": 0.8,
          "showarrow": false,
          "text": "Murray",
          "x": 51,
          "y": 6.87
         },
         {
          "bgcolor": "#F74902",
          "borderpad": 2.5,
          "font": {
           "color": "#ffffff",
           "size": 11
          },
          "name": "Team",
          "opacity": 0.8,
          "showarrow": false,
          "text": "Leighton",
          "x": 16,
          "y": 1.24
         },
         {
          "bgcolor": "#d6300e",
          "borderpad": 2.5,
          "font": {
           "color": "#ffffff",
           "size": 11
          },
          "name": "Team",
          "opacity": 0.8,
          "showarrow": false,
          "text": "Kiprusoff",
          "x": 13,
          "y": -6.27
         },
         {
          "bgcolor": "#794848",
          "borderpad": 2.5,
          "font": {
           "color": "#ffffff",
           "size": 11
          },
          "name": "Team",
          "opacity": 0.8,
          "showarrow": false,
          "text": "Smith (ARI)",
          "x": 16,
          "y": 14.7
         },
         {
          "bgcolor": "#FF4C00",
          "borderpad": 2.5,
          "font": {
           "color": "#ffffff",
           "size": 11
          },
          "name": "Team",
          "opacity": 0.8,
          "showarrow": false,
          "text": "Smith (EDM)",
          "x": 21,
          "y": -2.53
         },
         {
          "bgcolor": "#af2c1b",
          "borderpad": 2.5,
          "font": {
           "color": "#ffffff",
           "size": 11
          },
          "name": "Team",
          "opacity": 0.8,
          "showarrow": false,
          "text": "Khabibulin",
          "x": 15,
          "y": -8.15
         },
         {
          "bgcolor": "#6F263D",
          "borderpad": 2.5,
          "font": {
           "color": "#ffffff",
           "size": 11
          },
          "name": "Team",
          "opacity": 0.8,
          "showarrow": false,
          "text": "Francouz",
          "x": 13,
          "y": 0.23
         },
         {
          "bgcolor": "#CE1126",
          "borderpad": 2.5,
          "font": {
           "color": "#ffffff",
           "size": 11
          },
          "name": "Team",
          "opacity": 0.8,
          "showarrow": false,
          "text": "Mrazek",
          "x": 18,
          "y": -0.8
         },
         {
          "bgcolor": "#6F263D",
          "borderpad": 2.5,
          "font": {
           "color": "#ffffff",
           "size": 11
          },
          "name": "Team",
          "opacity": 0.8,
          "showarrow": false,
          "text": "Grubauer (COL)",
          "x": 29,
          "y": 1.77
         },
         {
          "bgcolor": "#001628",
          "borderpad": 2.5,
          "font": {
           "color": "#ffffff",
           "size": 11
          },
          "name": "Team",
          "opacity": 0.8,
          "showarrow": false,
          "text": "Grubauer (SEA)",
          "x": 14,
          "y": 2.49
         },
         {
          "bgcolor": "#173d83",
          "borderpad": 2.5,
          "font": {
           "color": "#ffffff",
           "size": 11
          },
          "name": "Team",
          "opacity": 0.8,
          "showarrow": false,
          "text": "Luongo",
          "x": 52,
          "y": -5.58
         },
         {
          "bgcolor": "#B4975A",
          "borderpad": 2.5,
          "font": {
           "color": "#000000",
           "size": 11
          },
          "name": "Team",
          "opacity": 0.8,
          "showarrow": false,
          "text": "Lehner",
          "x": 19,
          "y": 1.63
         },
         {
          "bgcolor": "#003087",
          "borderpad": 2.5,
          "font": {
           "color": "#ffffff",
           "size": 11
          },
          "name": "Team",
          "opacity": 0.8,
          "showarrow": false,
          "text": "Miller",
          "x": 13,
          "y": 4.53
         },
         {
          "bgcolor": "#C8102E",
          "borderpad": 2.5,
          "font": {
           "color": "#ffffff",
           "size": 11
          },
          "name": "Team",
          "opacity": 0.8,
          "showarrow": false,
          "text": "Varlamov (WSH)",
          "x": 19,
          "y": -0.42
         },
         {
          "bgcolor": "#F47D30",
          "borderpad": 2.5,
          "font": {
           "color": "#ffffff",
           "size": 11
          },
          "name": "Team",
          "opacity": 0.8,
          "showarrow": false,
          "text": "Varlamov (NYI)",
          "x": 39,
          "y": 10.69
         },
         {
          "bgcolor": "#002654",
          "borderpad": 2.5,
          "font": {
           "color": "#ffffff",
           "size": 11
          },
          "name": "Team",
          "opacity": 0.8,
          "showarrow": false,
          "text": "Bobrovsky (CBJ)",
          "x": 27,
          "y": -11.4
         },
         {
          "bgcolor": "#C8102E",
          "borderpad": 2.5,
          "font": {
           "color": "#ffffff",
           "size": 11
          },
          "name": "Team",
          "opacity": 0.8,
          "showarrow": false,
          "text": "Bobrovsky (FLA)",
          "x": 45,
          "y": 17.17
         },
         {
          "bgcolor": "#FF4C00",
          "borderpad": 2.5,
          "font": {
           "color": "#ffffff",
           "size": 11
          },
          "name": "Team",
          "opacity": 0.8,
          "showarrow": false,
          "text": "Skinner",
          "x": 20,
          "y": -12.86
         },
         {
          "bgcolor": "#F47D30",
          "borderpad": 2.5,
          "font": {
           "color": "#ffffff",
           "size": 11
          },
          "name": "Team",
          "opacity": 0.8,
          "showarrow": false,
          "text": "Greiss",
          "x": 16,
          "y": 1.27
         },
         {
          "bgcolor": "#FFB81C",
          "borderpad": 2.5,
          "font": {
           "color": "#000000",
           "size": 11
          },
          "name": "Team",
          "opacity": 0.8,
          "showarrow": false,
          "text": "Thomas",
          "x": 50,
          "y": 6.14
         }
        ],
        "height": 750,
        "legend": {
         "tracegroupgap": 0
        },
        "margin": {
         "t": 60
        },
        "showlegend": false,
        "template": {
         "data": {
          "bar": [
           {
            "error_x": {
             "color": "#2a3f5f"
            },
            "error_y": {
             "color": "#2a3f5f"
            },
            "marker": {
             "line": {
              "color": "#E5ECF6",
              "width": 0.5
             },
             "pattern": {
              "fillmode": "overlay",
              "size": 10,
              "solidity": 0.2
             }
            },
            "type": "bar"
           }
          ],
          "barpolar": [
           {
            "marker": {
             "line": {
              "color": "#E5ECF6",
              "width": 0.5
             },
             "pattern": {
              "fillmode": "overlay",
              "size": 10,
              "solidity": 0.2
             }
            },
            "type": "barpolar"
           }
          ],
          "carpet": [
           {
            "aaxis": {
             "endlinecolor": "#2a3f5f",
             "gridcolor": "white",
             "linecolor": "white",
             "minorgridcolor": "white",
             "startlinecolor": "#2a3f5f"
            },
            "baxis": {
             "endlinecolor": "#2a3f5f",
             "gridcolor": "white",
             "linecolor": "white",
             "minorgridcolor": "white",
             "startlinecolor": "#2a3f5f"
            },
            "type": "carpet"
           }
          ],
          "choropleth": [
           {
            "colorbar": {
             "outlinewidth": 0,
             "ticks": ""
            },
            "type": "choropleth"
           }
          ],
          "contour": [
           {
            "colorbar": {
             "outlinewidth": 0,
             "ticks": ""
            },
            "colorscale": [
             [
              0,
              "#0d0887"
             ],
             [
              0.1111111111111111,
              "#46039f"
             ],
             [
              0.2222222222222222,
              "#7201a8"
             ],
             [
              0.3333333333333333,
              "#9c179e"
             ],
             [
              0.4444444444444444,
              "#bd3786"
             ],
             [
              0.5555555555555556,
              "#d8576b"
             ],
             [
              0.6666666666666666,
              "#ed7953"
             ],
             [
              0.7777777777777778,
              "#fb9f3a"
             ],
             [
              0.8888888888888888,
              "#fdca26"
             ],
             [
              1,
              "#f0f921"
             ]
            ],
            "type": "contour"
           }
          ],
          "contourcarpet": [
           {
            "colorbar": {
             "outlinewidth": 0,
             "ticks": ""
            },
            "type": "contourcarpet"
           }
          ],
          "heatmap": [
           {
            "colorbar": {
             "outlinewidth": 0,
             "ticks": ""
            },
            "colorscale": [
             [
              0,
              "#0d0887"
             ],
             [
              0.1111111111111111,
              "#46039f"
             ],
             [
              0.2222222222222222,
              "#7201a8"
             ],
             [
              0.3333333333333333,
              "#9c179e"
             ],
             [
              0.4444444444444444,
              "#bd3786"
             ],
             [
              0.5555555555555556,
              "#d8576b"
             ],
             [
              0.6666666666666666,
              "#ed7953"
             ],
             [
              0.7777777777777778,
              "#fb9f3a"
             ],
             [
              0.8888888888888888,
              "#fdca26"
             ],
             [
              1,
              "#f0f921"
             ]
            ],
            "type": "heatmap"
           }
          ],
          "heatmapgl": [
           {
            "colorbar": {
             "outlinewidth": 0,
             "ticks": ""
            },
            "colorscale": [
             [
              0,
              "#0d0887"
             ],
             [
              0.1111111111111111,
              "#46039f"
             ],
             [
              0.2222222222222222,
              "#7201a8"
             ],
             [
              0.3333333333333333,
              "#9c179e"
             ],
             [
              0.4444444444444444,
              "#bd3786"
             ],
             [
              0.5555555555555556,
              "#d8576b"
             ],
             [
              0.6666666666666666,
              "#ed7953"
             ],
             [
              0.7777777777777778,
              "#fb9f3a"
             ],
             [
              0.8888888888888888,
              "#fdca26"
             ],
             [
              1,
              "#f0f921"
             ]
            ],
            "type": "heatmapgl"
           }
          ],
          "histogram": [
           {
            "marker": {
             "pattern": {
              "fillmode": "overlay",
              "size": 10,
              "solidity": 0.2
             }
            },
            "type": "histogram"
           }
          ],
          "histogram2d": [
           {
            "colorbar": {
             "outlinewidth": 0,
             "ticks": ""
            },
            "colorscale": [
             [
              0,
              "#0d0887"
             ],
             [
              0.1111111111111111,
              "#46039f"
             ],
             [
              0.2222222222222222,
              "#7201a8"
             ],
             [
              0.3333333333333333,
              "#9c179e"
             ],
             [
              0.4444444444444444,
              "#bd3786"
             ],
             [
              0.5555555555555556,
              "#d8576b"
             ],
             [
              0.6666666666666666,
              "#ed7953"
             ],
             [
              0.7777777777777778,
              "#fb9f3a"
             ],
             [
              0.8888888888888888,
              "#fdca26"
             ],
             [
              1,
              "#f0f921"
             ]
            ],
            "type": "histogram2d"
           }
          ],
          "histogram2dcontour": [
           {
            "colorbar": {
             "outlinewidth": 0,
             "ticks": ""
            },
            "colorscale": [
             [
              0,
              "#0d0887"
             ],
             [
              0.1111111111111111,
              "#46039f"
             ],
             [
              0.2222222222222222,
              "#7201a8"
             ],
             [
              0.3333333333333333,
              "#9c179e"
             ],
             [
              0.4444444444444444,
              "#bd3786"
             ],
             [
              0.5555555555555556,
              "#d8576b"
             ],
             [
              0.6666666666666666,
              "#ed7953"
             ],
             [
              0.7777777777777778,
              "#fb9f3a"
             ],
             [
              0.8888888888888888,
              "#fdca26"
             ],
             [
              1,
              "#f0f921"
             ]
            ],
            "type": "histogram2dcontour"
           }
          ],
          "mesh3d": [
           {
            "colorbar": {
             "outlinewidth": 0,
             "ticks": ""
            },
            "type": "mesh3d"
           }
          ],
          "parcoords": [
           {
            "line": {
             "colorbar": {
              "outlinewidth": 0,
              "ticks": ""
             }
            },
            "type": "parcoords"
           }
          ],
          "pie": [
           {
            "automargin": true,
            "type": "pie"
           }
          ],
          "scatter": [
           {
            "fillpattern": {
             "fillmode": "overlay",
             "size": 10,
             "solidity": 0.2
            },
            "type": "scatter"
           }
          ],
          "scatter3d": [
           {
            "line": {
             "colorbar": {
              "outlinewidth": 0,
              "ticks": ""
             }
            },
            "marker": {
             "colorbar": {
              "outlinewidth": 0,
              "ticks": ""
             }
            },
            "type": "scatter3d"
           }
          ],
          "scattercarpet": [
           {
            "marker": {
             "colorbar": {
              "outlinewidth": 0,
              "ticks": ""
             }
            },
            "type": "scattercarpet"
           }
          ],
          "scattergeo": [
           {
            "marker": {
             "colorbar": {
              "outlinewidth": 0,
              "ticks": ""
             }
            },
            "type": "scattergeo"
           }
          ],
          "scattergl": [
           {
            "marker": {
             "colorbar": {
              "outlinewidth": 0,
              "ticks": ""
             }
            },
            "type": "scattergl"
           }
          ],
          "scattermapbox": [
           {
            "marker": {
             "colorbar": {
              "outlinewidth": 0,
              "ticks": ""
             }
            },
            "type": "scattermapbox"
           }
          ],
          "scatterpolar": [
           {
            "marker": {
             "colorbar": {
              "outlinewidth": 0,
              "ticks": ""
             }
            },
            "type": "scatterpolar"
           }
          ],
          "scatterpolargl": [
           {
            "marker": {
             "colorbar": {
              "outlinewidth": 0,
              "ticks": ""
             }
            },
            "type": "scatterpolargl"
           }
          ],
          "scatterternary": [
           {
            "marker": {
             "colorbar": {
              "outlinewidth": 0,
              "ticks": ""
             }
            },
            "type": "scatterternary"
           }
          ],
          "surface": [
           {
            "colorbar": {
             "outlinewidth": 0,
             "ticks": ""
            },
            "colorscale": [
             [
              0,
              "#0d0887"
             ],
             [
              0.1111111111111111,
              "#46039f"
             ],
             [
              0.2222222222222222,
              "#7201a8"
             ],
             [
              0.3333333333333333,
              "#9c179e"
             ],
             [
              0.4444444444444444,
              "#bd3786"
             ],
             [
              0.5555555555555556,
              "#d8576b"
             ],
             [
              0.6666666666666666,
              "#ed7953"
             ],
             [
              0.7777777777777778,
              "#fb9f3a"
             ],
             [
              0.8888888888888888,
              "#fdca26"
             ],
             [
              1,
              "#f0f921"
             ]
            ],
            "type": "surface"
           }
          ],
          "table": [
           {
            "cells": {
             "fill": {
              "color": "#EBF0F8"
             },
             "line": {
              "color": "white"
             }
            },
            "header": {
             "fill": {
              "color": "#C8D4E3"
             },
             "line": {
              "color": "white"
             }
            },
            "type": "table"
           }
          ]
         },
         "layout": {
          "annotationdefaults": {
           "arrowcolor": "#2a3f5f",
           "arrowhead": 0,
           "arrowwidth": 1
          },
          "autotypenumbers": "strict",
          "coloraxis": {
           "colorbar": {
            "outlinewidth": 0,
            "ticks": ""
           }
          },
          "colorscale": {
           "diverging": [
            [
             0,
             "#8e0152"
            ],
            [
             0.1,
             "#c51b7d"
            ],
            [
             0.2,
             "#de77ae"
            ],
            [
             0.3,
             "#f1b6da"
            ],
            [
             0.4,
             "#fde0ef"
            ],
            [
             0.5,
             "#f7f7f7"
            ],
            [
             0.6,
             "#e6f5d0"
            ],
            [
             0.7,
             "#b8e186"
            ],
            [
             0.8,
             "#7fbc41"
            ],
            [
             0.9,
             "#4d9221"
            ],
            [
             1,
             "#276419"
            ]
           ],
           "sequential": [
            [
             0,
             "#0d0887"
            ],
            [
             0.1111111111111111,
             "#46039f"
            ],
            [
             0.2222222222222222,
             "#7201a8"
            ],
            [
             0.3333333333333333,
             "#9c179e"
            ],
            [
             0.4444444444444444,
             "#bd3786"
            ],
            [
             0.5555555555555556,
             "#d8576b"
            ],
            [
             0.6666666666666666,
             "#ed7953"
            ],
            [
             0.7777777777777778,
             "#fb9f3a"
            ],
            [
             0.8888888888888888,
             "#fdca26"
            ],
            [
             1,
             "#f0f921"
            ]
           ],
           "sequentialminus": [
            [
             0,
             "#0d0887"
            ],
            [
             0.1111111111111111,
             "#46039f"
            ],
            [
             0.2222222222222222,
             "#7201a8"
            ],
            [
             0.3333333333333333,
             "#9c179e"
            ],
            [
             0.4444444444444444,
             "#bd3786"
            ],
            [
             0.5555555555555556,
             "#d8576b"
            ],
            [
             0.6666666666666666,
             "#ed7953"
            ],
            [
             0.7777777777777778,
             "#fb9f3a"
            ],
            [
             0.8888888888888888,
             "#fdca26"
            ],
            [
             1,
             "#f0f921"
            ]
           ]
          },
          "colorway": [
           "#636efa",
           "#EF553B",
           "#00cc96",
           "#ab63fa",
           "#FFA15A",
           "#19d3f3",
           "#FF6692",
           "#B6E880",
           "#FF97FF",
           "#FECB52"
          ],
          "font": {
           "color": "#2a3f5f"
          },
          "geo": {
           "bgcolor": "white",
           "lakecolor": "white",
           "landcolor": "#E5ECF6",
           "showlakes": true,
           "showland": true,
           "subunitcolor": "white"
          },
          "hoverlabel": {
           "align": "left"
          },
          "hovermode": "closest",
          "mapbox": {
           "style": "light"
          },
          "paper_bgcolor": "white",
          "plot_bgcolor": "#E5ECF6",
          "polar": {
           "angularaxis": {
            "gridcolor": "white",
            "linecolor": "white",
            "ticks": ""
           },
           "bgcolor": "#E5ECF6",
           "radialaxis": {
            "gridcolor": "white",
            "linecolor": "white",
            "ticks": ""
           }
          },
          "scene": {
           "xaxis": {
            "backgroundcolor": "#E5ECF6",
            "gridcolor": "white",
            "gridwidth": 2,
            "linecolor": "white",
            "showbackground": true,
            "ticks": "",
            "zerolinecolor": "white"
           },
           "yaxis": {
            "backgroundcolor": "#E5ECF6",
            "gridcolor": "white",
            "gridwidth": 2,
            "linecolor": "white",
            "showbackground": true,
            "ticks": "",
            "zerolinecolor": "white"
           },
           "zaxis": {
            "backgroundcolor": "#E5ECF6",
            "gridcolor": "white",
            "gridwidth": 2,
            "linecolor": "white",
            "showbackground": true,
            "ticks": "",
            "zerolinecolor": "white"
           }
          },
          "shapedefaults": {
           "line": {
            "color": "#2a3f5f"
           }
          },
          "ternary": {
           "aaxis": {
            "gridcolor": "white",
            "linecolor": "white",
            "ticks": ""
           },
           "baxis": {
            "gridcolor": "white",
            "linecolor": "white",
            "ticks": ""
           },
           "bgcolor": "#E5ECF6",
           "caxis": {
            "gridcolor": "white",
            "linecolor": "white",
            "ticks": ""
           }
          },
          "title": {
           "x": 0.05
          },
          "xaxis": {
           "automargin": true,
           "gridcolor": "white",
           "linecolor": "white",
           "ticks": "",
           "title": {
            "standoff": 15
           },
           "zerolinecolor": "white",
           "zerolinewidth": 2
          },
          "yaxis": {
           "automargin": true,
           "gridcolor": "white",
           "linecolor": "white",
           "ticks": "",
           "title": {
            "standoff": 15
           },
           "zerolinecolor": "white",
           "zerolinewidth": 2
          }
         }
        },
        "width": 750,
        "xaxis": {
         "anchor": "y",
         "domain": [
          0,
          1
         ],
         "title": {
          "text": "Games Played"
         }
        },
        "yaxis": {
         "anchor": "x",
         "domain": [
          0,
          1
         ],
         "range": [
          -20.79,
          45.92
         ],
         "title": {
          "text": "GSAx"
         }
        }
       }
      }
     },
     "metadata": {},
     "output_type": "display_data"
    }
   ],
   "source": [
    "fig = px.scatter(data, x='GP', y='GSAx')\n",
    "for row in data.index:\n",
    "    fig.add_annotation(x=data.loc[row, 'GP'], y=data.loc[row, 'GSAx'], \n",
    "            text=data.loc[row, 'Player'], showarrow=False, name='Team',\n",
    "            font=dict(size=11, \n",
    "                      color=teamColours[data.loc[row, 'Team']]['text']),\n",
    "            bgcolor=teamColours[data.loc[row, 'Team']]['colour'], opacity=0.8, \n",
    "            borderpad=2.5)\n",
    "fig.update_layout(showlegend=False, width=750, height=750, \n",
    "                  xaxis_title='Games Played',\n",
    "                  yaxis_title='GSAx')\n",
    "fig.update_yaxes(range=[(data[\"GSAx\"].min() - 5), (data[\"GSAx\"].max() + 5)])\n",
    "fig.show()"
   ]
  },
  {
   "cell_type": "code",
   "execution_count": 300,
   "metadata": {},
   "outputs": [
    {
     "data": {
      "application/vnd.plotly.v1+json": {
       "config": {
        "plotlyServerURL": "https://plot.ly"
       },
       "data": [
        {
         "hovertemplate": "xGA=%{x}<br>GA/100 xGA=%{y}<extra></extra>",
         "legendgroup": "",
         "marker": {
          "color": "#636efa",
          "symbol": "circle"
         },
         "mode": "markers",
         "name": "",
         "orientation": "v",
         "showlegend": false,
         "type": "scatter",
         "x": [
          54.27,
          40.65,
          76.72,
          59.24,
          92.93,
          47.97,
          79.1,
          43.37,
          45.9,
          81.64,
          40.42,
          47.27,
          39.08,
          80.78,
          133.62,
          105.1,
          30.64,
          53.24,
          39.1,
          74.7,
          67.31,
          64.01,
          50.33,
          127.11,
          39.41,
          39.99,
          36.52,
          46.28,
          54.19,
          99.9,
          51.78,
          49.44,
          122.81,
          77.83,
          74.67,
          106.8,
          49.79,
          38.8,
          126.86,
          62.81,
          98.09,
          156.56,
          40.55,
          117.84,
          35.95,
          30.47,
          49.81,
          63.29,
          34.28,
          32.42,
          46.69,
          66.9,
          43.59,
          133.98,
          44.66,
          38.84,
          45.36,
          101.1,
          76.31,
          143.12,
          49.61,
          38.92,
          112.37
         ],
         "xaxis": "x",
         "y": [
          69,
          102,
          87,
          98,
          117,
          83,
          91,
          96,
          108,
          91,
          82,
          97,
          83,
          93,
          98,
          89,
          124,
          129,
          106,
          115,
          99,
          109,
          80,
          68,
          104,
          92,
          95,
          87,
          93,
          90,
          87,
          83,
          97,
          87,
          76,
          102,
          103,
          114,
          86,
          103,
          101,
          92,
          100,
          94,
          97,
          121,
          70,
          104,
          124,
          99,
          102,
          97,
          94,
          104,
          96,
          88,
          101,
          89,
          115,
          88,
          126,
          97,
          95
         ],
         "yaxis": "y"
        }
       ],
       "layout": {
        "annotations": [
         {
          "bgcolor": "#B4975A",
          "borderpad": 2.5,
          "font": {
           "color": "#000000",
           "size": 11
          },
          "name": "Team",
          "opacity": 0.8,
          "showarrow": false,
          "text": "Hill",
          "x": 54.27,
          "y": 69
         },
         {
          "bgcolor": "#6F263D",
          "borderpad": 2.5,
          "font": {
           "color": "#ffffff",
           "size": 11
          },
          "name": "Team",
          "opacity": 0.8,
          "showarrow": false,
          "text": "Georgiev",
          "x": 40.65,
          "y": 102
         },
         {
          "bgcolor": "#006847",
          "borderpad": 2.5,
          "font": {
           "color": "#ffffff",
           "size": 11
          },
          "name": "Team",
          "opacity": 0.8,
          "showarrow": false,
          "text": "Khudobin",
          "x": 76.72,
          "y": 87
         },
         {
          "bgcolor": "#af2c1b",
          "borderpad": 2.5,
          "font": {
           "color": "#ffffff",
           "size": 11
          },
          "name": "Team",
          "opacity": 0.8,
          "showarrow": false,
          "text": "Niemi (CHI)",
          "x": 59.24,
          "y": 98
         },
         {
          "bgcolor": "#006D75",
          "borderpad": 2.5,
          "font": {
           "color": "#ffffff",
           "size": 11
          },
          "name": "Team",
          "opacity": 0.8,
          "showarrow": false,
          "text": "Niemi (S.J)",
          "x": 92.93,
          "y": 117
         },
         {
          "bgcolor": "#CE1126",
          "borderpad": 2.5,
          "font": {
           "color": "#ffffff",
           "size": 11
          },
          "name": "Team",
          "opacity": 0.8,
          "showarrow": false,
          "text": "Raanta",
          "x": 47.97,
          "y": 83
         },
         {
          "bgcolor": "#002868",
          "borderpad": 2.5,
          "font": {
           "color": "#ffffff",
           "size": 11
          },
          "name": "Team",
          "opacity": 0.8,
          "showarrow": false,
          "text": "Bishop (T.B)",
          "x": 79.1,
          "y": 91
         },
         {
          "bgcolor": "#006847",
          "borderpad": 2.5,
          "font": {
           "color": "#ffffff",
           "size": 11
          },
          "name": "Team",
          "opacity": 0.8,
          "showarrow": false,
          "text": "Bishop (DAL)",
          "x": 43.37,
          "y": 96
         },
         {
          "bgcolor": "#F74902",
          "borderpad": 2.5,
          "font": {
           "color": "#ffffff",
           "size": 11
          },
          "name": "Team",
          "opacity": 0.8,
          "showarrow": false,
          "text": "Boucher",
          "x": 45.9,
          "y": 108
         },
         {
          "bgcolor": "#041E42",
          "borderpad": 2.5,
          "font": {
           "color": "#ffffff",
           "size": 11
          },
          "name": "Team",
          "opacity": 0.8,
          "showarrow": false,
          "text": "Elliott",
          "x": 81.64,
          "y": 91
         },
         {
          "bgcolor": "#FF4C00",
          "borderpad": 2.5,
          "font": {
           "color": "#ffffff",
           "size": 11
          },
          "name": "Team",
          "opacity": 0.8,
          "showarrow": false,
          "text": "Talbot",
          "x": 40.42,
          "y": 82
         },
         {
          "bgcolor": "#CE1126",
          "borderpad": 2.5,
          "font": {
           "color": "#ffffff",
           "size": 11
          },
          "name": "Team",
          "opacity": 0.8,
          "showarrow": false,
          "text": "Ward",
          "x": 47.27,
          "y": 97
         },
         {
          "bgcolor": "#F74902",
          "borderpad": 2.5,
          "font": {
           "color": "#ffffff",
           "size": 11
          },
          "name": "Team",
          "opacity": 0.8,
          "showarrow": false,
          "text": "Hart",
          "x": 39.08,
          "y": 83
         },
         {
          "bgcolor": "#d52b3f",
          "borderpad": 2.5,
          "font": {
           "color": "#ffffff",
           "size": 11
          },
          "name": "Team",
          "opacity": 0.8,
          "showarrow": false,
          "text": "Osgood",
          "x": 80.78,
          "y": 93
         },
         {
          "bgcolor": "#041E42",
          "borderpad": 2.5,
          "font": {
           "color": "#ffffff",
           "size": 11
          },
          "name": "Team",
          "opacity": 0.8,
          "showarrow": false,
          "text": "Hellebuyck",
          "x": 133.62,
          "y": 98
         },
         {
          "bgcolor": "#b12323",
          "borderpad": 2.5,
          "font": {
           "color": "#ffffff",
           "size": 11
          },
          "name": "Team",
          "opacity": 0.8,
          "showarrow": false,
          "text": "Anderson",
          "x": 105.1,
          "y": 89
         },
         {
          "bgcolor": "#6F263D",
          "borderpad": 2.5,
          "font": {
           "color": "#ffffff",
           "size": 11
          },
          "name": "Team",
          "opacity": 0.8,
          "showarrow": false,
          "text": "Kuemper",
          "x": 30.64,
          "y": 124
         },
         {
          "bgcolor": "#154734",
          "borderpad": 2.5,
          "font": {
           "color": "#ffffff",
           "size": 11
          },
          "name": "Team",
          "opacity": 0.8,
          "showarrow": false,
          "text": "Dubnyk",
          "x": 53.24,
          "y": 129
         },
         {
          "bgcolor": "#002868",
          "borderpad": 2.5,
          "font": {
           "color": "#ffffff",
           "size": 11
          },
          "name": "Team",
          "opacity": 0.8,
          "showarrow": false,
          "text": "Roloson",
          "x": 39.1,
          "y": 106
         },
         {
          "bgcolor": "#006D75",
          "borderpad": 2.5,
          "font": {
           "color": "#ffffff",
           "size": 11
          },
          "name": "Team",
          "opacity": 0.8,
          "showarrow": false,
          "text": "Nabokov",
          "x": 74.7,
          "y": 115
         },
         {
          "bgcolor": "#F47A38",
          "borderpad": 2.5,
          "font": {
           "color": "#ffffff",
           "size": 11
          },
          "name": "Team",
          "opacity": 0.8,
          "showarrow": false,
          "text": "Andersen (ANA)",
          "x": 67.31,
          "y": 99
         },
         {
          "bgcolor": "#00205B",
          "borderpad": 2.5,
          "font": {
           "color": "#ffffff",
           "size": 11
          },
          "name": "Team",
          "opacity": 0.8,
          "showarrow": false,
          "text": "Andersen (TOR)",
          "x": 64.01,
          "y": 109
         },
         {
          "bgcolor": "#CE1126",
          "borderpad": 2.5,
          "font": {
           "color": "#ffffff",
           "size": 11
          },
          "name": "Team",
          "opacity": 0.8,
          "showarrow": false,
          "text": "Andersen (CAR)",
          "x": 50.33,
          "y": 80
         },
         {
          "bgcolor": "#0038A8",
          "borderpad": 2.5,
          "font": {
           "color": "#ffffff",
           "size": 11
          },
          "name": "Team",
          "opacity": 0.8,
          "showarrow": false,
          "text": "Shesterkin",
          "x": 127.11,
          "y": 68
         },
         {
          "bgcolor": "#00205B",
          "borderpad": 2.5,
          "font": {
           "color": "#ffffff",
           "size": 11
          },
          "name": "Team",
          "opacity": 0.8,
          "showarrow": false,
          "text": "Samsonov",
          "x": 39.41,
          "y": 104
         },
         {
          "bgcolor": "#F47D30",
          "borderpad": 2.5,
          "font": {
           "color": "#ffffff",
           "size": 11
          },
          "name": "Team",
          "opacity": 0.8,
          "showarrow": false,
          "text": "Sorokin",
          "x": 39.99,
          "y": 92
         },
         {
          "bgcolor": "#00205B",
          "borderpad": 2.5,
          "font": {
           "color": "#ffffff",
           "size": 11
          },
          "name": "Team",
          "opacity": 0.8,
          "showarrow": false,
          "text": "Campbell",
          "x": 36.52,
          "y": 95
         },
         {
          "bgcolor": "#173d83",
          "borderpad": 2.5,
          "font": {
           "color": "#ffffff",
           "size": 11
          },
          "name": "Team",
          "opacity": 0.8,
          "showarrow": false,
          "text": "Markstrom",
          "x": 46.28,
          "y": 87
         },
         {
          "bgcolor": "#041E42",
          "borderpad": 2.5,
          "font": {
           "color": "#ffffff",
           "size": 11
          },
          "name": "Team",
          "opacity": 0.8,
          "showarrow": false,
          "text": "Allen",
          "x": 54.19,
          "y": 93
         },
         {
          "bgcolor": "#006847",
          "borderpad": 2.5,
          "font": {
           "color": "#ffffff",
           "size": 11
          },
          "name": "Team",
          "opacity": 0.8,
          "showarrow": false,
          "text": "Oettinger",
          "x": 99.9,
          "y": 90
         },
         {
          "bgcolor": "#AF1E2D",
          "borderpad": 2.5,
          "font": {
           "color": "#ffffff",
           "size": 11
          },
          "name": "Team",
          "opacity": 0.8,
          "showarrow": false,
          "text": "Halak",
          "x": 51.78,
          "y": 87
         },
         {
          "bgcolor": "#FFB81C",
          "borderpad": 2.5,
          "font": {
           "color": "#000000",
           "size": 11
          },
          "name": "Team",
          "opacity": 0.8,
          "showarrow": false,
          "text": "Swayman",
          "x": 49.44,
          "y": 83
         },
         {
          "bgcolor": "#d52b3f",
          "borderpad": 2.5,
          "font": {
           "color": "#ffffff",
           "size": 11
          },
          "name": "Team",
          "opacity": 0.8,
          "showarrow": false,
          "text": "Howard",
          "x": 122.81,
          "y": 97
         },
         {
          "bgcolor": "#F47A38",
          "borderpad": 2.5,
          "font": {
           "color": "#ffffff",
           "size": 11
          },
          "name": "Team",
          "opacity": 0.8,
          "showarrow": false,
          "text": "Gibson",
          "x": 77.83,
          "y": 87
         },
         {
          "bgcolor": "#F47A38",
          "borderpad": 2.5,
          "font": {
           "color": "#ffffff",
           "size": 11
          },
          "name": "Team",
          "opacity": 0.8,
          "showarrow": false,
          "text": "Hiller",
          "x": 74.67,
          "y": 76
         },
         {
          "bgcolor": "#041E42",
          "borderpad": 2.5,
          "font": {
           "color": "#ffffff",
           "size": 11
          },
          "name": "Team",
          "opacity": 0.8,
          "showarrow": false,
          "text": "Binnington",
          "x": 106.8,
          "y": 102
         },
         {
          "bgcolor": "#FFB81C",
          "borderpad": 2.5,
          "font": {
           "color": "#000000",
           "size": 11
          },
          "name": "Team",
          "opacity": 0.8,
          "showarrow": false,
          "text": "Saros",
          "x": 49.79,
          "y": 103
         },
         {
          "bgcolor": "#006847",
          "borderpad": 2.5,
          "font": {
           "color": "#ffffff",
           "size": 11
          },
          "name": "Team",
          "opacity": 0.8,
          "showarrow": false,
          "text": "Lehtonen",
          "x": 38.8,
          "y": 114
         },
         {
          "bgcolor": "#B4975A",
          "borderpad": 2.5,
          "font": {
           "color": "#000000",
           "size": 11
          },
          "name": "Team",
          "opacity": 0.8,
          "showarrow": false,
          "text": "Fleury",
          "x": 126.86,
          "y": 86
         },
         {
          "bgcolor": "#F74902",
          "borderpad": 2.5,
          "font": {
           "color": "#ffffff",
           "size": 11
          },
          "name": "Team",
          "opacity": 0.8,
          "showarrow": false,
          "text": "Biron",
          "x": 62.81,
          "y": 103
         },
         {
          "bgcolor": "#CE1126",
          "borderpad": 2.5,
          "font": {
           "color": "#ffffff",
           "size": 11
          },
          "name": "Team",
          "opacity": 0.8,
          "showarrow": false,
          "text": "Brodeur",
          "x": 98.09,
          "y": 101
         },
         {
          "bgcolor": "#006D75",
          "borderpad": 2.5,
          "font": {
           "color": "#ffffff",
           "size": 11
          },
          "name": "Team",
          "opacity": 0.8,
          "showarrow": false,
          "text": "Jones",
          "x": 156.56,
          "y": 92
         },
         {
          "bgcolor": "#006847",
          "borderpad": 2.5,
          "font": {
           "color": "#ffffff",
           "size": 11
          },
          "name": "Team",
          "opacity": 0.8,
          "showarrow": false,
          "text": "Turco",
          "x": 40.55,
          "y": 100
         },
         {
          "bgcolor": "#FCB514",
          "borderpad": 2.5,
          "font": {
           "color": "#000000",
           "size": 11
          },
          "name": "Team",
          "opacity": 0.8,
          "showarrow": false,
          "text": "Murray",
          "x": 117.84,
          "y": 94
         },
         {
          "bgcolor": "#F74902",
          "borderpad": 2.5,
          "font": {
           "color": "#ffffff",
           "size": 11
          },
          "name": "Team",
          "opacity": 0.8,
          "showarrow": false,
          "text": "Leighton",
          "x": 35.95,
          "y": 97
         },
         {
          "bgcolor": "#d6300e",
          "borderpad": 2.5,
          "font": {
           "color": "#ffffff",
           "size": 11
          },
          "name": "Team",
          "opacity": 0.8,
          "showarrow": false,
          "text": "Kiprusoff",
          "x": 30.47,
          "y": 121
         },
         {
          "bgcolor": "#794848",
          "borderpad": 2.5,
          "font": {
           "color": "#ffffff",
           "size": 11
          },
          "name": "Team",
          "opacity": 0.8,
          "showarrow": false,
          "text": "Smith (ARI)",
          "x": 49.81,
          "y": 70
         },
         {
          "bgcolor": "#FF4C00",
          "borderpad": 2.5,
          "font": {
           "color": "#ffffff",
           "size": 11
          },
          "name": "Team",
          "opacity": 0.8,
          "showarrow": false,
          "text": "Smith (EDM)",
          "x": 63.29,
          "y": 104
         },
         {
          "bgcolor": "#af2c1b",
          "borderpad": 2.5,
          "font": {
           "color": "#ffffff",
           "size": 11
          },
          "name": "Team",
          "opacity": 0.8,
          "showarrow": false,
          "text": "Khabibulin",
          "x": 34.28,
          "y": 124
         },
         {
          "bgcolor": "#6F263D",
          "borderpad": 2.5,
          "font": {
           "color": "#ffffff",
           "size": 11
          },
          "name": "Team",
          "opacity": 0.8,
          "showarrow": false,
          "text": "Francouz",
          "x": 32.42,
          "y": 99
         },
         {
          "bgcolor": "#CE1126",
          "borderpad": 2.5,
          "font": {
           "color": "#ffffff",
           "size": 11
          },
          "name": "Team",
          "opacity": 0.8,
          "showarrow": false,
          "text": "Mrazek",
          "x": 46.69,
          "y": 102
         },
         {
          "bgcolor": "#6F263D",
          "borderpad": 2.5,
          "font": {
           "color": "#ffffff",
           "size": 11
          },
          "name": "Team",
          "opacity": 0.8,
          "showarrow": false,
          "text": "Grubauer (COL)",
          "x": 66.9,
          "y": 97
         },
         {
          "bgcolor": "#001628",
          "borderpad": 2.5,
          "font": {
           "color": "#ffffff",
           "size": 11
          },
          "name": "Team",
          "opacity": 0.8,
          "showarrow": false,
          "text": "Grubauer (SEA)",
          "x": 43.59,
          "y": 94
         },
         {
          "bgcolor": "#173d83",
          "borderpad": 2.5,
          "font": {
           "color": "#ffffff",
           "size": 11
          },
          "name": "Team",
          "opacity": 0.8,
          "showarrow": false,
          "text": "Luongo",
          "x": 133.98,
          "y": 104
         },
         {
          "bgcolor": "#B4975A",
          "borderpad": 2.5,
          "font": {
           "color": "#000000",
           "size": 11
          },
          "name": "Team",
          "opacity": 0.8,
          "showarrow": false,
          "text": "Lehner",
          "x": 44.66,
          "y": 96
         },
         {
          "bgcolor": "#003087",
          "borderpad": 2.5,
          "font": {
           "color": "#ffffff",
           "size": 11
          },
          "name": "Team",
          "opacity": 0.8,
          "showarrow": false,
          "text": "Miller",
          "x": 38.84,
          "y": 88
         },
         {
          "bgcolor": "#C8102E",
          "borderpad": 2.5,
          "font": {
           "color": "#ffffff",
           "size": 11
          },
          "name": "Team",
          "opacity": 0.8,
          "showarrow": false,
          "text": "Varlamov (WSH)",
          "x": 45.36,
          "y": 101
         },
         {
          "bgcolor": "#F47D30",
          "borderpad": 2.5,
          "font": {
           "color": "#ffffff",
           "size": 11
          },
          "name": "Team",
          "opacity": 0.8,
          "showarrow": false,
          "text": "Varlamov (NYI)",
          "x": 101.1,
          "y": 89
         },
         {
          "bgcolor": "#002654",
          "borderpad": 2.5,
          "font": {
           "color": "#ffffff",
           "size": 11
          },
          "name": "Team",
          "opacity": 0.8,
          "showarrow": false,
          "text": "Bobrovsky (CBJ)",
          "x": 76.31,
          "y": 115
         },
         {
          "bgcolor": "#C8102E",
          "borderpad": 2.5,
          "font": {
           "color": "#ffffff",
           "size": 11
          },
          "name": "Team",
          "opacity": 0.8,
          "showarrow": false,
          "text": "Bobrovsky (FLA)",
          "x": 143.12,
          "y": 88
         },
         {
          "bgcolor": "#FF4C00",
          "borderpad": 2.5,
          "font": {
           "color": "#ffffff",
           "size": 11
          },
          "name": "Team",
          "opacity": 0.8,
          "showarrow": false,
          "text": "Skinner",
          "x": 49.61,
          "y": 126
         },
         {
          "bgcolor": "#F47D30",
          "borderpad": 2.5,
          "font": {
           "color": "#ffffff",
           "size": 11
          },
          "name": "Team",
          "opacity": 0.8,
          "showarrow": false,
          "text": "Greiss",
          "x": 38.92,
          "y": 97
         },
         {
          "bgcolor": "#FFB81C",
          "borderpad": 2.5,
          "font": {
           "color": "#000000",
           "size": 11
          },
          "name": "Team",
          "opacity": 0.8,
          "showarrow": false,
          "text": "Thomas",
          "x": 112.37,
          "y": 95
         }
        ],
        "height": 750,
        "legend": {
         "tracegroupgap": 0
        },
        "margin": {
         "t": 60
        },
        "showlegend": false,
        "template": {
         "data": {
          "bar": [
           {
            "error_x": {
             "color": "#2a3f5f"
            },
            "error_y": {
             "color": "#2a3f5f"
            },
            "marker": {
             "line": {
              "color": "#E5ECF6",
              "width": 0.5
             },
             "pattern": {
              "fillmode": "overlay",
              "size": 10,
              "solidity": 0.2
             }
            },
            "type": "bar"
           }
          ],
          "barpolar": [
           {
            "marker": {
             "line": {
              "color": "#E5ECF6",
              "width": 0.5
             },
             "pattern": {
              "fillmode": "overlay",
              "size": 10,
              "solidity": 0.2
             }
            },
            "type": "barpolar"
           }
          ],
          "carpet": [
           {
            "aaxis": {
             "endlinecolor": "#2a3f5f",
             "gridcolor": "white",
             "linecolor": "white",
             "minorgridcolor": "white",
             "startlinecolor": "#2a3f5f"
            },
            "baxis": {
             "endlinecolor": "#2a3f5f",
             "gridcolor": "white",
             "linecolor": "white",
             "minorgridcolor": "white",
             "startlinecolor": "#2a3f5f"
            },
            "type": "carpet"
           }
          ],
          "choropleth": [
           {
            "colorbar": {
             "outlinewidth": 0,
             "ticks": ""
            },
            "type": "choropleth"
           }
          ],
          "contour": [
           {
            "colorbar": {
             "outlinewidth": 0,
             "ticks": ""
            },
            "colorscale": [
             [
              0,
              "#0d0887"
             ],
             [
              0.1111111111111111,
              "#46039f"
             ],
             [
              0.2222222222222222,
              "#7201a8"
             ],
             [
              0.3333333333333333,
              "#9c179e"
             ],
             [
              0.4444444444444444,
              "#bd3786"
             ],
             [
              0.5555555555555556,
              "#d8576b"
             ],
             [
              0.6666666666666666,
              "#ed7953"
             ],
             [
              0.7777777777777778,
              "#fb9f3a"
             ],
             [
              0.8888888888888888,
              "#fdca26"
             ],
             [
              1,
              "#f0f921"
             ]
            ],
            "type": "contour"
           }
          ],
          "contourcarpet": [
           {
            "colorbar": {
             "outlinewidth": 0,
             "ticks": ""
            },
            "type": "contourcarpet"
           }
          ],
          "heatmap": [
           {
            "colorbar": {
             "outlinewidth": 0,
             "ticks": ""
            },
            "colorscale": [
             [
              0,
              "#0d0887"
             ],
             [
              0.1111111111111111,
              "#46039f"
             ],
             [
              0.2222222222222222,
              "#7201a8"
             ],
             [
              0.3333333333333333,
              "#9c179e"
             ],
             [
              0.4444444444444444,
              "#bd3786"
             ],
             [
              0.5555555555555556,
              "#d8576b"
             ],
             [
              0.6666666666666666,
              "#ed7953"
             ],
             [
              0.7777777777777778,
              "#fb9f3a"
             ],
             [
              0.8888888888888888,
              "#fdca26"
             ],
             [
              1,
              "#f0f921"
             ]
            ],
            "type": "heatmap"
           }
          ],
          "heatmapgl": [
           {
            "colorbar": {
             "outlinewidth": 0,
             "ticks": ""
            },
            "colorscale": [
             [
              0,
              "#0d0887"
             ],
             [
              0.1111111111111111,
              "#46039f"
             ],
             [
              0.2222222222222222,
              "#7201a8"
             ],
             [
              0.3333333333333333,
              "#9c179e"
             ],
             [
              0.4444444444444444,
              "#bd3786"
             ],
             [
              0.5555555555555556,
              "#d8576b"
             ],
             [
              0.6666666666666666,
              "#ed7953"
             ],
             [
              0.7777777777777778,
              "#fb9f3a"
             ],
             [
              0.8888888888888888,
              "#fdca26"
             ],
             [
              1,
              "#f0f921"
             ]
            ],
            "type": "heatmapgl"
           }
          ],
          "histogram": [
           {
            "marker": {
             "pattern": {
              "fillmode": "overlay",
              "size": 10,
              "solidity": 0.2
             }
            },
            "type": "histogram"
           }
          ],
          "histogram2d": [
           {
            "colorbar": {
             "outlinewidth": 0,
             "ticks": ""
            },
            "colorscale": [
             [
              0,
              "#0d0887"
             ],
             [
              0.1111111111111111,
              "#46039f"
             ],
             [
              0.2222222222222222,
              "#7201a8"
             ],
             [
              0.3333333333333333,
              "#9c179e"
             ],
             [
              0.4444444444444444,
              "#bd3786"
             ],
             [
              0.5555555555555556,
              "#d8576b"
             ],
             [
              0.6666666666666666,
              "#ed7953"
             ],
             [
              0.7777777777777778,
              "#fb9f3a"
             ],
             [
              0.8888888888888888,
              "#fdca26"
             ],
             [
              1,
              "#f0f921"
             ]
            ],
            "type": "histogram2d"
           }
          ],
          "histogram2dcontour": [
           {
            "colorbar": {
             "outlinewidth": 0,
             "ticks": ""
            },
            "colorscale": [
             [
              0,
              "#0d0887"
             ],
             [
              0.1111111111111111,
              "#46039f"
             ],
             [
              0.2222222222222222,
              "#7201a8"
             ],
             [
              0.3333333333333333,
              "#9c179e"
             ],
             [
              0.4444444444444444,
              "#bd3786"
             ],
             [
              0.5555555555555556,
              "#d8576b"
             ],
             [
              0.6666666666666666,
              "#ed7953"
             ],
             [
              0.7777777777777778,
              "#fb9f3a"
             ],
             [
              0.8888888888888888,
              "#fdca26"
             ],
             [
              1,
              "#f0f921"
             ]
            ],
            "type": "histogram2dcontour"
           }
          ],
          "mesh3d": [
           {
            "colorbar": {
             "outlinewidth": 0,
             "ticks": ""
            },
            "type": "mesh3d"
           }
          ],
          "parcoords": [
           {
            "line": {
             "colorbar": {
              "outlinewidth": 0,
              "ticks": ""
             }
            },
            "type": "parcoords"
           }
          ],
          "pie": [
           {
            "automargin": true,
            "type": "pie"
           }
          ],
          "scatter": [
           {
            "fillpattern": {
             "fillmode": "overlay",
             "size": 10,
             "solidity": 0.2
            },
            "type": "scatter"
           }
          ],
          "scatter3d": [
           {
            "line": {
             "colorbar": {
              "outlinewidth": 0,
              "ticks": ""
             }
            },
            "marker": {
             "colorbar": {
              "outlinewidth": 0,
              "ticks": ""
             }
            },
            "type": "scatter3d"
           }
          ],
          "scattercarpet": [
           {
            "marker": {
             "colorbar": {
              "outlinewidth": 0,
              "ticks": ""
             }
            },
            "type": "scattercarpet"
           }
          ],
          "scattergeo": [
           {
            "marker": {
             "colorbar": {
              "outlinewidth": 0,
              "ticks": ""
             }
            },
            "type": "scattergeo"
           }
          ],
          "scattergl": [
           {
            "marker": {
             "colorbar": {
              "outlinewidth": 0,
              "ticks": ""
             }
            },
            "type": "scattergl"
           }
          ],
          "scattermapbox": [
           {
            "marker": {
             "colorbar": {
              "outlinewidth": 0,
              "ticks": ""
             }
            },
            "type": "scattermapbox"
           }
          ],
          "scatterpolar": [
           {
            "marker": {
             "colorbar": {
              "outlinewidth": 0,
              "ticks": ""
             }
            },
            "type": "scatterpolar"
           }
          ],
          "scatterpolargl": [
           {
            "marker": {
             "colorbar": {
              "outlinewidth": 0,
              "ticks": ""
             }
            },
            "type": "scatterpolargl"
           }
          ],
          "scatterternary": [
           {
            "marker": {
             "colorbar": {
              "outlinewidth": 0,
              "ticks": ""
             }
            },
            "type": "scatterternary"
           }
          ],
          "surface": [
           {
            "colorbar": {
             "outlinewidth": 0,
             "ticks": ""
            },
            "colorscale": [
             [
              0,
              "#0d0887"
             ],
             [
              0.1111111111111111,
              "#46039f"
             ],
             [
              0.2222222222222222,
              "#7201a8"
             ],
             [
              0.3333333333333333,
              "#9c179e"
             ],
             [
              0.4444444444444444,
              "#bd3786"
             ],
             [
              0.5555555555555556,
              "#d8576b"
             ],
             [
              0.6666666666666666,
              "#ed7953"
             ],
             [
              0.7777777777777778,
              "#fb9f3a"
             ],
             [
              0.8888888888888888,
              "#fdca26"
             ],
             [
              1,
              "#f0f921"
             ]
            ],
            "type": "surface"
           }
          ],
          "table": [
           {
            "cells": {
             "fill": {
              "color": "#EBF0F8"
             },
             "line": {
              "color": "white"
             }
            },
            "header": {
             "fill": {
              "color": "#C8D4E3"
             },
             "line": {
              "color": "white"
             }
            },
            "type": "table"
           }
          ]
         },
         "layout": {
          "annotationdefaults": {
           "arrowcolor": "#2a3f5f",
           "arrowhead": 0,
           "arrowwidth": 1
          },
          "autotypenumbers": "strict",
          "coloraxis": {
           "colorbar": {
            "outlinewidth": 0,
            "ticks": ""
           }
          },
          "colorscale": {
           "diverging": [
            [
             0,
             "#8e0152"
            ],
            [
             0.1,
             "#c51b7d"
            ],
            [
             0.2,
             "#de77ae"
            ],
            [
             0.3,
             "#f1b6da"
            ],
            [
             0.4,
             "#fde0ef"
            ],
            [
             0.5,
             "#f7f7f7"
            ],
            [
             0.6,
             "#e6f5d0"
            ],
            [
             0.7,
             "#b8e186"
            ],
            [
             0.8,
             "#7fbc41"
            ],
            [
             0.9,
             "#4d9221"
            ],
            [
             1,
             "#276419"
            ]
           ],
           "sequential": [
            [
             0,
             "#0d0887"
            ],
            [
             0.1111111111111111,
             "#46039f"
            ],
            [
             0.2222222222222222,
             "#7201a8"
            ],
            [
             0.3333333333333333,
             "#9c179e"
            ],
            [
             0.4444444444444444,
             "#bd3786"
            ],
            [
             0.5555555555555556,
             "#d8576b"
            ],
            [
             0.6666666666666666,
             "#ed7953"
            ],
            [
             0.7777777777777778,
             "#fb9f3a"
            ],
            [
             0.8888888888888888,
             "#fdca26"
            ],
            [
             1,
             "#f0f921"
            ]
           ],
           "sequentialminus": [
            [
             0,
             "#0d0887"
            ],
            [
             0.1111111111111111,
             "#46039f"
            ],
            [
             0.2222222222222222,
             "#7201a8"
            ],
            [
             0.3333333333333333,
             "#9c179e"
            ],
            [
             0.4444444444444444,
             "#bd3786"
            ],
            [
             0.5555555555555556,
             "#d8576b"
            ],
            [
             0.6666666666666666,
             "#ed7953"
            ],
            [
             0.7777777777777778,
             "#fb9f3a"
            ],
            [
             0.8888888888888888,
             "#fdca26"
            ],
            [
             1,
             "#f0f921"
            ]
           ]
          },
          "colorway": [
           "#636efa",
           "#EF553B",
           "#00cc96",
           "#ab63fa",
           "#FFA15A",
           "#19d3f3",
           "#FF6692",
           "#B6E880",
           "#FF97FF",
           "#FECB52"
          ],
          "font": {
           "color": "#2a3f5f"
          },
          "geo": {
           "bgcolor": "white",
           "lakecolor": "white",
           "landcolor": "#E5ECF6",
           "showlakes": true,
           "showland": true,
           "subunitcolor": "white"
          },
          "hoverlabel": {
           "align": "left"
          },
          "hovermode": "closest",
          "mapbox": {
           "style": "light"
          },
          "paper_bgcolor": "white",
          "plot_bgcolor": "#E5ECF6",
          "polar": {
           "angularaxis": {
            "gridcolor": "white",
            "linecolor": "white",
            "ticks": ""
           },
           "bgcolor": "#E5ECF6",
           "radialaxis": {
            "gridcolor": "white",
            "linecolor": "white",
            "ticks": ""
           }
          },
          "scene": {
           "xaxis": {
            "backgroundcolor": "#E5ECF6",
            "gridcolor": "white",
            "gridwidth": 2,
            "linecolor": "white",
            "showbackground": true,
            "ticks": "",
            "zerolinecolor": "white"
           },
           "yaxis": {
            "backgroundcolor": "#E5ECF6",
            "gridcolor": "white",
            "gridwidth": 2,
            "linecolor": "white",
            "showbackground": true,
            "ticks": "",
            "zerolinecolor": "white"
           },
           "zaxis": {
            "backgroundcolor": "#E5ECF6",
            "gridcolor": "white",
            "gridwidth": 2,
            "linecolor": "white",
            "showbackground": true,
            "ticks": "",
            "zerolinecolor": "white"
           }
          },
          "shapedefaults": {
           "line": {
            "color": "#2a3f5f"
           }
          },
          "ternary": {
           "aaxis": {
            "gridcolor": "white",
            "linecolor": "white",
            "ticks": ""
           },
           "baxis": {
            "gridcolor": "white",
            "linecolor": "white",
            "ticks": ""
           },
           "bgcolor": "#E5ECF6",
           "caxis": {
            "gridcolor": "white",
            "linecolor": "white",
            "ticks": ""
           }
          },
          "title": {
           "x": 0.05
          },
          "xaxis": {
           "automargin": true,
           "gridcolor": "white",
           "linecolor": "white",
           "ticks": "",
           "title": {
            "standoff": 15
           },
           "zerolinecolor": "white",
           "zerolinewidth": 2
          },
          "yaxis": {
           "automargin": true,
           "gridcolor": "white",
           "linecolor": "white",
           "ticks": "",
           "title": {
            "standoff": 15
           },
           "zerolinecolor": "white",
           "zerolinewidth": 2
          }
         }
        },
        "width": 750,
        "xaxis": {
         "anchor": "y",
         "domain": [
          0,
          1
         ],
         "range": [
          25.47,
          161.56
         ],
         "title": {
          "text": "xGA Faced"
         }
        },
        "yaxis": {
         "anchor": "x",
         "autorange": "reversed",
         "domain": [
          0,
          1
         ],
         "title": {
          "text": "Goals Against per 100 xGA"
         }
        }
       }
      }
     },
     "metadata": {},
     "output_type": "display_data"
    }
   ],
   "source": [
    "fig = px.scatter(data, x='xGA', y='GA/100 xGA')\n",
    "for row in data.index:\n",
    "    fig.add_annotation(x=data.loc[row, 'xGA'], y=data.loc[row, 'GA/100 xGA'], \n",
    "            text=data.loc[row, 'Player'], showarrow=False, name='Team',\n",
    "            font=dict(size=11, \n",
    "                      color=teamColours[data.loc[row, 'Team']]['text']),\n",
    "            bgcolor=teamColours[data.loc[row, 'Team']]['colour'], opacity=0.8, \n",
    "            borderpad=2.5)\n",
    "fig.update_layout(showlegend=False, width=750, height=750, \n",
    "                  xaxis_title='xGA Faced',\n",
    "                  yaxis_title='Goals Against per 100 xGA')\n",
    "fig.update_xaxes(range=[(data[\"xGA\"].min() - 5), (data[\"xGA\"].max() + 5)])\n",
    "fig.update_yaxes(autorange=\"reversed\")\n",
    "fig.show()"
   ]
  },
  {
   "cell_type": "code",
   "execution_count": null,
   "metadata": {},
   "outputs": [],
   "source": []
  }
 ],
 "metadata": {
  "kernelspec": {
   "display_name": "dev",
   "language": "python",
   "name": "python3"
  },
  "language_info": {
   "codemirror_mode": {
    "name": "ipython",
    "version": 3
   },
   "file_extension": ".py",
   "mimetype": "text/x-python",
   "name": "python",
   "nbconvert_exporter": "python",
   "pygments_lexer": "ipython3",
   "version": "3.12.0"
  }
 },
 "nbformat": 4,
 "nbformat_minor": 2
}
