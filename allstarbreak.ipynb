{
 "cells": [
  {
   "cell_type": "markdown",
   "metadata": {},
   "source": [
    "## Cumulative xGSA Charts at All-Star Break\n",
    "\n",
    "Top 10 Goalies\n",
    "\n",
    "- Jacob Markstrom\n",
    "- Connor Hellebuyck\n",
    "- Thatcher Demko\n",
    "- Connor Ingram\n",
    "- Adin Hill\n",
    "- Jeremy Swayman\n",
    "- Tristan Jarry\n",
    "- Jordan Binnington\n",
    "- Joey Daccord\n",
    "- John Gibson\n",
    "\n",
    "Bottom 10 Goalies on Nov 23rd\n",
    "\n",
    "- Stuart Skinner\n",
    "- Vitek Vanecek\n",
    "- Filip Gustavsson\n",
    "- Marc-Andre Fleury\n",
    "- Samuel Ersson\n",
    "- Dan Vladar\t\n",
    "- Anton Forsberg\n",
    "- Alexandar Georgiev\t\t\n",
    "- Ilya Samsonov\n",
    "- Philipp Grubauer\n"
   ]
  },
  {
   "cell_type": "code",
   "execution_count": 26,
   "metadata": {},
   "outputs": [],
   "source": [
    "import pandas as pd\n",
    "import matplotlib.pyplot as plt \n",
    "import glob\n",
    "import re"
   ]
  },
  {
   "cell_type": "code",
   "execution_count": 39,
   "metadata": {},
   "outputs": [],
   "source": [
    "goaliePaths = [file for file in glob.glob('goalie-csv/*.csv',)]\n",
    "\n",
    "data = {re.split(\"_\", file, 5)[4]: pd.read_csv(file) for file in goaliePaths}"
   ]
  }
 ],
 "metadata": {
  "kernelspec": {
   "display_name": "dev",
   "language": "python",
   "name": "python3"
  },
  "language_info": {
   "codemirror_mode": {
    "name": "ipython",
    "version": 3
   },
   "file_extension": ".py",
   "mimetype": "text/x-python",
   "name": "python",
   "nbconvert_exporter": "python",
   "pygments_lexer": "ipython3",
   "version": "3.12.0"
  }
 },
 "nbformat": 4,
 "nbformat_minor": 2
}
