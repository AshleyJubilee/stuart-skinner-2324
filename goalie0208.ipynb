{
 "cells": [
  {
   "cell_type": "code",
   "execution_count": 108,
   "metadata": {},
   "outputs": [],
   "source": [
    "import pandas as pd\n",
    "import glob\n",
    "import re\n",
    "import plotly.express as px\n",
    "import plotly.graph_objects as go\n",
    "from plotly.colors import hex_to_rgb\n",
    "from nhl_themes import teamColours\n",
    "pd.set_option('mode.chained_assignment', None)"
   ]
  },
  {
   "cell_type": "code",
   "execution_count": 109,
   "metadata": {},
   "outputs": [],
   "source": [
    "data = pd.read_csv(\"EH_std_gl_stats_all_regular_adj_2024-02-08.csv\")\n",
    "data = data.loc[data[\"xGA\"] > data[\"xGA\"].quantile(0.25)]\n",
    "data[\"Player\"] = data[\"Player\"].str.split(n=1).str[1]\n",
    "data = data.set_index([\"Player\"])"
   ]
  },
  {
   "cell_type": "code",
   "execution_count": 110,
   "metadata": {},
   "outputs": [
    {
     "data": {
      "text/html": [
       "<div>\n",
       "<style scoped>\n",
       "    .dataframe tbody tr th:only-of-type {\n",
       "        vertical-align: middle;\n",
       "    }\n",
       "\n",
       "    .dataframe tbody tr th {\n",
       "        vertical-align: top;\n",
       "    }\n",
       "\n",
       "    .dataframe thead th {\n",
       "        text-align: right;\n",
       "    }\n",
       "</style>\n",
       "<table border=\"1\" class=\"dataframe\">\n",
       "  <thead>\n",
       "    <tr style=\"text-align: right;\">\n",
       "      <th></th>\n",
       "      <th>Player</th>\n",
       "      <th>Date</th>\n",
       "      <th>Game_ID</th>\n",
       "      <th>Season</th>\n",
       "      <th>Team</th>\n",
       "      <th>Opponent</th>\n",
       "      <th>Is_Home</th>\n",
       "      <th>Position</th>\n",
       "      <th>TOI</th>\n",
       "      <th>TOI%</th>\n",
       "      <th>GA</th>\n",
       "      <th>SA</th>\n",
       "      <th>FA</th>\n",
       "      <th>xGA</th>\n",
       "      <th>Sv%</th>\n",
       "      <th>FSv%</th>\n",
       "      <th>xFSv%</th>\n",
       "      <th>dFSv%</th>\n",
       "      <th>GSAx</th>\n",
       "    </tr>\n",
       "  </thead>\n",
       "  <tbody>\n",
       "    <tr>\n",
       "      <th>29</th>\n",
       "      <td>Stuart Skinner</td>\n",
       "      <td>2024-01-16</td>\n",
       "      <td>2023020688</td>\n",
       "      <td>20232024</td>\n",
       "      <td>EDM</td>\n",
       "      <td>TOR</td>\n",
       "      <td>1</td>\n",
       "      <td>G</td>\n",
       "      <td>59.70</td>\n",
       "      <td>99.50</td>\n",
       "      <td>2.13</td>\n",
       "      <td>29.79</td>\n",
       "      <td>45.15</td>\n",
       "      <td>4.10</td>\n",
       "      <td>92.84</td>\n",
       "      <td>95.28</td>\n",
       "      <td>90.93</td>\n",
       "      <td>4.35</td>\n",
       "      <td>1.97</td>\n",
       "    </tr>\n",
       "    <tr>\n",
       "      <th>30</th>\n",
       "      <td>Stuart Skinner</td>\n",
       "      <td>2024-01-18</td>\n",
       "      <td>2023020698</td>\n",
       "      <td>20232024</td>\n",
       "      <td>EDM</td>\n",
       "      <td>SEA</td>\n",
       "      <td>1</td>\n",
       "      <td>G</td>\n",
       "      <td>60.00</td>\n",
       "      <td>100.00</td>\n",
       "      <td>2.13</td>\n",
       "      <td>27.46</td>\n",
       "      <td>39.19</td>\n",
       "      <td>2.79</td>\n",
       "      <td>92.24</td>\n",
       "      <td>94.56</td>\n",
       "      <td>92.88</td>\n",
       "      <td>1.68</td>\n",
       "      <td>0.66</td>\n",
       "    </tr>\n",
       "    <tr>\n",
       "      <th>31</th>\n",
       "      <td>Stuart Skinner</td>\n",
       "      <td>2024-01-20</td>\n",
       "      <td>2023020714</td>\n",
       "      <td>20232024</td>\n",
       "      <td>EDM</td>\n",
       "      <td>CGY</td>\n",
       "      <td>0</td>\n",
       "      <td>G</td>\n",
       "      <td>59.85</td>\n",
       "      <td>99.75</td>\n",
       "      <td>0.94</td>\n",
       "      <td>25.35</td>\n",
       "      <td>32.65</td>\n",
       "      <td>2.14</td>\n",
       "      <td>96.30</td>\n",
       "      <td>97.13</td>\n",
       "      <td>93.44</td>\n",
       "      <td>3.69</td>\n",
       "      <td>1.20</td>\n",
       "    </tr>\n",
       "    <tr>\n",
       "      <th>32</th>\n",
       "      <td>Stuart Skinner</td>\n",
       "      <td>2024-01-23</td>\n",
       "      <td>2023020736</td>\n",
       "      <td>20232024</td>\n",
       "      <td>EDM</td>\n",
       "      <td>CBJ</td>\n",
       "      <td>1</td>\n",
       "      <td>G</td>\n",
       "      <td>60.00</td>\n",
       "      <td>100.00</td>\n",
       "      <td>1.01</td>\n",
       "      <td>27.12</td>\n",
       "      <td>40.30</td>\n",
       "      <td>3.62</td>\n",
       "      <td>96.27</td>\n",
       "      <td>97.49</td>\n",
       "      <td>91.03</td>\n",
       "      <td>6.46</td>\n",
       "      <td>2.60</td>\n",
       "    </tr>\n",
       "    <tr>\n",
       "      <th>33</th>\n",
       "      <td>Stuart Skinner</td>\n",
       "      <td>2024-01-27</td>\n",
       "      <td>2023020761</td>\n",
       "      <td>20232024</td>\n",
       "      <td>EDM</td>\n",
       "      <td>NSH</td>\n",
       "      <td>1</td>\n",
       "      <td>G</td>\n",
       "      <td>60.00</td>\n",
       "      <td>100.00</td>\n",
       "      <td>1.01</td>\n",
       "      <td>27.68</td>\n",
       "      <td>46.64</td>\n",
       "      <td>4.24</td>\n",
       "      <td>96.34</td>\n",
       "      <td>97.83</td>\n",
       "      <td>90.91</td>\n",
       "      <td>6.92</td>\n",
       "      <td>3.23</td>\n",
       "    </tr>\n",
       "  </tbody>\n",
       "</table>\n",
       "</div>"
      ],
      "text/plain": [
       "            Player        Date     Game_ID    Season Team Opponent Is_Home  \\\n",
       "29  Stuart Skinner  2024-01-16  2023020688  20232024  EDM      TOR       1   \n",
       "30  Stuart Skinner  2024-01-18  2023020698  20232024  EDM      SEA       1   \n",
       "31  Stuart Skinner  2024-01-20  2023020714  20232024  EDM      CGY       0   \n",
       "32  Stuart Skinner  2024-01-23  2023020736  20232024  EDM      CBJ       1   \n",
       "33  Stuart Skinner  2024-01-27  2023020761  20232024  EDM      NSH       1   \n",
       "\n",
       "   Position    TOI    TOI%    GA     SA     FA   xGA    Sv%   FSv%  xFSv%  \\\n",
       "29        G  59.70   99.50  2.13  29.79  45.15  4.10  92.84  95.28  90.93   \n",
       "30        G  60.00  100.00  2.13  27.46  39.19  2.79  92.24  94.56  92.88   \n",
       "31        G  59.85   99.75  0.94  25.35  32.65  2.14  96.30  97.13  93.44   \n",
       "32        G  60.00  100.00  1.01  27.12  40.30  3.62  96.27  97.49  91.03   \n",
       "33        G  60.00  100.00  1.01  27.68  46.64  4.24  96.34  97.83  90.91   \n",
       "\n",
       "    dFSv%  GSAx  \n",
       "29   4.35  1.97  \n",
       "30   1.68  0.66  \n",
       "31   3.69  1.20  \n",
       "32   6.46  2.60  \n",
       "33   6.92  3.23  "
      ]
     },
     "execution_count": 110,
     "metadata": {},
     "output_type": "execute_result"
    }
   ],
   "source": [
    "skinner = pd.read_csv('goalie-csv/EH_game_log_stuart_skinner_on-ice_all_regular_2024-01-30.csv')\n",
    "skinnerStart = skinner.head(13)\n",
    "skinnerEnd = skinner.tail(21)\n",
    "skinnerEnd.drop(index=34, inplace=True)\n",
    "skinnerEnd.tail()"
   ]
  },
  {
   "cell_type": "code",
   "execution_count": 111,
   "metadata": {},
   "outputs": [
    {
     "data": {
      "text/html": [
       "<div>\n",
       "<style scoped>\n",
       "    .dataframe tbody tr th:only-of-type {\n",
       "        vertical-align: middle;\n",
       "    }\n",
       "\n",
       "    .dataframe tbody tr th {\n",
       "        vertical-align: top;\n",
       "    }\n",
       "\n",
       "    .dataframe thead th {\n",
       "        text-align: right;\n",
       "    }\n",
       "</style>\n",
       "<table border=\"1\" class=\"dataframe\">\n",
       "  <thead>\n",
       "    <tr style=\"text-align: right;\">\n",
       "      <th></th>\n",
       "      <th>Season</th>\n",
       "      <th>Team</th>\n",
       "      <th>Position</th>\n",
       "      <th>GP</th>\n",
       "      <th>TOI</th>\n",
       "      <th>GA</th>\n",
       "      <th>SA</th>\n",
       "      <th>FA</th>\n",
       "      <th>xGA</th>\n",
       "      <th>Sv%</th>\n",
       "      <th>FSv%</th>\n",
       "      <th>xFSv%</th>\n",
       "      <th>dFSv%</th>\n",
       "      <th>GSAA</th>\n",
       "      <th>GSAx</th>\n",
       "    </tr>\n",
       "    <tr>\n",
       "      <th>Player</th>\n",
       "      <th></th>\n",
       "      <th></th>\n",
       "      <th></th>\n",
       "      <th></th>\n",
       "      <th></th>\n",
       "      <th></th>\n",
       "      <th></th>\n",
       "      <th></th>\n",
       "      <th></th>\n",
       "      <th></th>\n",
       "      <th></th>\n",
       "      <th></th>\n",
       "      <th></th>\n",
       "      <th></th>\n",
       "      <th></th>\n",
       "    </tr>\n",
       "  </thead>\n",
       "  <tbody>\n",
       "    <tr>\n",
       "      <th>Luukkonen</th>\n",
       "      <td>23-24</td>\n",
       "      <td>BUF</td>\n",
       "      <td>G</td>\n",
       "      <td>27</td>\n",
       "      <td>1509.63</td>\n",
       "      <td>64.82</td>\n",
       "      <td>731.20</td>\n",
       "      <td>1081.32</td>\n",
       "      <td>78.13</td>\n",
       "      <td>91.140000</td>\n",
       "      <td>94.010000</td>\n",
       "      <td>92.770000</td>\n",
       "      <td>1.23</td>\n",
       "      <td>5.50</td>\n",
       "      <td>13.31</td>\n",
       "    </tr>\n",
       "    <tr>\n",
       "      <th>Husso</th>\n",
       "      <td>23-24</td>\n",
       "      <td>DET</td>\n",
       "      <td>G</td>\n",
       "      <td>18</td>\n",
       "      <td>1004.12</td>\n",
       "      <td>58.05</td>\n",
       "      <td>544.41</td>\n",
       "      <td>818.41</td>\n",
       "      <td>60.62</td>\n",
       "      <td>89.340000</td>\n",
       "      <td>92.910000</td>\n",
       "      <td>92.590000</td>\n",
       "      <td>0.31</td>\n",
       "      <td>-5.70</td>\n",
       "      <td>2.57</td>\n",
       "    </tr>\n",
       "    <tr>\n",
       "      <th>Vanecek</th>\n",
       "      <td>23-24</td>\n",
       "      <td>N.J</td>\n",
       "      <td>G</td>\n",
       "      <td>30</td>\n",
       "      <td>1669.93</td>\n",
       "      <td>90.66</td>\n",
       "      <td>806.34</td>\n",
       "      <td>1138.77</td>\n",
       "      <td>78.83</td>\n",
       "      <td>88.760000</td>\n",
       "      <td>92.040000</td>\n",
       "      <td>93.080000</td>\n",
       "      <td>-1.04</td>\n",
       "      <td>-13.12</td>\n",
       "      <td>-11.83</td>\n",
       "    </tr>\n",
       "    <tr>\n",
       "      <th>Skinner Before Nov 23</th>\n",
       "      <td>23-24</td>\n",
       "      <td>EDM</td>\n",
       "      <td>G</td>\n",
       "      <td>13</td>\n",
       "      <td>705.11</td>\n",
       "      <td>43.06</td>\n",
       "      <td>326.84</td>\n",
       "      <td>470.65</td>\n",
       "      <td>35.04</td>\n",
       "      <td>85.146923</td>\n",
       "      <td>89.609231</td>\n",
       "      <td>92.692308</td>\n",
       "      <td>0.00</td>\n",
       "      <td>0.00</td>\n",
       "      <td>-8.03</td>\n",
       "    </tr>\n",
       "    <tr>\n",
       "      <th>Skinner After Nov 23</th>\n",
       "      <td>23-24</td>\n",
       "      <td>EDM</td>\n",
       "      <td>G</td>\n",
       "      <td>20</td>\n",
       "      <td>1202.08</td>\n",
       "      <td>37.43</td>\n",
       "      <td>534.56</td>\n",
       "      <td>759.54</td>\n",
       "      <td>55.57</td>\n",
       "      <td>92.700500</td>\n",
       "      <td>94.786500</td>\n",
       "      <td>92.705000</td>\n",
       "      <td>0.00</td>\n",
       "      <td>0.00</td>\n",
       "      <td>18.11</td>\n",
       "    </tr>\n",
       "  </tbody>\n",
       "</table>\n",
       "</div>"
      ],
      "text/plain": [
       "                      Season Team Position  GP      TOI     GA      SA  \\\n",
       "Player                                                                   \n",
       "Luukkonen              23-24  BUF        G  27  1509.63  64.82  731.20   \n",
       "Husso                  23-24  DET        G  18  1004.12  58.05  544.41   \n",
       "Vanecek                23-24  N.J        G  30  1669.93  90.66  806.34   \n",
       "Skinner Before Nov 23  23-24  EDM        G  13   705.11  43.06  326.84   \n",
       "Skinner After Nov 23   23-24  EDM        G  20  1202.08  37.43  534.56   \n",
       "\n",
       "                            FA    xGA        Sv%       FSv%      xFSv%  dFSv%  \\\n",
       "Player                                                                          \n",
       "Luukkonen              1081.32  78.13  91.140000  94.010000  92.770000   1.23   \n",
       "Husso                   818.41  60.62  89.340000  92.910000  92.590000   0.31   \n",
       "Vanecek                1138.77  78.83  88.760000  92.040000  93.080000  -1.04   \n",
       "Skinner Before Nov 23   470.65  35.04  85.146923  89.609231  92.692308   0.00   \n",
       "Skinner After Nov 23    759.54  55.57  92.700500  94.786500  92.705000   0.00   \n",
       "\n",
       "                        GSAA   GSAx  \n",
       "Player                               \n",
       "Luukkonen               5.50  13.31  \n",
       "Husso                  -5.70   2.57  \n",
       "Vanecek               -13.12 -11.83  \n",
       "Skinner Before Nov 23   0.00  -8.03  \n",
       "Skinner After Nov 23    0.00  18.11  "
      ]
     },
     "execution_count": 111,
     "metadata": {},
     "output_type": "execute_result"
    }
   ],
   "source": [
    "data.loc[f'Skinner Before Nov 23'] = ['23-24', 'EDM', 'G', len(skinnerStart.index), skinnerStart['TOI'].sum(), skinnerStart['GA'].sum(), \n",
    "                            skinnerStart['SA'].sum(), skinnerStart['FA'].sum(), skinnerStart['xGA'].sum(), skinnerStart['Sv%'].mean(),\n",
    "                            skinnerStart['FSv%'].mean(), skinnerStart['xFSv%'].mean(), 0, 0, skinnerStart['GSAx'].sum()]\n",
    "\n",
    "data.loc[f'Skinner After Nov 23'] = ['23-24', 'EDM', 'G', len(skinnerEnd.index), skinnerEnd['TOI'].sum(), skinnerEnd['GA'].sum(), \n",
    "                            skinnerEnd['SA'].sum(), skinnerEnd['FA'].sum(), skinnerEnd['xGA'].sum(), skinnerEnd['Sv%'].mean(),\n",
    "                            skinnerEnd['FSv%'].mean(), skinnerEnd['xFSv%'].mean(), 0, 0, skinnerEnd['GSAx'].sum()]\n",
    "data.tail()"
   ]
  },
  {
   "cell_type": "code",
   "execution_count": 112,
   "metadata": {},
   "outputs": [
    {
     "data": {
      "text/html": [
       "<div>\n",
       "<style scoped>\n",
       "    .dataframe tbody tr th:only-of-type {\n",
       "        vertical-align: middle;\n",
       "    }\n",
       "\n",
       "    .dataframe tbody tr th {\n",
       "        vertical-align: top;\n",
       "    }\n",
       "\n",
       "    .dataframe thead th {\n",
       "        text-align: right;\n",
       "    }\n",
       "</style>\n",
       "<table border=\"1\" class=\"dataframe\">\n",
       "  <thead>\n",
       "    <tr style=\"text-align: right;\">\n",
       "      <th></th>\n",
       "      <th>Season</th>\n",
       "      <th>Team</th>\n",
       "      <th>Position</th>\n",
       "      <th>GP</th>\n",
       "      <th>TOI</th>\n",
       "      <th>GA</th>\n",
       "      <th>SA</th>\n",
       "      <th>FA</th>\n",
       "      <th>xGA</th>\n",
       "      <th>Sv%</th>\n",
       "      <th>FSv%</th>\n",
       "      <th>xFSv%</th>\n",
       "      <th>dFSv%</th>\n",
       "      <th>GSAA</th>\n",
       "      <th>GSAx</th>\n",
       "      <th>GSAx/60</th>\n",
       "    </tr>\n",
       "    <tr>\n",
       "      <th>Player</th>\n",
       "      <th></th>\n",
       "      <th></th>\n",
       "      <th></th>\n",
       "      <th></th>\n",
       "      <th></th>\n",
       "      <th></th>\n",
       "      <th></th>\n",
       "      <th></th>\n",
       "      <th></th>\n",
       "      <th></th>\n",
       "      <th></th>\n",
       "      <th></th>\n",
       "      <th></th>\n",
       "      <th></th>\n",
       "      <th></th>\n",
       "      <th></th>\n",
       "    </tr>\n",
       "  </thead>\n",
       "  <tbody>\n",
       "    <tr>\n",
       "      <th>Hill</th>\n",
       "      <td>23-24</td>\n",
       "      <td>VGK</td>\n",
       "      <td>G</td>\n",
       "      <td>18</td>\n",
       "      <td>1021.13</td>\n",
       "      <td>32.17</td>\n",
       "      <td>505.96</td>\n",
       "      <td>766.12</td>\n",
       "      <td>52.10</td>\n",
       "      <td>93.64</td>\n",
       "      <td>95.80</td>\n",
       "      <td>93.20</td>\n",
       "      <td>2.60</td>\n",
       "      <td>16.49</td>\n",
       "      <td>19.93</td>\n",
       "      <td>1.17</td>\n",
       "    </tr>\n",
       "    <tr>\n",
       "      <th>Schmid</th>\n",
       "      <td>23-24</td>\n",
       "      <td>N.J</td>\n",
       "      <td>G</td>\n",
       "      <td>15</td>\n",
       "      <td>755.53</td>\n",
       "      <td>41.62</td>\n",
       "      <td>386.96</td>\n",
       "      <td>536.85</td>\n",
       "      <td>38.61</td>\n",
       "      <td>89.24</td>\n",
       "      <td>92.25</td>\n",
       "      <td>92.81</td>\n",
       "      <td>-0.56</td>\n",
       "      <td>-4.40</td>\n",
       "      <td>-3.01</td>\n",
       "      <td>-0.24</td>\n",
       "    </tr>\n",
       "    <tr>\n",
       "      <th>Lyon</th>\n",
       "      <td>23-24</td>\n",
       "      <td>DET</td>\n",
       "      <td>G</td>\n",
       "      <td>21</td>\n",
       "      <td>1192.97</td>\n",
       "      <td>50.03</td>\n",
       "      <td>638.11</td>\n",
       "      <td>902.90</td>\n",
       "      <td>60.62</td>\n",
       "      <td>92.16</td>\n",
       "      <td>94.46</td>\n",
       "      <td>93.29</td>\n",
       "      <td>1.17</td>\n",
       "      <td>11.33</td>\n",
       "      <td>10.59</td>\n",
       "      <td>0.53</td>\n",
       "    </tr>\n",
       "    <tr>\n",
       "      <th>Nedeljkovic</th>\n",
       "      <td>23-24</td>\n",
       "      <td>PIT</td>\n",
       "      <td>G</td>\n",
       "      <td>16</td>\n",
       "      <td>898.98</td>\n",
       "      <td>38.96</td>\n",
       "      <td>469.03</td>\n",
       "      <td>685.64</td>\n",
       "      <td>43.44</td>\n",
       "      <td>91.69</td>\n",
       "      <td>94.32</td>\n",
       "      <td>93.66</td>\n",
       "      <td>0.65</td>\n",
       "      <td>6.15</td>\n",
       "      <td>4.48</td>\n",
       "      <td>0.30</td>\n",
       "    </tr>\n",
       "    <tr>\n",
       "      <th>Georgiev</th>\n",
       "      <td>23-24</td>\n",
       "      <td>COL</td>\n",
       "      <td>G</td>\n",
       "      <td>42</td>\n",
       "      <td>2456.87</td>\n",
       "      <td>117.61</td>\n",
       "      <td>1152.36</td>\n",
       "      <td>1628.15</td>\n",
       "      <td>119.14</td>\n",
       "      <td>89.79</td>\n",
       "      <td>92.78</td>\n",
       "      <td>92.68</td>\n",
       "      <td>0.09</td>\n",
       "      <td>-6.79</td>\n",
       "      <td>1.53</td>\n",
       "      <td>0.04</td>\n",
       "    </tr>\n",
       "  </tbody>\n",
       "</table>\n",
       "</div>"
      ],
      "text/plain": [
       "            Season Team Position  GP      TOI      GA       SA       FA  \\\n",
       "Player                                                                    \n",
       "Hill         23-24  VGK        G  18  1021.13   32.17   505.96   766.12   \n",
       "Schmid       23-24  N.J        G  15   755.53   41.62   386.96   536.85   \n",
       "Lyon         23-24  DET        G  21  1192.97   50.03   638.11   902.90   \n",
       "Nedeljkovic  23-24  PIT        G  16   898.98   38.96   469.03   685.64   \n",
       "Georgiev     23-24  COL        G  42  2456.87  117.61  1152.36  1628.15   \n",
       "\n",
       "                xGA    Sv%   FSv%  xFSv%  dFSv%   GSAA   GSAx  GSAx/60  \n",
       "Player                                                                  \n",
       "Hill          52.10  93.64  95.80  93.20   2.60  16.49  19.93     1.17  \n",
       "Schmid        38.61  89.24  92.25  92.81  -0.56  -4.40  -3.01    -0.24  \n",
       "Lyon          60.62  92.16  94.46  93.29   1.17  11.33  10.59     0.53  \n",
       "Nedeljkovic   43.44  91.69  94.32  93.66   0.65   6.15   4.48     0.30  \n",
       "Georgiev     119.14  89.79  92.78  92.68   0.09  -6.79   1.53     0.04  "
      ]
     },
     "execution_count": 112,
     "metadata": {},
     "output_type": "execute_result"
    }
   ],
   "source": [
    "data[\"GSAx/60\"] = round((60 * data[\"GSAx\"]) / data[\"TOI\"], 2)\n",
    "data.head()"
   ]
  },
  {
   "cell_type": "code",
   "execution_count": 113,
   "metadata": {},
   "outputs": [
    {
     "data": {
      "text/html": [
       "<div>\n",
       "<style scoped>\n",
       "    .dataframe tbody tr th:only-of-type {\n",
       "        vertical-align: middle;\n",
       "    }\n",
       "\n",
       "    .dataframe tbody tr th {\n",
       "        vertical-align: top;\n",
       "    }\n",
       "\n",
       "    .dataframe thead th {\n",
       "        text-align: right;\n",
       "    }\n",
       "</style>\n",
       "<table border=\"1\" class=\"dataframe\">\n",
       "  <thead>\n",
       "    <tr style=\"text-align: right;\">\n",
       "      <th></th>\n",
       "      <th>Season</th>\n",
       "      <th>Team</th>\n",
       "      <th>Position</th>\n",
       "      <th>GP</th>\n",
       "      <th>TOI</th>\n",
       "      <th>GA</th>\n",
       "      <th>SA</th>\n",
       "      <th>FA</th>\n",
       "      <th>xGA</th>\n",
       "      <th>Sv%</th>\n",
       "      <th>FSv%</th>\n",
       "      <th>xFSv%</th>\n",
       "      <th>dFSv%</th>\n",
       "      <th>GSAA</th>\n",
       "      <th>GSAx</th>\n",
       "      <th>GSAx/60</th>\n",
       "      <th>GA/100 xGA</th>\n",
       "    </tr>\n",
       "    <tr>\n",
       "      <th>Player</th>\n",
       "      <th></th>\n",
       "      <th></th>\n",
       "      <th></th>\n",
       "      <th></th>\n",
       "      <th></th>\n",
       "      <th></th>\n",
       "      <th></th>\n",
       "      <th></th>\n",
       "      <th></th>\n",
       "      <th></th>\n",
       "      <th></th>\n",
       "      <th></th>\n",
       "      <th></th>\n",
       "      <th></th>\n",
       "      <th></th>\n",
       "      <th></th>\n",
       "      <th></th>\n",
       "    </tr>\n",
       "  </thead>\n",
       "  <tbody>\n",
       "    <tr>\n",
       "      <th>Hill</th>\n",
       "      <td>23-24</td>\n",
       "      <td>VGK</td>\n",
       "      <td>G</td>\n",
       "      <td>18</td>\n",
       "      <td>1021.13</td>\n",
       "      <td>32.17</td>\n",
       "      <td>505.96</td>\n",
       "      <td>766.12</td>\n",
       "      <td>52.10</td>\n",
       "      <td>93.64</td>\n",
       "      <td>95.80</td>\n",
       "      <td>93.20</td>\n",
       "      <td>2.60</td>\n",
       "      <td>16.49</td>\n",
       "      <td>19.93</td>\n",
       "      <td>1.17</td>\n",
       "      <td>62.0</td>\n",
       "    </tr>\n",
       "    <tr>\n",
       "      <th>Schmid</th>\n",
       "      <td>23-24</td>\n",
       "      <td>N.J</td>\n",
       "      <td>G</td>\n",
       "      <td>15</td>\n",
       "      <td>755.53</td>\n",
       "      <td>41.62</td>\n",
       "      <td>386.96</td>\n",
       "      <td>536.85</td>\n",
       "      <td>38.61</td>\n",
       "      <td>89.24</td>\n",
       "      <td>92.25</td>\n",
       "      <td>92.81</td>\n",
       "      <td>-0.56</td>\n",
       "      <td>-4.40</td>\n",
       "      <td>-3.01</td>\n",
       "      <td>-0.24</td>\n",
       "      <td>108.0</td>\n",
       "    </tr>\n",
       "    <tr>\n",
       "      <th>Lyon</th>\n",
       "      <td>23-24</td>\n",
       "      <td>DET</td>\n",
       "      <td>G</td>\n",
       "      <td>21</td>\n",
       "      <td>1192.97</td>\n",
       "      <td>50.03</td>\n",
       "      <td>638.11</td>\n",
       "      <td>902.90</td>\n",
       "      <td>60.62</td>\n",
       "      <td>92.16</td>\n",
       "      <td>94.46</td>\n",
       "      <td>93.29</td>\n",
       "      <td>1.17</td>\n",
       "      <td>11.33</td>\n",
       "      <td>10.59</td>\n",
       "      <td>0.53</td>\n",
       "      <td>83.0</td>\n",
       "    </tr>\n",
       "    <tr>\n",
       "      <th>Nedeljkovic</th>\n",
       "      <td>23-24</td>\n",
       "      <td>PIT</td>\n",
       "      <td>G</td>\n",
       "      <td>16</td>\n",
       "      <td>898.98</td>\n",
       "      <td>38.96</td>\n",
       "      <td>469.03</td>\n",
       "      <td>685.64</td>\n",
       "      <td>43.44</td>\n",
       "      <td>91.69</td>\n",
       "      <td>94.32</td>\n",
       "      <td>93.66</td>\n",
       "      <td>0.65</td>\n",
       "      <td>6.15</td>\n",
       "      <td>4.48</td>\n",
       "      <td>0.30</td>\n",
       "      <td>90.0</td>\n",
       "    </tr>\n",
       "    <tr>\n",
       "      <th>Georgiev</th>\n",
       "      <td>23-24</td>\n",
       "      <td>COL</td>\n",
       "      <td>G</td>\n",
       "      <td>42</td>\n",
       "      <td>2456.87</td>\n",
       "      <td>117.61</td>\n",
       "      <td>1152.36</td>\n",
       "      <td>1628.15</td>\n",
       "      <td>119.14</td>\n",
       "      <td>89.79</td>\n",
       "      <td>92.78</td>\n",
       "      <td>92.68</td>\n",
       "      <td>0.09</td>\n",
       "      <td>-6.79</td>\n",
       "      <td>1.53</td>\n",
       "      <td>0.04</td>\n",
       "      <td>99.0</td>\n",
       "    </tr>\n",
       "  </tbody>\n",
       "</table>\n",
       "</div>"
      ],
      "text/plain": [
       "            Season Team Position  GP      TOI      GA       SA       FA  \\\n",
       "Player                                                                    \n",
       "Hill         23-24  VGK        G  18  1021.13   32.17   505.96   766.12   \n",
       "Schmid       23-24  N.J        G  15   755.53   41.62   386.96   536.85   \n",
       "Lyon         23-24  DET        G  21  1192.97   50.03   638.11   902.90   \n",
       "Nedeljkovic  23-24  PIT        G  16   898.98   38.96   469.03   685.64   \n",
       "Georgiev     23-24  COL        G  42  2456.87  117.61  1152.36  1628.15   \n",
       "\n",
       "                xGA    Sv%   FSv%  xFSv%  dFSv%   GSAA   GSAx  GSAx/60  \\\n",
       "Player                                                                   \n",
       "Hill          52.10  93.64  95.80  93.20   2.60  16.49  19.93     1.17   \n",
       "Schmid        38.61  89.24  92.25  92.81  -0.56  -4.40  -3.01    -0.24   \n",
       "Lyon          60.62  92.16  94.46  93.29   1.17  11.33  10.59     0.53   \n",
       "Nedeljkovic   43.44  91.69  94.32  93.66   0.65   6.15   4.48     0.30   \n",
       "Georgiev     119.14  89.79  92.78  92.68   0.09  -6.79   1.53     0.04   \n",
       "\n",
       "             GA/100 xGA  \n",
       "Player                   \n",
       "Hill               62.0  \n",
       "Schmid            108.0  \n",
       "Lyon               83.0  \n",
       "Nedeljkovic        90.0  \n",
       "Georgiev           99.0  "
      ]
     },
     "execution_count": 113,
     "metadata": {},
     "output_type": "execute_result"
    }
   ],
   "source": [
    "data[\"GA/100 xGA\"] = round((100 * data[\"GA\"] / data[\"xGA\"]))\n",
    "data.head()"
   ]
  },
  {
   "cell_type": "code",
   "execution_count": 114,
   "metadata": {},
   "outputs": [
    {
     "data": {
      "application/vnd.plotly.v1+json": {
       "config": {
        "plotlyServerURL": "https://plot.ly"
       },
       "data": [
        {
         "hovertemplate": "xGA=%{x}<br>GA/100 xGA=%{y}<extra></extra>",
         "legendgroup": "",
         "marker": {
          "color": "#636efa",
          "symbol": "circle"
         },
         "mode": "markers",
         "name": "",
         "orientation": "v",
         "showlegend": false,
         "type": "scatter",
         "x": [
          52.1,
          38.61,
          60.62,
          43.44,
          119.14,
          77.01,
          36.37,
          42.4,
          55.14,
          65.04,
          87.62,
          70.17,
          41.95,
          35.13,
          64.12,
          107.23,
          97.83,
          44.96,
          78.48,
          61.63,
          91.39,
          85.65,
          90.83,
          54.9,
          118.84,
          104.49,
          61.39,
          82.35,
          39.02,
          77.11,
          50.76,
          91.91,
          106.31,
          67.8,
          55.11,
          90.09,
          113.09,
          49.89,
          114.83,
          78.29,
          62.71,
          35.39,
          77.94,
          87.08,
          71.99,
          110.26,
          60.25,
          46.64,
          107.96,
          46.03,
          51.48,
          87.2,
          67.81,
          60.98,
          50.54,
          94.6,
          40.41,
          94.3,
          108.03,
          91.47,
          78.13,
          60.62,
          78.83,
          35.040000000000006,
          55.57
         ],
         "xaxis": "x",
         "y": [
          62,
          108,
          83,
          90,
          99,
          97,
          85,
          112,
          115,
          111,
          91,
          98,
          88,
          101,
          87,
          75,
          80,
          111,
          99,
          103,
          92,
          105,
          99,
          118,
          92,
          73,
          93,
          100,
          103,
          81,
          90,
          83,
          87,
          105,
          76,
          114,
          86,
          84,
          97,
          95,
          101,
          102,
          84,
          95,
          95,
          94,
          107,
          87,
          88,
          110,
          110,
          85,
          93,
          113,
          82,
          94,
          108,
          87,
          80,
          81,
          83,
          96,
          115,
          123,
          67
         ],
         "yaxis": "y"
        }
       ],
       "layout": {
        "annotations": [
         {
          "bgcolor": "#B4975A",
          "borderpad": 2.5,
          "font": {
           "color": "#000000",
           "size": 11
          },
          "name": "Team",
          "opacity": 0.8,
          "showarrow": false,
          "text": "Hill",
          "x": 52.1,
          "y": 62
         },
         {
          "bgcolor": "#CE1126",
          "borderpad": 2.5,
          "font": {
           "color": "#ffffff",
           "size": 11
          },
          "name": "Team",
          "opacity": 0.8,
          "showarrow": false,
          "text": "Schmid",
          "x": 38.61,
          "y": 108
         },
         {
          "bgcolor": "#d52b3f",
          "borderpad": 2.5,
          "font": {
           "color": "#ffffff",
           "size": 11
          },
          "name": "Team",
          "opacity": 0.8,
          "showarrow": false,
          "text": "Lyon",
          "x": 60.62,
          "y": 83
         },
         {
          "bgcolor": "#FCB514",
          "borderpad": 2.5,
          "font": {
           "color": "#000000",
           "size": 11
          },
          "name": "Team",
          "opacity": 0.8,
          "showarrow": false,
          "text": "Nedeljkovic",
          "x": 43.44,
          "y": 90
         },
         {
          "bgcolor": "#6F263D",
          "borderpad": 2.5,
          "font": {
           "color": "#ffffff",
           "size": 11
          },
          "name": "Team",
          "opacity": 0.8,
          "showarrow": false,
          "text": "Georgiev",
          "x": 119.14,
          "y": 99
         },
         {
          "bgcolor": "#002868",
          "borderpad": 2.5,
          "font": {
           "color": "#ffffff",
           "size": 11
          },
          "name": "Team",
          "opacity": 0.8,
          "showarrow": false,
          "text": "Vasilevskiy",
          "x": 77.01,
          "y": 97
         },
         {
          "bgcolor": "#C8102E",
          "borderpad": 2.5,
          "font": {
           "color": "#ffffff",
           "size": 11
          },
          "name": "Team",
          "opacity": 0.8,
          "showarrow": false,
          "text": "Stolarz",
          "x": 36.37,
          "y": 85
         },
         {
          "bgcolor": "#b12323",
          "borderpad": 2.5,
          "font": {
           "color": "#ffffff",
           "size": 11
          },
          "name": "Team",
          "opacity": 0.8,
          "showarrow": false,
          "text": "Forsberg",
          "x": 42.4,
          "y": 112
         },
         {
          "bgcolor": "#CE1126",
          "borderpad": 2.5,
          "font": {
           "color": "#ffffff",
           "size": 11
          },
          "name": "Team",
          "opacity": 0.8,
          "showarrow": false,
          "text": "Raanta",
          "x": 55.14,
          "y": 115
         },
         {
          "bgcolor": "#af2c1b",
          "borderpad": 2.5,
          "font": {
           "color": "#ffffff",
           "size": 11
          },
          "name": "Team",
          "opacity": 0.8,
          "showarrow": false,
          "text": "Soderblom",
          "x": 65.04,
          "y": 111
         },
         {
          "bgcolor": "#111111",
          "borderpad": 2.5,
          "font": {
           "color": "#ffffff",
           "size": 11
          },
          "name": "Team",
          "opacity": 0.8,
          "showarrow": false,
          "text": "Talbot",
          "x": 87.62,
          "y": 91
         },
         {
          "bgcolor": "#F74902",
          "borderpad": 2.5,
          "font": {
           "color": "#ffffff",
           "size": 11
          },
          "name": "Team",
          "opacity": 0.8,
          "showarrow": false,
          "text": "Hart",
          "x": 70.17,
          "y": 98
         },
         {
          "bgcolor": "#173d83",
          "borderpad": 2.5,
          "font": {
           "color": "#ffffff",
           "size": 11
          },
          "name": "Team",
          "opacity": 0.8,
          "showarrow": false,
          "text": "Desmith",
          "x": 41.95,
          "y": 88
         },
         {
          "bgcolor": "#AF1E2D",
          "borderpad": 2.5,
          "font": {
           "color": "#ffffff",
           "size": 11
          },
          "name": "Team",
          "opacity": 0.8,
          "showarrow": false,
          "text": "Primeau",
          "x": 35.13,
          "y": 101
         },
         {
          "bgcolor": "#C8102E",
          "borderpad": 2.5,
          "font": {
           "color": "#ffffff",
           "size": 11
          },
          "name": "Team",
          "opacity": 0.8,
          "showarrow": false,
          "text": "Lindgren",
          "x": 64.12,
          "y": 87
         },
         {
          "bgcolor": "#041E42",
          "borderpad": 2.5,
          "font": {
           "color": "#ffffff",
           "size": 11
          },
          "name": "Team",
          "opacity": 0.8,
          "showarrow": false,
          "text": "Hellebuyck",
          "x": 107.23,
          "y": 75
         },
         {
          "bgcolor": "#794848",
          "borderpad": 2.5,
          "font": {
           "color": "#ffffff",
           "size": 11
          },
          "name": "Team",
          "opacity": 0.8,
          "showarrow": false,
          "text": "Ingram",
          "x": 97.83,
          "y": 80
         },
         {
          "bgcolor": "#d6300e",
          "borderpad": 2.5,
          "font": {
           "color": "#ffffff",
           "size": 11
          },
          "name": "Team",
          "opacity": 0.8,
          "showarrow": false,
          "text": "Vladar",
          "x": 44.96,
          "y": 111
         },
         {
          "bgcolor": "#C8102E",
          "borderpad": 2.5,
          "font": {
           "color": "#ffffff",
           "size": 11
          },
          "name": "Team",
          "opacity": 0.8,
          "showarrow": false,
          "text": "Kuemper",
          "x": 78.48,
          "y": 99
         },
         {
          "bgcolor": "#003087",
          "borderpad": 2.5,
          "font": {
           "color": "#ffffff",
           "size": 11
          },
          "name": "Team",
          "opacity": 0.8,
          "showarrow": false,
          "text": "Levi",
          "x": 61.63,
          "y": 103
         },
         {
          "bgcolor": "#002654",
          "borderpad": 2.5,
          "font": {
           "color": "#ffffff",
           "size": 11
          },
          "name": "Team",
          "opacity": 0.8,
          "showarrow": false,
          "text": "Merzlikins",
          "x": 91.39,
          "y": 92
         },
         {
          "bgcolor": "#154734",
          "borderpad": 2.5,
          "font": {
           "color": "#ffffff",
           "size": 11
          },
          "name": "Team",
          "opacity": 0.8,
          "showarrow": false,
          "text": "Gustavsson",
          "x": 85.65,
          "y": 105
         },
         {
          "bgcolor": "#0038A8",
          "borderpad": 2.5,
          "font": {
           "color": "#ffffff",
           "size": 11
          },
          "name": "Team",
          "opacity": 0.8,
          "showarrow": false,
          "text": "Shesterkin",
          "x": 90.83,
          "y": 99
         },
         {
          "bgcolor": "#00205B",
          "borderpad": 2.5,
          "font": {
           "color": "#ffffff",
           "size": 11
          },
          "name": "Team",
          "opacity": 0.8,
          "showarrow": false,
          "text": "Samsonov",
          "x": 54.9,
          "y": 118
         },
         {
          "bgcolor": "#F47D30",
          "borderpad": 2.5,
          "font": {
           "color": "#ffffff",
           "size": 11
          },
          "name": "Team",
          "opacity": 0.8,
          "showarrow": false,
          "text": "Sorokin",
          "x": 118.84,
          "y": 92
         },
         {
          "bgcolor": "#d6300e",
          "borderpad": 2.5,
          "font": {
           "color": "#ffffff",
           "size": 11
          },
          "name": "Team",
          "opacity": 0.8,
          "showarrow": false,
          "text": "Markstrom",
          "x": 104.49,
          "y": 73
         },
         {
          "bgcolor": "#AF1E2D",
          "borderpad": 2.5,
          "font": {
           "color": "#ffffff",
           "size": 11
          },
          "name": "Team",
          "opacity": 0.8,
          "showarrow": false,
          "text": "Allen",
          "x": 61.39,
          "y": 93
         },
         {
          "bgcolor": "#006847",
          "borderpad": 2.5,
          "font": {
           "color": "#ffffff",
           "size": 11
          },
          "name": "Team",
          "opacity": 0.8,
          "showarrow": false,
          "text": "Oettinger",
          "x": 82.35,
          "y": 100
         },
         {
          "bgcolor": "#d52b3f",
          "borderpad": 2.5,
          "font": {
           "color": "#ffffff",
           "size": 11
          },
          "name": "Team",
          "opacity": 0.8,
          "showarrow": false,
          "text": "Reimer",
          "x": 39.02,
          "y": 103
         },
         {
          "bgcolor": "#FFB81C",
          "borderpad": 2.5,
          "font": {
           "color": "#000000",
           "size": 11
          },
          "name": "Team",
          "opacity": 0.8,
          "showarrow": false,
          "text": "Swayman",
          "x": 77.11,
          "y": 81
         },
         {
          "bgcolor": "#041E42",
          "borderpad": 2.5,
          "font": {
           "color": "#ffffff",
           "size": 11
          },
          "name": "Team",
          "opacity": 0.8,
          "showarrow": false,
          "text": "Hofer",
          "x": 50.76,
          "y": 90
         },
         {
          "bgcolor": "#001628",
          "borderpad": 2.5,
          "font": {
           "color": "#ffffff",
           "size": 11
          },
          "name": "Team",
          "opacity": 0.8,
          "showarrow": false,
          "text": "Daccord",
          "x": 91.91,
          "y": 83
         },
         {
          "bgcolor": "#F47A38",
          "borderpad": 2.5,
          "font": {
           "color": "#ffffff",
           "size": 11
          },
          "name": "Team",
          "opacity": 0.8,
          "showarrow": false,
          "text": "Gibson",
          "x": 106.31,
          "y": 87
         },
         {
          "bgcolor": "#002868",
          "borderpad": 2.5,
          "font": {
           "color": "#ffffff",
           "size": 11
          },
          "name": "Team",
          "opacity": 0.8,
          "showarrow": false,
          "text": "Johansson",
          "x": 67.8,
          "y": 105
         },
         {
          "bgcolor": "#0038A8",
          "borderpad": 2.5,
          "font": {
           "color": "#ffffff",
           "size": 11
          },
          "name": "Team",
          "opacity": 0.8,
          "showarrow": false,
          "text": "Quick",
          "x": 55.11,
          "y": 76
         },
         {
          "bgcolor": "#b12323",
          "borderpad": 2.5,
          "font": {
           "color": "#ffffff",
           "size": 11
          },
          "name": "Team",
          "opacity": 0.8,
          "showarrow": false,
          "text": "Korpisalo",
          "x": 90.09,
          "y": 114
         },
         {
          "bgcolor": "#041E42",
          "borderpad": 2.5,
          "font": {
           "color": "#ffffff",
           "size": 11
          },
          "name": "Team",
          "opacity": 0.8,
          "showarrow": false,
          "text": "Binnington",
          "x": 113.09,
          "y": 86
         },
         {
          "bgcolor": "#00205B",
          "borderpad": 2.5,
          "font": {
           "color": "#ffffff",
           "size": 11
          },
          "name": "Team",
          "opacity": 0.8,
          "showarrow": false,
          "text": "Woll",
          "x": 49.89,
          "y": 84
         },
         {
          "bgcolor": "#FFB81C",
          "borderpad": 2.5,
          "font": {
           "color": "#000000",
           "size": 11
          },
          "name": "Team",
          "opacity": 0.8,
          "showarrow": false,
          "text": "Saros",
          "x": 114.83,
          "y": 97
         },
         {
          "bgcolor": "#006D75",
          "borderpad": 2.5,
          "font": {
           "color": "#ffffff",
           "size": 11
          },
          "name": "Team",
          "opacity": 0.8,
          "showarrow": false,
          "text": "Kahkonen",
          "x": 78.29,
          "y": 95
         },
         {
          "bgcolor": "#794848",
          "borderpad": 2.5,
          "font": {
           "color": "#ffffff",
           "size": 11
          },
          "name": "Team",
          "opacity": 0.8,
          "showarrow": false,
          "text": "Vejmelka",
          "x": 62.71,
          "y": 101
         },
         {
          "bgcolor": "#FFB81C",
          "borderpad": 2.5,
          "font": {
           "color": "#000000",
           "size": 11
          },
          "name": "Team",
          "opacity": 0.8,
          "showarrow": false,
          "text": "Lankinen",
          "x": 35.39,
          "y": 102
         },
         {
          "bgcolor": "#FFB81C",
          "borderpad": 2.5,
          "font": {
           "color": "#000000",
           "size": 11
          },
          "name": "Team",
          "opacity": 0.8,
          "showarrow": false,
          "text": "Ullmark",
          "x": 77.94,
          "y": 84
         },
         {
          "bgcolor": "#B4975A",
          "borderpad": 2.5,
          "font": {
           "color": "#000000",
           "size": 11
          },
          "name": "Team",
          "opacity": 0.8,
          "showarrow": false,
          "text": "Thompson",
          "x": 87.08,
          "y": 95
         },
         {
          "bgcolor": "#F47A38",
          "borderpad": 2.5,
          "font": {
           "color": "#ffffff",
           "size": 11
          },
          "name": "Team",
          "opacity": 0.8,
          "showarrow": false,
          "text": "Dostal",
          "x": 71.99,
          "y": 95
         },
         {
          "bgcolor": "#006D75",
          "borderpad": 2.5,
          "font": {
           "color": "#ffffff",
           "size": 11
          },
          "name": "Team",
          "opacity": 0.8,
          "showarrow": false,
          "text": "Blackwood",
          "x": 110.26,
          "y": 94
         },
         {
          "bgcolor": "#154734",
          "borderpad": 2.5,
          "font": {
           "color": "#ffffff",
           "size": 11
          },
          "name": "Team",
          "opacity": 0.8,
          "showarrow": false,
          "text": "Fleury",
          "x": 60.25,
          "y": 107
         },
         {
          "bgcolor": "#00205B",
          "borderpad": 2.5,
          "font": {
           "color": "#ffffff",
           "size": 11
          },
          "name": "Team",
          "opacity": 0.8,
          "showarrow": false,
          "text": "Jones",
          "x": 46.64,
          "y": 87
         },
         {
          "bgcolor": "#af2c1b",
          "borderpad": 2.5,
          "font": {
           "color": "#ffffff",
           "size": 11
          },
          "name": "Team",
          "opacity": 0.8,
          "showarrow": false,
          "text": "Mrazek",
          "x": 107.96,
          "y": 88
         },
         {
          "bgcolor": "#001628",
          "borderpad": 2.5,
          "font": {
           "color": "#ffffff",
           "size": 11
          },
          "name": "Team",
          "opacity": 0.8,
          "showarrow": false,
          "text": "Grubauer",
          "x": 46.03,
          "y": 110
         },
         {
          "bgcolor": "#CE1126",
          "borderpad": 2.5,
          "font": {
           "color": "#ffffff",
           "size": 11
          },
          "name": "Team",
          "opacity": 0.8,
          "showarrow": false,
          "text": "Kochetkov",
          "x": 51.48,
          "y": 110
         },
         {
          "bgcolor": "#AF1E2D",
          "borderpad": 2.5,
          "font": {
           "color": "#ffffff",
           "size": 11
          },
          "name": "Team",
          "opacity": 0.8,
          "showarrow": false,
          "text": "Montembeault",
          "x": 87.2,
          "y": 85
         },
         {
          "bgcolor": "#F74902",
          "borderpad": 2.5,
          "font": {
           "color": "#ffffff",
           "size": 11
          },
          "name": "Team",
          "opacity": 0.8,
          "showarrow": false,
          "text": "Ersson",
          "x": 67.81,
          "y": 93
         },
         {
          "bgcolor": "#006847",
          "borderpad": 2.5,
          "font": {
           "color": "#ffffff",
           "size": 11
          },
          "name": "Team",
          "opacity": 0.8,
          "showarrow": false,
          "text": "Wedgewood",
          "x": 60.98,
          "y": 113
         },
         {
          "bgcolor": "#F47D30",
          "borderpad": 2.5,
          "font": {
           "color": "#ffffff",
           "size": 11
          },
          "name": "Team",
          "opacity": 0.8,
          "showarrow": false,
          "text": "Varlamov",
          "x": 50.54,
          "y": 82
         },
         {
          "bgcolor": "#C8102E",
          "borderpad": 2.5,
          "font": {
           "color": "#ffffff",
           "size": 11
          },
          "name": "Team",
          "opacity": 0.8,
          "showarrow": false,
          "text": "Bobrovsky",
          "x": 94.6,
          "y": 94
         },
         {
          "bgcolor": "#002654",
          "borderpad": 2.5,
          "font": {
           "color": "#ffffff",
           "size": 11
          },
          "name": "Team",
          "opacity": 0.8,
          "showarrow": false,
          "text": "Martin",
          "x": 40.41,
          "y": 108
         },
         {
          "bgcolor": "#FF4C00",
          "borderpad": 2.5,
          "font": {
           "color": "#ffffff",
           "size": 11
          },
          "name": "Team",
          "opacity": 0.8,
          "showarrow": false,
          "text": "Skinner",
          "x": 94.3,
          "y": 87
         },
         {
          "bgcolor": "#173d83",
          "borderpad": 2.5,
          "font": {
           "color": "#ffffff",
           "size": 11
          },
          "name": "Team",
          "opacity": 0.8,
          "showarrow": false,
          "text": "Demko",
          "x": 108.03,
          "y": 80
         },
         {
          "bgcolor": "#FCB514",
          "borderpad": 2.5,
          "font": {
           "color": "#000000",
           "size": 11
          },
          "name": "Team",
          "opacity": 0.8,
          "showarrow": false,
          "text": "Jarry",
          "x": 91.47,
          "y": 81
         },
         {
          "bgcolor": "#003087",
          "borderpad": 2.5,
          "font": {
           "color": "#ffffff",
           "size": 11
          },
          "name": "Team",
          "opacity": 0.8,
          "showarrow": false,
          "text": "Luukkonen",
          "x": 78.13,
          "y": 83
         },
         {
          "bgcolor": "#d52b3f",
          "borderpad": 2.5,
          "font": {
           "color": "#ffffff",
           "size": 11
          },
          "name": "Team",
          "opacity": 0.8,
          "showarrow": false,
          "text": "Husso",
          "x": 60.62,
          "y": 96
         },
         {
          "bgcolor": "#CE1126",
          "borderpad": 2.5,
          "font": {
           "color": "#ffffff",
           "size": 11
          },
          "name": "Team",
          "opacity": 0.8,
          "showarrow": false,
          "text": "Vanecek",
          "x": 78.83,
          "y": 115
         },
         {
          "bgcolor": "#FF4C00",
          "borderpad": 2.5,
          "font": {
           "color": "#ffffff",
           "size": 11
          },
          "name": "Team",
          "opacity": 0.8,
          "showarrow": false,
          "text": "Skinner Before Nov 23",
          "x": 35.040000000000006,
          "y": 123
         },
         {
          "bgcolor": "#FF4C00",
          "borderpad": 2.5,
          "font": {
           "color": "#ffffff",
           "size": 11
          },
          "name": "Team",
          "opacity": 0.8,
          "showarrow": false,
          "text": "Skinner After Nov 23",
          "x": 55.57,
          "y": 67
         }
        ],
        "height": 750,
        "legend": {
         "tracegroupgap": 0
        },
        "margin": {
         "t": 60
        },
        "showlegend": false,
        "template": {
         "data": {
          "bar": [
           {
            "error_x": {
             "color": "#2a3f5f"
            },
            "error_y": {
             "color": "#2a3f5f"
            },
            "marker": {
             "line": {
              "color": "#E5ECF6",
              "width": 0.5
             },
             "pattern": {
              "fillmode": "overlay",
              "size": 10,
              "solidity": 0.2
             }
            },
            "type": "bar"
           }
          ],
          "barpolar": [
           {
            "marker": {
             "line": {
              "color": "#E5ECF6",
              "width": 0.5
             },
             "pattern": {
              "fillmode": "overlay",
              "size": 10,
              "solidity": 0.2
             }
            },
            "type": "barpolar"
           }
          ],
          "carpet": [
           {
            "aaxis": {
             "endlinecolor": "#2a3f5f",
             "gridcolor": "white",
             "linecolor": "white",
             "minorgridcolor": "white",
             "startlinecolor": "#2a3f5f"
            },
            "baxis": {
             "endlinecolor": "#2a3f5f",
             "gridcolor": "white",
             "linecolor": "white",
             "minorgridcolor": "white",
             "startlinecolor": "#2a3f5f"
            },
            "type": "carpet"
           }
          ],
          "choropleth": [
           {
            "colorbar": {
             "outlinewidth": 0,
             "ticks": ""
            },
            "type": "choropleth"
           }
          ],
          "contour": [
           {
            "colorbar": {
             "outlinewidth": 0,
             "ticks": ""
            },
            "colorscale": [
             [
              0,
              "#0d0887"
             ],
             [
              0.1111111111111111,
              "#46039f"
             ],
             [
              0.2222222222222222,
              "#7201a8"
             ],
             [
              0.3333333333333333,
              "#9c179e"
             ],
             [
              0.4444444444444444,
              "#bd3786"
             ],
             [
              0.5555555555555556,
              "#d8576b"
             ],
             [
              0.6666666666666666,
              "#ed7953"
             ],
             [
              0.7777777777777778,
              "#fb9f3a"
             ],
             [
              0.8888888888888888,
              "#fdca26"
             ],
             [
              1,
              "#f0f921"
             ]
            ],
            "type": "contour"
           }
          ],
          "contourcarpet": [
           {
            "colorbar": {
             "outlinewidth": 0,
             "ticks": ""
            },
            "type": "contourcarpet"
           }
          ],
          "heatmap": [
           {
            "colorbar": {
             "outlinewidth": 0,
             "ticks": ""
            },
            "colorscale": [
             [
              0,
              "#0d0887"
             ],
             [
              0.1111111111111111,
              "#46039f"
             ],
             [
              0.2222222222222222,
              "#7201a8"
             ],
             [
              0.3333333333333333,
              "#9c179e"
             ],
             [
              0.4444444444444444,
              "#bd3786"
             ],
             [
              0.5555555555555556,
              "#d8576b"
             ],
             [
              0.6666666666666666,
              "#ed7953"
             ],
             [
              0.7777777777777778,
              "#fb9f3a"
             ],
             [
              0.8888888888888888,
              "#fdca26"
             ],
             [
              1,
              "#f0f921"
             ]
            ],
            "type": "heatmap"
           }
          ],
          "heatmapgl": [
           {
            "colorbar": {
             "outlinewidth": 0,
             "ticks": ""
            },
            "colorscale": [
             [
              0,
              "#0d0887"
             ],
             [
              0.1111111111111111,
              "#46039f"
             ],
             [
              0.2222222222222222,
              "#7201a8"
             ],
             [
              0.3333333333333333,
              "#9c179e"
             ],
             [
              0.4444444444444444,
              "#bd3786"
             ],
             [
              0.5555555555555556,
              "#d8576b"
             ],
             [
              0.6666666666666666,
              "#ed7953"
             ],
             [
              0.7777777777777778,
              "#fb9f3a"
             ],
             [
              0.8888888888888888,
              "#fdca26"
             ],
             [
              1,
              "#f0f921"
             ]
            ],
            "type": "heatmapgl"
           }
          ],
          "histogram": [
           {
            "marker": {
             "pattern": {
              "fillmode": "overlay",
              "size": 10,
              "solidity": 0.2
             }
            },
            "type": "histogram"
           }
          ],
          "histogram2d": [
           {
            "colorbar": {
             "outlinewidth": 0,
             "ticks": ""
            },
            "colorscale": [
             [
              0,
              "#0d0887"
             ],
             [
              0.1111111111111111,
              "#46039f"
             ],
             [
              0.2222222222222222,
              "#7201a8"
             ],
             [
              0.3333333333333333,
              "#9c179e"
             ],
             [
              0.4444444444444444,
              "#bd3786"
             ],
             [
              0.5555555555555556,
              "#d8576b"
             ],
             [
              0.6666666666666666,
              "#ed7953"
             ],
             [
              0.7777777777777778,
              "#fb9f3a"
             ],
             [
              0.8888888888888888,
              "#fdca26"
             ],
             [
              1,
              "#f0f921"
             ]
            ],
            "type": "histogram2d"
           }
          ],
          "histogram2dcontour": [
           {
            "colorbar": {
             "outlinewidth": 0,
             "ticks": ""
            },
            "colorscale": [
             [
              0,
              "#0d0887"
             ],
             [
              0.1111111111111111,
              "#46039f"
             ],
             [
              0.2222222222222222,
              "#7201a8"
             ],
             [
              0.3333333333333333,
              "#9c179e"
             ],
             [
              0.4444444444444444,
              "#bd3786"
             ],
             [
              0.5555555555555556,
              "#d8576b"
             ],
             [
              0.6666666666666666,
              "#ed7953"
             ],
             [
              0.7777777777777778,
              "#fb9f3a"
             ],
             [
              0.8888888888888888,
              "#fdca26"
             ],
             [
              1,
              "#f0f921"
             ]
            ],
            "type": "histogram2dcontour"
           }
          ],
          "mesh3d": [
           {
            "colorbar": {
             "outlinewidth": 0,
             "ticks": ""
            },
            "type": "mesh3d"
           }
          ],
          "parcoords": [
           {
            "line": {
             "colorbar": {
              "outlinewidth": 0,
              "ticks": ""
             }
            },
            "type": "parcoords"
           }
          ],
          "pie": [
           {
            "automargin": true,
            "type": "pie"
           }
          ],
          "scatter": [
           {
            "fillpattern": {
             "fillmode": "overlay",
             "size": 10,
             "solidity": 0.2
            },
            "type": "scatter"
           }
          ],
          "scatter3d": [
           {
            "line": {
             "colorbar": {
              "outlinewidth": 0,
              "ticks": ""
             }
            },
            "marker": {
             "colorbar": {
              "outlinewidth": 0,
              "ticks": ""
             }
            },
            "type": "scatter3d"
           }
          ],
          "scattercarpet": [
           {
            "marker": {
             "colorbar": {
              "outlinewidth": 0,
              "ticks": ""
             }
            },
            "type": "scattercarpet"
           }
          ],
          "scattergeo": [
           {
            "marker": {
             "colorbar": {
              "outlinewidth": 0,
              "ticks": ""
             }
            },
            "type": "scattergeo"
           }
          ],
          "scattergl": [
           {
            "marker": {
             "colorbar": {
              "outlinewidth": 0,
              "ticks": ""
             }
            },
            "type": "scattergl"
           }
          ],
          "scattermapbox": [
           {
            "marker": {
             "colorbar": {
              "outlinewidth": 0,
              "ticks": ""
             }
            },
            "type": "scattermapbox"
           }
          ],
          "scatterpolar": [
           {
            "marker": {
             "colorbar": {
              "outlinewidth": 0,
              "ticks": ""
             }
            },
            "type": "scatterpolar"
           }
          ],
          "scatterpolargl": [
           {
            "marker": {
             "colorbar": {
              "outlinewidth": 0,
              "ticks": ""
             }
            },
            "type": "scatterpolargl"
           }
          ],
          "scatterternary": [
           {
            "marker": {
             "colorbar": {
              "outlinewidth": 0,
              "ticks": ""
             }
            },
            "type": "scatterternary"
           }
          ],
          "surface": [
           {
            "colorbar": {
             "outlinewidth": 0,
             "ticks": ""
            },
            "colorscale": [
             [
              0,
              "#0d0887"
             ],
             [
              0.1111111111111111,
              "#46039f"
             ],
             [
              0.2222222222222222,
              "#7201a8"
             ],
             [
              0.3333333333333333,
              "#9c179e"
             ],
             [
              0.4444444444444444,
              "#bd3786"
             ],
             [
              0.5555555555555556,
              "#d8576b"
             ],
             [
              0.6666666666666666,
              "#ed7953"
             ],
             [
              0.7777777777777778,
              "#fb9f3a"
             ],
             [
              0.8888888888888888,
              "#fdca26"
             ],
             [
              1,
              "#f0f921"
             ]
            ],
            "type": "surface"
           }
          ],
          "table": [
           {
            "cells": {
             "fill": {
              "color": "#EBF0F8"
             },
             "line": {
              "color": "white"
             }
            },
            "header": {
             "fill": {
              "color": "#C8D4E3"
             },
             "line": {
              "color": "white"
             }
            },
            "type": "table"
           }
          ]
         },
         "layout": {
          "annotationdefaults": {
           "arrowcolor": "#2a3f5f",
           "arrowhead": 0,
           "arrowwidth": 1
          },
          "autotypenumbers": "strict",
          "coloraxis": {
           "colorbar": {
            "outlinewidth": 0,
            "ticks": ""
           }
          },
          "colorscale": {
           "diverging": [
            [
             0,
             "#8e0152"
            ],
            [
             0.1,
             "#c51b7d"
            ],
            [
             0.2,
             "#de77ae"
            ],
            [
             0.3,
             "#f1b6da"
            ],
            [
             0.4,
             "#fde0ef"
            ],
            [
             0.5,
             "#f7f7f7"
            ],
            [
             0.6,
             "#e6f5d0"
            ],
            [
             0.7,
             "#b8e186"
            ],
            [
             0.8,
             "#7fbc41"
            ],
            [
             0.9,
             "#4d9221"
            ],
            [
             1,
             "#276419"
            ]
           ],
           "sequential": [
            [
             0,
             "#0d0887"
            ],
            [
             0.1111111111111111,
             "#46039f"
            ],
            [
             0.2222222222222222,
             "#7201a8"
            ],
            [
             0.3333333333333333,
             "#9c179e"
            ],
            [
             0.4444444444444444,
             "#bd3786"
            ],
            [
             0.5555555555555556,
             "#d8576b"
            ],
            [
             0.6666666666666666,
             "#ed7953"
            ],
            [
             0.7777777777777778,
             "#fb9f3a"
            ],
            [
             0.8888888888888888,
             "#fdca26"
            ],
            [
             1,
             "#f0f921"
            ]
           ],
           "sequentialminus": [
            [
             0,
             "#0d0887"
            ],
            [
             0.1111111111111111,
             "#46039f"
            ],
            [
             0.2222222222222222,
             "#7201a8"
            ],
            [
             0.3333333333333333,
             "#9c179e"
            ],
            [
             0.4444444444444444,
             "#bd3786"
            ],
            [
             0.5555555555555556,
             "#d8576b"
            ],
            [
             0.6666666666666666,
             "#ed7953"
            ],
            [
             0.7777777777777778,
             "#fb9f3a"
            ],
            [
             0.8888888888888888,
             "#fdca26"
            ],
            [
             1,
             "#f0f921"
            ]
           ]
          },
          "colorway": [
           "#636efa",
           "#EF553B",
           "#00cc96",
           "#ab63fa",
           "#FFA15A",
           "#19d3f3",
           "#FF6692",
           "#B6E880",
           "#FF97FF",
           "#FECB52"
          ],
          "font": {
           "color": "#2a3f5f"
          },
          "geo": {
           "bgcolor": "white",
           "lakecolor": "white",
           "landcolor": "#E5ECF6",
           "showlakes": true,
           "showland": true,
           "subunitcolor": "white"
          },
          "hoverlabel": {
           "align": "left"
          },
          "hovermode": "closest",
          "mapbox": {
           "style": "light"
          },
          "paper_bgcolor": "white",
          "plot_bgcolor": "#E5ECF6",
          "polar": {
           "angularaxis": {
            "gridcolor": "white",
            "linecolor": "white",
            "ticks": ""
           },
           "bgcolor": "#E5ECF6",
           "radialaxis": {
            "gridcolor": "white",
            "linecolor": "white",
            "ticks": ""
           }
          },
          "scene": {
           "xaxis": {
            "backgroundcolor": "#E5ECF6",
            "gridcolor": "white",
            "gridwidth": 2,
            "linecolor": "white",
            "showbackground": true,
            "ticks": "",
            "zerolinecolor": "white"
           },
           "yaxis": {
            "backgroundcolor": "#E5ECF6",
            "gridcolor": "white",
            "gridwidth": 2,
            "linecolor": "white",
            "showbackground": true,
            "ticks": "",
            "zerolinecolor": "white"
           },
           "zaxis": {
            "backgroundcolor": "#E5ECF6",
            "gridcolor": "white",
            "gridwidth": 2,
            "linecolor": "white",
            "showbackground": true,
            "ticks": "",
            "zerolinecolor": "white"
           }
          },
          "shapedefaults": {
           "line": {
            "color": "#2a3f5f"
           }
          },
          "ternary": {
           "aaxis": {
            "gridcolor": "white",
            "linecolor": "white",
            "ticks": ""
           },
           "baxis": {
            "gridcolor": "white",
            "linecolor": "white",
            "ticks": ""
           },
           "bgcolor": "#E5ECF6",
           "caxis": {
            "gridcolor": "white",
            "linecolor": "white",
            "ticks": ""
           }
          },
          "title": {
           "x": 0.05
          },
          "xaxis": {
           "automargin": true,
           "gridcolor": "white",
           "linecolor": "white",
           "ticks": "",
           "title": {
            "standoff": 15
           },
           "zerolinecolor": "white",
           "zerolinewidth": 2
          },
          "yaxis": {
           "automargin": true,
           "gridcolor": "white",
           "linecolor": "white",
           "ticks": "",
           "title": {
            "standoff": 15
           },
           "zerolinecolor": "white",
           "zerolinewidth": 2
          }
         }
        },
        "width": 750,
        "xaxis": {
         "anchor": "y",
         "domain": [
          0,
          1
         ],
         "range": [
          30.040000000000006,
          124.14
         ],
         "title": {
          "text": "xGA Faced"
         }
        },
        "yaxis": {
         "anchor": "x",
         "autorange": "reversed",
         "domain": [
          0,
          1
         ],
         "title": {
          "text": "Goals Against per 100 xGA"
         }
        }
       }
      }
     },
     "metadata": {},
     "output_type": "display_data"
    }
   ],
   "source": [
    "fig = px.scatter(data, x='xGA', y='GA/100 xGA')\n",
    "for row in data.index:\n",
    "    fig.add_annotation(x=data.loc[row, 'xGA'], y=data.loc[row, 'GA/100 xGA'], \n",
    "            text=row, showarrow=False, name='Team',\n",
    "            font=dict(size=11, color=teamColours[data.loc[row, 'Team']]['text']),\n",
    "            bgcolor=teamColours[data.loc[row, 'Team']]['colour'], opacity=0.8, \n",
    "            borderpad=2.5)\n",
    "fig.update_layout(showlegend=False, width=750, height=750, \n",
    "                  xaxis_title='xGA Faced',\n",
    "                  yaxis_title='Goals Against per 100 xGA')\n",
    "fig.update_xaxes(range=[(data[\"xGA\"].min() - 5), (data[\"xGA\"].max() + 5)])\n",
    "fig.update_yaxes(autorange=\"reversed\")\n",
    "fig.show()"
   ]
  }
 ],
 "metadata": {
  "kernelspec": {
   "display_name": "dev",
   "language": "python",
   "name": "python3"
  },
  "language_info": {
   "codemirror_mode": {
    "name": "ipython",
    "version": 3
   },
   "file_extension": ".py",
   "mimetype": "text/x-python",
   "name": "python",
   "nbconvert_exporter": "python",
   "pygments_lexer": "ipython3",
   "version": "3.12.0"
  }
 },
 "nbformat": 4,
 "nbformat_minor": 2
}
