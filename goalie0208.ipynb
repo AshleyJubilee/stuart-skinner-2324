{
 "cells": [
  {
   "cell_type": "code",
   "execution_count": 1,
   "metadata": {},
   "outputs": [],
   "source": [
    "import pandas as pd\n",
    "import glob\n",
    "import re\n",
    "import plotly.express as px\n",
    "import plotly.graph_objects as go\n",
    "from plotly.colors import hex_to_rgb\n",
    "from nhl_themes import teamColours\n",
    "pd.set_option('mode.chained_assignment', None)"
   ]
  },
  {
   "cell_type": "code",
   "execution_count": 2,
   "metadata": {},
   "outputs": [],
   "source": [
    "data = pd.read_csv(\"EH_std_gl_stats_all_regular_adj_2024-02-08.csv\")\n",
    "data = data.loc[data[\"xGA\"] > data[\"xGA\"].quantile(0.25)]\n",
    "data[\"Player\"] = data[\"Player\"].str.split(n=1).str[1]\n",
    "data = data.set_index([\"Player\"])"
   ]
  },
  {
   "cell_type": "code",
   "execution_count": 3,
   "metadata": {},
   "outputs": [
    {
     "data": {
      "text/html": [
       "<div>\n",
       "<style scoped>\n",
       "    .dataframe tbody tr th:only-of-type {\n",
       "        vertical-align: middle;\n",
       "    }\n",
       "\n",
       "    .dataframe tbody tr th {\n",
       "        vertical-align: top;\n",
       "    }\n",
       "\n",
       "    .dataframe thead th {\n",
       "        text-align: right;\n",
       "    }\n",
       "</style>\n",
       "<table border=\"1\" class=\"dataframe\">\n",
       "  <thead>\n",
       "    <tr style=\"text-align: right;\">\n",
       "      <th></th>\n",
       "      <th>Season</th>\n",
       "      <th>Team</th>\n",
       "      <th>Position</th>\n",
       "      <th>GP</th>\n",
       "      <th>TOI</th>\n",
       "      <th>GA</th>\n",
       "      <th>SA</th>\n",
       "      <th>FA</th>\n",
       "      <th>xGA</th>\n",
       "      <th>Sv%</th>\n",
       "      <th>FSv%</th>\n",
       "      <th>xFSv%</th>\n",
       "      <th>dFSv%</th>\n",
       "      <th>GSAA</th>\n",
       "      <th>GSAx</th>\n",
       "      <th>GSAx/60</th>\n",
       "    </tr>\n",
       "    <tr>\n",
       "      <th>Player</th>\n",
       "      <th></th>\n",
       "      <th></th>\n",
       "      <th></th>\n",
       "      <th></th>\n",
       "      <th></th>\n",
       "      <th></th>\n",
       "      <th></th>\n",
       "      <th></th>\n",
       "      <th></th>\n",
       "      <th></th>\n",
       "      <th></th>\n",
       "      <th></th>\n",
       "      <th></th>\n",
       "      <th></th>\n",
       "      <th></th>\n",
       "      <th></th>\n",
       "    </tr>\n",
       "  </thead>\n",
       "  <tbody>\n",
       "    <tr>\n",
       "      <th>Hill</th>\n",
       "      <td>23-24</td>\n",
       "      <td>VGK</td>\n",
       "      <td>G</td>\n",
       "      <td>18</td>\n",
       "      <td>1021.13</td>\n",
       "      <td>32.17</td>\n",
       "      <td>505.96</td>\n",
       "      <td>766.12</td>\n",
       "      <td>52.10</td>\n",
       "      <td>93.64</td>\n",
       "      <td>95.80</td>\n",
       "      <td>93.20</td>\n",
       "      <td>2.60</td>\n",
       "      <td>16.49</td>\n",
       "      <td>19.93</td>\n",
       "      <td>1.17</td>\n",
       "    </tr>\n",
       "    <tr>\n",
       "      <th>Schmid</th>\n",
       "      <td>23-24</td>\n",
       "      <td>N.J</td>\n",
       "      <td>G</td>\n",
       "      <td>15</td>\n",
       "      <td>755.53</td>\n",
       "      <td>41.62</td>\n",
       "      <td>386.96</td>\n",
       "      <td>536.85</td>\n",
       "      <td>38.61</td>\n",
       "      <td>89.24</td>\n",
       "      <td>92.25</td>\n",
       "      <td>92.81</td>\n",
       "      <td>-0.56</td>\n",
       "      <td>-4.40</td>\n",
       "      <td>-3.01</td>\n",
       "      <td>-0.24</td>\n",
       "    </tr>\n",
       "    <tr>\n",
       "      <th>Lyon</th>\n",
       "      <td>23-24</td>\n",
       "      <td>DET</td>\n",
       "      <td>G</td>\n",
       "      <td>21</td>\n",
       "      <td>1192.97</td>\n",
       "      <td>50.03</td>\n",
       "      <td>638.11</td>\n",
       "      <td>902.90</td>\n",
       "      <td>60.62</td>\n",
       "      <td>92.16</td>\n",
       "      <td>94.46</td>\n",
       "      <td>93.29</td>\n",
       "      <td>1.17</td>\n",
       "      <td>11.33</td>\n",
       "      <td>10.59</td>\n",
       "      <td>0.53</td>\n",
       "    </tr>\n",
       "    <tr>\n",
       "      <th>Nedeljkovic</th>\n",
       "      <td>23-24</td>\n",
       "      <td>PIT</td>\n",
       "      <td>G</td>\n",
       "      <td>16</td>\n",
       "      <td>898.98</td>\n",
       "      <td>38.96</td>\n",
       "      <td>469.03</td>\n",
       "      <td>685.64</td>\n",
       "      <td>43.44</td>\n",
       "      <td>91.69</td>\n",
       "      <td>94.32</td>\n",
       "      <td>93.66</td>\n",
       "      <td>0.65</td>\n",
       "      <td>6.15</td>\n",
       "      <td>4.48</td>\n",
       "      <td>0.30</td>\n",
       "    </tr>\n",
       "    <tr>\n",
       "      <th>Georgiev</th>\n",
       "      <td>23-24</td>\n",
       "      <td>COL</td>\n",
       "      <td>G</td>\n",
       "      <td>42</td>\n",
       "      <td>2456.87</td>\n",
       "      <td>117.61</td>\n",
       "      <td>1152.36</td>\n",
       "      <td>1628.15</td>\n",
       "      <td>119.14</td>\n",
       "      <td>89.79</td>\n",
       "      <td>92.78</td>\n",
       "      <td>92.68</td>\n",
       "      <td>0.09</td>\n",
       "      <td>-6.79</td>\n",
       "      <td>1.53</td>\n",
       "      <td>0.04</td>\n",
       "    </tr>\n",
       "  </tbody>\n",
       "</table>\n",
       "</div>"
      ],
      "text/plain": [
       "            Season Team Position  GP      TOI      GA       SA       FA  \\\n",
       "Player                                                                    \n",
       "Hill         23-24  VGK        G  18  1021.13   32.17   505.96   766.12   \n",
       "Schmid       23-24  N.J        G  15   755.53   41.62   386.96   536.85   \n",
       "Lyon         23-24  DET        G  21  1192.97   50.03   638.11   902.90   \n",
       "Nedeljkovic  23-24  PIT        G  16   898.98   38.96   469.03   685.64   \n",
       "Georgiev     23-24  COL        G  42  2456.87  117.61  1152.36  1628.15   \n",
       "\n",
       "                xGA    Sv%   FSv%  xFSv%  dFSv%   GSAA   GSAx  GSAx/60  \n",
       "Player                                                                  \n",
       "Hill          52.10  93.64  95.80  93.20   2.60  16.49  19.93     1.17  \n",
       "Schmid        38.61  89.24  92.25  92.81  -0.56  -4.40  -3.01    -0.24  \n",
       "Lyon          60.62  92.16  94.46  93.29   1.17  11.33  10.59     0.53  \n",
       "Nedeljkovic   43.44  91.69  94.32  93.66   0.65   6.15   4.48     0.30  \n",
       "Georgiev     119.14  89.79  92.78  92.68   0.09  -6.79   1.53     0.04  "
      ]
     },
     "execution_count": 3,
     "metadata": {},
     "output_type": "execute_result"
    }
   ],
   "source": [
    "data[\"GSAx/60\"] = round((60 * data[\"GSAx\"]) / data[\"TOI\"], 2)\n",
    "data.head()"
   ]
  },
  {
   "cell_type": "code",
   "execution_count": 4,
   "metadata": {},
   "outputs": [
    {
     "data": {
      "text/html": [
       "<div>\n",
       "<style scoped>\n",
       "    .dataframe tbody tr th:only-of-type {\n",
       "        vertical-align: middle;\n",
       "    }\n",
       "\n",
       "    .dataframe tbody tr th {\n",
       "        vertical-align: top;\n",
       "    }\n",
       "\n",
       "    .dataframe thead th {\n",
       "        text-align: right;\n",
       "    }\n",
       "</style>\n",
       "<table border=\"1\" class=\"dataframe\">\n",
       "  <thead>\n",
       "    <tr style=\"text-align: right;\">\n",
       "      <th></th>\n",
       "      <th>Season</th>\n",
       "      <th>Team</th>\n",
       "      <th>Position</th>\n",
       "      <th>GP</th>\n",
       "      <th>TOI</th>\n",
       "      <th>GA</th>\n",
       "      <th>SA</th>\n",
       "      <th>FA</th>\n",
       "      <th>xGA</th>\n",
       "      <th>Sv%</th>\n",
       "      <th>FSv%</th>\n",
       "      <th>xFSv%</th>\n",
       "      <th>dFSv%</th>\n",
       "      <th>GSAA</th>\n",
       "      <th>GSAx</th>\n",
       "      <th>GSAx/60</th>\n",
       "      <th>GA/100 xGA</th>\n",
       "    </tr>\n",
       "    <tr>\n",
       "      <th>Player</th>\n",
       "      <th></th>\n",
       "      <th></th>\n",
       "      <th></th>\n",
       "      <th></th>\n",
       "      <th></th>\n",
       "      <th></th>\n",
       "      <th></th>\n",
       "      <th></th>\n",
       "      <th></th>\n",
       "      <th></th>\n",
       "      <th></th>\n",
       "      <th></th>\n",
       "      <th></th>\n",
       "      <th></th>\n",
       "      <th></th>\n",
       "      <th></th>\n",
       "      <th></th>\n",
       "    </tr>\n",
       "  </thead>\n",
       "  <tbody>\n",
       "    <tr>\n",
       "      <th>Hill</th>\n",
       "      <td>23-24</td>\n",
       "      <td>VGK</td>\n",
       "      <td>G</td>\n",
       "      <td>18</td>\n",
       "      <td>1021.13</td>\n",
       "      <td>32.17</td>\n",
       "      <td>505.96</td>\n",
       "      <td>766.12</td>\n",
       "      <td>52.10</td>\n",
       "      <td>93.64</td>\n",
       "      <td>95.80</td>\n",
       "      <td>93.20</td>\n",
       "      <td>2.60</td>\n",
       "      <td>16.49</td>\n",
       "      <td>19.93</td>\n",
       "      <td>1.17</td>\n",
       "      <td>62.0</td>\n",
       "    </tr>\n",
       "    <tr>\n",
       "      <th>Schmid</th>\n",
       "      <td>23-24</td>\n",
       "      <td>N.J</td>\n",
       "      <td>G</td>\n",
       "      <td>15</td>\n",
       "      <td>755.53</td>\n",
       "      <td>41.62</td>\n",
       "      <td>386.96</td>\n",
       "      <td>536.85</td>\n",
       "      <td>38.61</td>\n",
       "      <td>89.24</td>\n",
       "      <td>92.25</td>\n",
       "      <td>92.81</td>\n",
       "      <td>-0.56</td>\n",
       "      <td>-4.40</td>\n",
       "      <td>-3.01</td>\n",
       "      <td>-0.24</td>\n",
       "      <td>108.0</td>\n",
       "    </tr>\n",
       "    <tr>\n",
       "      <th>Lyon</th>\n",
       "      <td>23-24</td>\n",
       "      <td>DET</td>\n",
       "      <td>G</td>\n",
       "      <td>21</td>\n",
       "      <td>1192.97</td>\n",
       "      <td>50.03</td>\n",
       "      <td>638.11</td>\n",
       "      <td>902.90</td>\n",
       "      <td>60.62</td>\n",
       "      <td>92.16</td>\n",
       "      <td>94.46</td>\n",
       "      <td>93.29</td>\n",
       "      <td>1.17</td>\n",
       "      <td>11.33</td>\n",
       "      <td>10.59</td>\n",
       "      <td>0.53</td>\n",
       "      <td>83.0</td>\n",
       "    </tr>\n",
       "    <tr>\n",
       "      <th>Nedeljkovic</th>\n",
       "      <td>23-24</td>\n",
       "      <td>PIT</td>\n",
       "      <td>G</td>\n",
       "      <td>16</td>\n",
       "      <td>898.98</td>\n",
       "      <td>38.96</td>\n",
       "      <td>469.03</td>\n",
       "      <td>685.64</td>\n",
       "      <td>43.44</td>\n",
       "      <td>91.69</td>\n",
       "      <td>94.32</td>\n",
       "      <td>93.66</td>\n",
       "      <td>0.65</td>\n",
       "      <td>6.15</td>\n",
       "      <td>4.48</td>\n",
       "      <td>0.30</td>\n",
       "      <td>90.0</td>\n",
       "    </tr>\n",
       "    <tr>\n",
       "      <th>Georgiev</th>\n",
       "      <td>23-24</td>\n",
       "      <td>COL</td>\n",
       "      <td>G</td>\n",
       "      <td>42</td>\n",
       "      <td>2456.87</td>\n",
       "      <td>117.61</td>\n",
       "      <td>1152.36</td>\n",
       "      <td>1628.15</td>\n",
       "      <td>119.14</td>\n",
       "      <td>89.79</td>\n",
       "      <td>92.78</td>\n",
       "      <td>92.68</td>\n",
       "      <td>0.09</td>\n",
       "      <td>-6.79</td>\n",
       "      <td>1.53</td>\n",
       "      <td>0.04</td>\n",
       "      <td>99.0</td>\n",
       "    </tr>\n",
       "  </tbody>\n",
       "</table>\n",
       "</div>"
      ],
      "text/plain": [
       "            Season Team Position  GP      TOI      GA       SA       FA  \\\n",
       "Player                                                                    \n",
       "Hill         23-24  VGK        G  18  1021.13   32.17   505.96   766.12   \n",
       "Schmid       23-24  N.J        G  15   755.53   41.62   386.96   536.85   \n",
       "Lyon         23-24  DET        G  21  1192.97   50.03   638.11   902.90   \n",
       "Nedeljkovic  23-24  PIT        G  16   898.98   38.96   469.03   685.64   \n",
       "Georgiev     23-24  COL        G  42  2456.87  117.61  1152.36  1628.15   \n",
       "\n",
       "                xGA    Sv%   FSv%  xFSv%  dFSv%   GSAA   GSAx  GSAx/60  \\\n",
       "Player                                                                   \n",
       "Hill          52.10  93.64  95.80  93.20   2.60  16.49  19.93     1.17   \n",
       "Schmid        38.61  89.24  92.25  92.81  -0.56  -4.40  -3.01    -0.24   \n",
       "Lyon          60.62  92.16  94.46  93.29   1.17  11.33  10.59     0.53   \n",
       "Nedeljkovic   43.44  91.69  94.32  93.66   0.65   6.15   4.48     0.30   \n",
       "Georgiev     119.14  89.79  92.78  92.68   0.09  -6.79   1.53     0.04   \n",
       "\n",
       "             GA/100 xGA  \n",
       "Player                   \n",
       "Hill               62.0  \n",
       "Schmid            108.0  \n",
       "Lyon               83.0  \n",
       "Nedeljkovic        90.0  \n",
       "Georgiev           99.0  "
      ]
     },
     "execution_count": 4,
     "metadata": {},
     "output_type": "execute_result"
    }
   ],
   "source": [
    "data[\"GA/100 xGA\"] = round((100 * data[\"GA\"] / data[\"xGA\"]))\n",
    "data.head()"
   ]
  },
  {
   "cell_type": "code",
   "execution_count": 12,
   "metadata": {},
   "outputs": [
    {
     "data": {
      "application/vnd.plotly.v1+json": {
       "config": {
        "plotlyServerURL": "https://plot.ly"
       },
       "data": [],
       "layout": {
        "annotations": [
         {
          "bgcolor": "#B4975A",
          "borderpad": 2.5,
          "font": {
           "color": "#000000",
           "size": 11
          },
          "opacity": 0.85,
          "showarrow": false,
          "text": "Player",
          "x": 52.1,
          "y": 62
         },
         {
          "bgcolor": "#CE1126",
          "borderpad": 2.5,
          "font": {
           "color": "#ffffff",
           "size": 11
          },
          "opacity": 0.85,
          "showarrow": false,
          "text": "Player",
          "x": 38.61,
          "y": 108
         },
         {
          "bgcolor": "#d52b3f",
          "borderpad": 2.5,
          "font": {
           "color": "#ffffff",
           "size": 11
          },
          "opacity": 0.85,
          "showarrow": false,
          "text": "Player",
          "x": 60.62,
          "y": 83
         },
         {
          "bgcolor": "#FCB514",
          "borderpad": 2.5,
          "font": {
           "color": "#000000",
           "size": 11
          },
          "opacity": 0.85,
          "showarrow": false,
          "text": "Player",
          "x": 43.44,
          "y": 90
         },
         {
          "bgcolor": "#6F263D",
          "borderpad": 2.5,
          "font": {
           "color": "#ffffff",
           "size": 11
          },
          "opacity": 0.85,
          "showarrow": false,
          "text": "Player",
          "x": 119.14,
          "y": 99
         },
         {
          "bgcolor": "#002868",
          "borderpad": 2.5,
          "font": {
           "color": "#ffffff",
           "size": 11
          },
          "opacity": 0.85,
          "showarrow": false,
          "text": "Player",
          "x": 77.01,
          "y": 97
         },
         {
          "bgcolor": "#C8102E",
          "borderpad": 2.5,
          "font": {
           "color": "#ffffff",
           "size": 11
          },
          "opacity": 0.85,
          "showarrow": false,
          "text": "Player",
          "x": 36.37,
          "y": 85
         },
         {
          "bgcolor": "#b12323",
          "borderpad": 2.5,
          "font": {
           "color": "#ffffff",
           "size": 11
          },
          "opacity": 0.85,
          "showarrow": false,
          "text": "Player",
          "x": 42.4,
          "y": 112
         },
         {
          "bgcolor": "#CE1126",
          "borderpad": 2.5,
          "font": {
           "color": "#ffffff",
           "size": 11
          },
          "opacity": 0.85,
          "showarrow": false,
          "text": "Player",
          "x": 55.14,
          "y": 115
         },
         {
          "bgcolor": "#af2c1b",
          "borderpad": 2.5,
          "font": {
           "color": "#ffffff",
           "size": 11
          },
          "opacity": 0.85,
          "showarrow": false,
          "text": "Player",
          "x": 65.04,
          "y": 111
         },
         {
          "bgcolor": "#111111",
          "borderpad": 2.5,
          "font": {
           "color": "#ffffff",
           "size": 11
          },
          "opacity": 0.85,
          "showarrow": false,
          "text": "Player",
          "x": 87.62,
          "y": 91
         },
         {
          "bgcolor": "#F74902",
          "borderpad": 2.5,
          "font": {
           "color": "#ffffff",
           "size": 11
          },
          "opacity": 0.85,
          "showarrow": false,
          "text": "Player",
          "x": 70.17,
          "y": 98
         },
         {
          "bgcolor": "#173d83",
          "borderpad": 2.5,
          "font": {
           "color": "#ffffff",
           "size": 11
          },
          "opacity": 0.85,
          "showarrow": false,
          "text": "Player",
          "x": 41.95,
          "y": 88
         },
         {
          "bgcolor": "#AF1E2D",
          "borderpad": 2.5,
          "font": {
           "color": "#ffffff",
           "size": 11
          },
          "opacity": 0.85,
          "showarrow": false,
          "text": "Player",
          "x": 35.13,
          "y": 101
         },
         {
          "bgcolor": "#C8102E",
          "borderpad": 2.5,
          "font": {
           "color": "#ffffff",
           "size": 11
          },
          "opacity": 0.85,
          "showarrow": false,
          "text": "Player",
          "x": 64.12,
          "y": 87
         },
         {
          "bgcolor": "#041E42",
          "borderpad": 2.5,
          "font": {
           "color": "#ffffff",
           "size": 11
          },
          "opacity": 0.85,
          "showarrow": false,
          "text": "Player",
          "x": 107.23,
          "y": 75
         },
         {
          "bgcolor": "#794848",
          "borderpad": 2.5,
          "font": {
           "color": "#ffffff",
           "size": 11
          },
          "opacity": 0.85,
          "showarrow": false,
          "text": "Player",
          "x": 97.83,
          "y": 80
         },
         {
          "bgcolor": "#d6300e",
          "borderpad": 2.5,
          "font": {
           "color": "#ffffff",
           "size": 11
          },
          "opacity": 0.85,
          "showarrow": false,
          "text": "Player",
          "x": 44.96,
          "y": 111
         },
         {
          "bgcolor": "#C8102E",
          "borderpad": 2.5,
          "font": {
           "color": "#ffffff",
           "size": 11
          },
          "opacity": 0.85,
          "showarrow": false,
          "text": "Player",
          "x": 78.48,
          "y": 99
         },
         {
          "bgcolor": "#003087",
          "borderpad": 2.5,
          "font": {
           "color": "#ffffff",
           "size": 11
          },
          "opacity": 0.85,
          "showarrow": false,
          "text": "Player",
          "x": 61.63,
          "y": 103
         },
         {
          "bgcolor": "#002654",
          "borderpad": 2.5,
          "font": {
           "color": "#ffffff",
           "size": 11
          },
          "opacity": 0.85,
          "showarrow": false,
          "text": "Player",
          "x": 91.39,
          "y": 92
         },
         {
          "bgcolor": "#154734",
          "borderpad": 2.5,
          "font": {
           "color": "#ffffff",
           "size": 11
          },
          "opacity": 0.85,
          "showarrow": false,
          "text": "Player",
          "x": 85.65,
          "y": 105
         },
         {
          "bgcolor": "#0038A8",
          "borderpad": 2.5,
          "font": {
           "color": "#ffffff",
           "size": 11
          },
          "opacity": 0.85,
          "showarrow": false,
          "text": "Player",
          "x": 90.83,
          "y": 99
         },
         {
          "bgcolor": "#00205B",
          "borderpad": 2.5,
          "font": {
           "color": "#ffffff",
           "size": 11
          },
          "opacity": 0.85,
          "showarrow": false,
          "text": "Player",
          "x": 54.9,
          "y": 118
         },
         {
          "bgcolor": "#F47D30",
          "borderpad": 2.5,
          "font": {
           "color": "#ffffff",
           "size": 11
          },
          "opacity": 0.85,
          "showarrow": false,
          "text": "Player",
          "x": 118.84,
          "y": 92
         },
         {
          "bgcolor": "#d6300e",
          "borderpad": 2.5,
          "font": {
           "color": "#ffffff",
           "size": 11
          },
          "opacity": 0.85,
          "showarrow": false,
          "text": "Player",
          "x": 104.49,
          "y": 73
         },
         {
          "bgcolor": "#AF1E2D",
          "borderpad": 2.5,
          "font": {
           "color": "#ffffff",
           "size": 11
          },
          "opacity": 0.85,
          "showarrow": false,
          "text": "Player",
          "x": 61.39,
          "y": 93
         },
         {
          "bgcolor": "#006847",
          "borderpad": 2.5,
          "font": {
           "color": "#ffffff",
           "size": 11
          },
          "opacity": 0.85,
          "showarrow": false,
          "text": "Player",
          "x": 82.35,
          "y": 100
         },
         {
          "bgcolor": "#d52b3f",
          "borderpad": 2.5,
          "font": {
           "color": "#ffffff",
           "size": 11
          },
          "opacity": 0.85,
          "showarrow": false,
          "text": "Player",
          "x": 39.02,
          "y": 103
         },
         {
          "bgcolor": "#FFB81C",
          "borderpad": 2.5,
          "font": {
           "color": "#000000",
           "size": 11
          },
          "opacity": 0.85,
          "showarrow": false,
          "text": "Player",
          "x": 77.11,
          "y": 81
         },
         {
          "bgcolor": "#041E42",
          "borderpad": 2.5,
          "font": {
           "color": "#ffffff",
           "size": 11
          },
          "opacity": 0.85,
          "showarrow": false,
          "text": "Player",
          "x": 50.76,
          "y": 90
         },
         {
          "bgcolor": "#001628",
          "borderpad": 2.5,
          "font": {
           "color": "#ffffff",
           "size": 11
          },
          "opacity": 0.85,
          "showarrow": false,
          "text": "Player",
          "x": 91.91,
          "y": 83
         },
         {
          "bgcolor": "#F47A38",
          "borderpad": 2.5,
          "font": {
           "color": "#ffffff",
           "size": 11
          },
          "opacity": 0.85,
          "showarrow": false,
          "text": "Player",
          "x": 106.31,
          "y": 87
         },
         {
          "bgcolor": "#002868",
          "borderpad": 2.5,
          "font": {
           "color": "#ffffff",
           "size": 11
          },
          "opacity": 0.85,
          "showarrow": false,
          "text": "Player",
          "x": 67.8,
          "y": 105
         },
         {
          "bgcolor": "#0038A8",
          "borderpad": 2.5,
          "font": {
           "color": "#ffffff",
           "size": 11
          },
          "opacity": 0.85,
          "showarrow": false,
          "text": "Player",
          "x": 55.11,
          "y": 76
         },
         {
          "bgcolor": "#b12323",
          "borderpad": 2.5,
          "font": {
           "color": "#ffffff",
           "size": 11
          },
          "opacity": 0.85,
          "showarrow": false,
          "text": "Player",
          "x": 90.09,
          "y": 114
         },
         {
          "bgcolor": "#041E42",
          "borderpad": 2.5,
          "font": {
           "color": "#ffffff",
           "size": 11
          },
          "opacity": 0.85,
          "showarrow": false,
          "text": "Player",
          "x": 113.09,
          "y": 86
         },
         {
          "bgcolor": "#00205B",
          "borderpad": 2.5,
          "font": {
           "color": "#ffffff",
           "size": 11
          },
          "opacity": 0.85,
          "showarrow": false,
          "text": "Player",
          "x": 49.89,
          "y": 84
         },
         {
          "bgcolor": "#FFB81C",
          "borderpad": 2.5,
          "font": {
           "color": "#000000",
           "size": 11
          },
          "opacity": 0.85,
          "showarrow": false,
          "text": "Player",
          "x": 114.83,
          "y": 97
         },
         {
          "bgcolor": "#006D75",
          "borderpad": 2.5,
          "font": {
           "color": "#ffffff",
           "size": 11
          },
          "opacity": 0.85,
          "showarrow": false,
          "text": "Player",
          "x": 78.29,
          "y": 95
         },
         {
          "bgcolor": "#794848",
          "borderpad": 2.5,
          "font": {
           "color": "#ffffff",
           "size": 11
          },
          "opacity": 0.85,
          "showarrow": false,
          "text": "Player",
          "x": 62.71,
          "y": 101
         },
         {
          "bgcolor": "#FFB81C",
          "borderpad": 2.5,
          "font": {
           "color": "#000000",
           "size": 11
          },
          "opacity": 0.85,
          "showarrow": false,
          "text": "Player",
          "x": 35.39,
          "y": 102
         },
         {
          "bgcolor": "#FFB81C",
          "borderpad": 2.5,
          "font": {
           "color": "#000000",
           "size": 11
          },
          "opacity": 0.85,
          "showarrow": false,
          "text": "Player",
          "x": 77.94,
          "y": 84
         },
         {
          "bgcolor": "#B4975A",
          "borderpad": 2.5,
          "font": {
           "color": "#000000",
           "size": 11
          },
          "opacity": 0.85,
          "showarrow": false,
          "text": "Player",
          "x": 87.08,
          "y": 95
         },
         {
          "bgcolor": "#F47A38",
          "borderpad": 2.5,
          "font": {
           "color": "#ffffff",
           "size": 11
          },
          "opacity": 0.85,
          "showarrow": false,
          "text": "Player",
          "x": 71.99,
          "y": 95
         },
         {
          "bgcolor": "#006D75",
          "borderpad": 2.5,
          "font": {
           "color": "#ffffff",
           "size": 11
          },
          "opacity": 0.85,
          "showarrow": false,
          "text": "Player",
          "x": 110.26,
          "y": 94
         },
         {
          "bgcolor": "#154734",
          "borderpad": 2.5,
          "font": {
           "color": "#ffffff",
           "size": 11
          },
          "opacity": 0.85,
          "showarrow": false,
          "text": "Player",
          "x": 60.25,
          "y": 107
         },
         {
          "bgcolor": "#00205B",
          "borderpad": 2.5,
          "font": {
           "color": "#ffffff",
           "size": 11
          },
          "opacity": 0.85,
          "showarrow": false,
          "text": "Player",
          "x": 46.64,
          "y": 87
         },
         {
          "bgcolor": "#af2c1b",
          "borderpad": 2.5,
          "font": {
           "color": "#ffffff",
           "size": 11
          },
          "opacity": 0.85,
          "showarrow": false,
          "text": "Player",
          "x": 107.96,
          "y": 88
         },
         {
          "bgcolor": "#001628",
          "borderpad": 2.5,
          "font": {
           "color": "#ffffff",
           "size": 11
          },
          "opacity": 0.85,
          "showarrow": false,
          "text": "Player",
          "x": 46.03,
          "y": 110
         },
         {
          "bgcolor": "#CE1126",
          "borderpad": 2.5,
          "font": {
           "color": "#ffffff",
           "size": 11
          },
          "opacity": 0.85,
          "showarrow": false,
          "text": "Player",
          "x": 51.48,
          "y": 110
         },
         {
          "bgcolor": "#AF1E2D",
          "borderpad": 2.5,
          "font": {
           "color": "#ffffff",
           "size": 11
          },
          "opacity": 0.85,
          "showarrow": false,
          "text": "Player",
          "x": 87.2,
          "y": 85
         },
         {
          "bgcolor": "#F74902",
          "borderpad": 2.5,
          "font": {
           "color": "#ffffff",
           "size": 11
          },
          "opacity": 0.85,
          "showarrow": false,
          "text": "Player",
          "x": 67.81,
          "y": 93
         },
         {
          "bgcolor": "#006847",
          "borderpad": 2.5,
          "font": {
           "color": "#ffffff",
           "size": 11
          },
          "opacity": 0.85,
          "showarrow": false,
          "text": "Player",
          "x": 60.98,
          "y": 113
         },
         {
          "bgcolor": "#F47D30",
          "borderpad": 2.5,
          "font": {
           "color": "#ffffff",
           "size": 11
          },
          "opacity": 0.85,
          "showarrow": false,
          "text": "Player",
          "x": 50.54,
          "y": 82
         },
         {
          "bgcolor": "#C8102E",
          "borderpad": 2.5,
          "font": {
           "color": "#ffffff",
           "size": 11
          },
          "opacity": 0.85,
          "showarrow": false,
          "text": "Player",
          "x": 94.6,
          "y": 94
         },
         {
          "bgcolor": "#002654",
          "borderpad": 2.5,
          "font": {
           "color": "#ffffff",
           "size": 11
          },
          "opacity": 0.85,
          "showarrow": false,
          "text": "Player",
          "x": 40.41,
          "y": 108
         },
         {
          "bgcolor": "#FF4C00",
          "borderpad": 2.5,
          "font": {
           "color": "#ffffff",
           "size": 11
          },
          "opacity": 0.85,
          "showarrow": false,
          "text": "Player",
          "x": 94.3,
          "y": 87
         },
         {
          "bgcolor": "#173d83",
          "borderpad": 2.5,
          "font": {
           "color": "#ffffff",
           "size": 11
          },
          "opacity": 0.85,
          "showarrow": false,
          "text": "Player",
          "x": 108.03,
          "y": 80
         },
         {
          "bgcolor": "#FCB514",
          "borderpad": 2.5,
          "font": {
           "color": "#000000",
           "size": 11
          },
          "opacity": 0.85,
          "showarrow": false,
          "text": "Player",
          "x": 91.47,
          "y": 81
         },
         {
          "bgcolor": "#003087",
          "borderpad": 2.5,
          "font": {
           "color": "#ffffff",
           "size": 11
          },
          "opacity": 0.85,
          "showarrow": false,
          "text": "Player",
          "x": 78.13,
          "y": 83
         },
         {
          "bgcolor": "#d52b3f",
          "borderpad": 2.5,
          "font": {
           "color": "#ffffff",
           "size": 11
          },
          "opacity": 0.85,
          "showarrow": false,
          "text": "Player",
          "x": 60.62,
          "y": 96
         },
         {
          "bgcolor": "#CE1126",
          "borderpad": 2.5,
          "font": {
           "color": "#ffffff",
           "size": 11
          },
          "opacity": 0.85,
          "showarrow": false,
          "text": "Player",
          "x": 78.83,
          "y": 115
         }
        ],
        "template": {
         "data": {
          "bar": [
           {
            "error_x": {
             "color": "#2a3f5f"
            },
            "error_y": {
             "color": "#2a3f5f"
            },
            "marker": {
             "line": {
              "color": "#E5ECF6",
              "width": 0.5
             },
             "pattern": {
              "fillmode": "overlay",
              "size": 10,
              "solidity": 0.2
             }
            },
            "type": "bar"
           }
          ],
          "barpolar": [
           {
            "marker": {
             "line": {
              "color": "#E5ECF6",
              "width": 0.5
             },
             "pattern": {
              "fillmode": "overlay",
              "size": 10,
              "solidity": 0.2
             }
            },
            "type": "barpolar"
           }
          ],
          "carpet": [
           {
            "aaxis": {
             "endlinecolor": "#2a3f5f",
             "gridcolor": "white",
             "linecolor": "white",
             "minorgridcolor": "white",
             "startlinecolor": "#2a3f5f"
            },
            "baxis": {
             "endlinecolor": "#2a3f5f",
             "gridcolor": "white",
             "linecolor": "white",
             "minorgridcolor": "white",
             "startlinecolor": "#2a3f5f"
            },
            "type": "carpet"
           }
          ],
          "choropleth": [
           {
            "colorbar": {
             "outlinewidth": 0,
             "ticks": ""
            },
            "type": "choropleth"
           }
          ],
          "contour": [
           {
            "colorbar": {
             "outlinewidth": 0,
             "ticks": ""
            },
            "colorscale": [
             [
              0,
              "#0d0887"
             ],
             [
              0.1111111111111111,
              "#46039f"
             ],
             [
              0.2222222222222222,
              "#7201a8"
             ],
             [
              0.3333333333333333,
              "#9c179e"
             ],
             [
              0.4444444444444444,
              "#bd3786"
             ],
             [
              0.5555555555555556,
              "#d8576b"
             ],
             [
              0.6666666666666666,
              "#ed7953"
             ],
             [
              0.7777777777777778,
              "#fb9f3a"
             ],
             [
              0.8888888888888888,
              "#fdca26"
             ],
             [
              1,
              "#f0f921"
             ]
            ],
            "type": "contour"
           }
          ],
          "contourcarpet": [
           {
            "colorbar": {
             "outlinewidth": 0,
             "ticks": ""
            },
            "type": "contourcarpet"
           }
          ],
          "heatmap": [
           {
            "colorbar": {
             "outlinewidth": 0,
             "ticks": ""
            },
            "colorscale": [
             [
              0,
              "#0d0887"
             ],
             [
              0.1111111111111111,
              "#46039f"
             ],
             [
              0.2222222222222222,
              "#7201a8"
             ],
             [
              0.3333333333333333,
              "#9c179e"
             ],
             [
              0.4444444444444444,
              "#bd3786"
             ],
             [
              0.5555555555555556,
              "#d8576b"
             ],
             [
              0.6666666666666666,
              "#ed7953"
             ],
             [
              0.7777777777777778,
              "#fb9f3a"
             ],
             [
              0.8888888888888888,
              "#fdca26"
             ],
             [
              1,
              "#f0f921"
             ]
            ],
            "type": "heatmap"
           }
          ],
          "heatmapgl": [
           {
            "colorbar": {
             "outlinewidth": 0,
             "ticks": ""
            },
            "colorscale": [
             [
              0,
              "#0d0887"
             ],
             [
              0.1111111111111111,
              "#46039f"
             ],
             [
              0.2222222222222222,
              "#7201a8"
             ],
             [
              0.3333333333333333,
              "#9c179e"
             ],
             [
              0.4444444444444444,
              "#bd3786"
             ],
             [
              0.5555555555555556,
              "#d8576b"
             ],
             [
              0.6666666666666666,
              "#ed7953"
             ],
             [
              0.7777777777777778,
              "#fb9f3a"
             ],
             [
              0.8888888888888888,
              "#fdca26"
             ],
             [
              1,
              "#f0f921"
             ]
            ],
            "type": "heatmapgl"
           }
          ],
          "histogram": [
           {
            "marker": {
             "pattern": {
              "fillmode": "overlay",
              "size": 10,
              "solidity": 0.2
             }
            },
            "type": "histogram"
           }
          ],
          "histogram2d": [
           {
            "colorbar": {
             "outlinewidth": 0,
             "ticks": ""
            },
            "colorscale": [
             [
              0,
              "#0d0887"
             ],
             [
              0.1111111111111111,
              "#46039f"
             ],
             [
              0.2222222222222222,
              "#7201a8"
             ],
             [
              0.3333333333333333,
              "#9c179e"
             ],
             [
              0.4444444444444444,
              "#bd3786"
             ],
             [
              0.5555555555555556,
              "#d8576b"
             ],
             [
              0.6666666666666666,
              "#ed7953"
             ],
             [
              0.7777777777777778,
              "#fb9f3a"
             ],
             [
              0.8888888888888888,
              "#fdca26"
             ],
             [
              1,
              "#f0f921"
             ]
            ],
            "type": "histogram2d"
           }
          ],
          "histogram2dcontour": [
           {
            "colorbar": {
             "outlinewidth": 0,
             "ticks": ""
            },
            "colorscale": [
             [
              0,
              "#0d0887"
             ],
             [
              0.1111111111111111,
              "#46039f"
             ],
             [
              0.2222222222222222,
              "#7201a8"
             ],
             [
              0.3333333333333333,
              "#9c179e"
             ],
             [
              0.4444444444444444,
              "#bd3786"
             ],
             [
              0.5555555555555556,
              "#d8576b"
             ],
             [
              0.6666666666666666,
              "#ed7953"
             ],
             [
              0.7777777777777778,
              "#fb9f3a"
             ],
             [
              0.8888888888888888,
              "#fdca26"
             ],
             [
              1,
              "#f0f921"
             ]
            ],
            "type": "histogram2dcontour"
           }
          ],
          "mesh3d": [
           {
            "colorbar": {
             "outlinewidth": 0,
             "ticks": ""
            },
            "type": "mesh3d"
           }
          ],
          "parcoords": [
           {
            "line": {
             "colorbar": {
              "outlinewidth": 0,
              "ticks": ""
             }
            },
            "type": "parcoords"
           }
          ],
          "pie": [
           {
            "automargin": true,
            "type": "pie"
           }
          ],
          "scatter": [
           {
            "fillpattern": {
             "fillmode": "overlay",
             "size": 10,
             "solidity": 0.2
            },
            "type": "scatter"
           }
          ],
          "scatter3d": [
           {
            "line": {
             "colorbar": {
              "outlinewidth": 0,
              "ticks": ""
             }
            },
            "marker": {
             "colorbar": {
              "outlinewidth": 0,
              "ticks": ""
             }
            },
            "type": "scatter3d"
           }
          ],
          "scattercarpet": [
           {
            "marker": {
             "colorbar": {
              "outlinewidth": 0,
              "ticks": ""
             }
            },
            "type": "scattercarpet"
           }
          ],
          "scattergeo": [
           {
            "marker": {
             "colorbar": {
              "outlinewidth": 0,
              "ticks": ""
             }
            },
            "type": "scattergeo"
           }
          ],
          "scattergl": [
           {
            "marker": {
             "colorbar": {
              "outlinewidth": 0,
              "ticks": ""
             }
            },
            "type": "scattergl"
           }
          ],
          "scattermapbox": [
           {
            "marker": {
             "colorbar": {
              "outlinewidth": 0,
              "ticks": ""
             }
            },
            "type": "scattermapbox"
           }
          ],
          "scatterpolar": [
           {
            "marker": {
             "colorbar": {
              "outlinewidth": 0,
              "ticks": ""
             }
            },
            "type": "scatterpolar"
           }
          ],
          "scatterpolargl": [
           {
            "marker": {
             "colorbar": {
              "outlinewidth": 0,
              "ticks": ""
             }
            },
            "type": "scatterpolargl"
           }
          ],
          "scatterternary": [
           {
            "marker": {
             "colorbar": {
              "outlinewidth": 0,
              "ticks": ""
             }
            },
            "type": "scatterternary"
           }
          ],
          "surface": [
           {
            "colorbar": {
             "outlinewidth": 0,
             "ticks": ""
            },
            "colorscale": [
             [
              0,
              "#0d0887"
             ],
             [
              0.1111111111111111,
              "#46039f"
             ],
             [
              0.2222222222222222,
              "#7201a8"
             ],
             [
              0.3333333333333333,
              "#9c179e"
             ],
             [
              0.4444444444444444,
              "#bd3786"
             ],
             [
              0.5555555555555556,
              "#d8576b"
             ],
             [
              0.6666666666666666,
              "#ed7953"
             ],
             [
              0.7777777777777778,
              "#fb9f3a"
             ],
             [
              0.8888888888888888,
              "#fdca26"
             ],
             [
              1,
              "#f0f921"
             ]
            ],
            "type": "surface"
           }
          ],
          "table": [
           {
            "cells": {
             "fill": {
              "color": "#EBF0F8"
             },
             "line": {
              "color": "white"
             }
            },
            "header": {
             "fill": {
              "color": "#C8D4E3"
             },
             "line": {
              "color": "white"
             }
            },
            "type": "table"
           }
          ]
         },
         "layout": {
          "annotationdefaults": {
           "arrowcolor": "#2a3f5f",
           "arrowhead": 0,
           "arrowwidth": 1
          },
          "autotypenumbers": "strict",
          "coloraxis": {
           "colorbar": {
            "outlinewidth": 0,
            "ticks": ""
           }
          },
          "colorscale": {
           "diverging": [
            [
             0,
             "#8e0152"
            ],
            [
             0.1,
             "#c51b7d"
            ],
            [
             0.2,
             "#de77ae"
            ],
            [
             0.3,
             "#f1b6da"
            ],
            [
             0.4,
             "#fde0ef"
            ],
            [
             0.5,
             "#f7f7f7"
            ],
            [
             0.6,
             "#e6f5d0"
            ],
            [
             0.7,
             "#b8e186"
            ],
            [
             0.8,
             "#7fbc41"
            ],
            [
             0.9,
             "#4d9221"
            ],
            [
             1,
             "#276419"
            ]
           ],
           "sequential": [
            [
             0,
             "#0d0887"
            ],
            [
             0.1111111111111111,
             "#46039f"
            ],
            [
             0.2222222222222222,
             "#7201a8"
            ],
            [
             0.3333333333333333,
             "#9c179e"
            ],
            [
             0.4444444444444444,
             "#bd3786"
            ],
            [
             0.5555555555555556,
             "#d8576b"
            ],
            [
             0.6666666666666666,
             "#ed7953"
            ],
            [
             0.7777777777777778,
             "#fb9f3a"
            ],
            [
             0.8888888888888888,
             "#fdca26"
            ],
            [
             1,
             "#f0f921"
            ]
           ],
           "sequentialminus": [
            [
             0,
             "#0d0887"
            ],
            [
             0.1111111111111111,
             "#46039f"
            ],
            [
             0.2222222222222222,
             "#7201a8"
            ],
            [
             0.3333333333333333,
             "#9c179e"
            ],
            [
             0.4444444444444444,
             "#bd3786"
            ],
            [
             0.5555555555555556,
             "#d8576b"
            ],
            [
             0.6666666666666666,
             "#ed7953"
            ],
            [
             0.7777777777777778,
             "#fb9f3a"
            ],
            [
             0.8888888888888888,
             "#fdca26"
            ],
            [
             1,
             "#f0f921"
            ]
           ]
          },
          "colorway": [
           "#636efa",
           "#EF553B",
           "#00cc96",
           "#ab63fa",
           "#FFA15A",
           "#19d3f3",
           "#FF6692",
           "#B6E880",
           "#FF97FF",
           "#FECB52"
          ],
          "font": {
           "color": "#2a3f5f"
          },
          "geo": {
           "bgcolor": "white",
           "lakecolor": "white",
           "landcolor": "#E5ECF6",
           "showlakes": true,
           "showland": true,
           "subunitcolor": "white"
          },
          "hoverlabel": {
           "align": "left"
          },
          "hovermode": "closest",
          "mapbox": {
           "style": "light"
          },
          "paper_bgcolor": "white",
          "plot_bgcolor": "#E5ECF6",
          "polar": {
           "angularaxis": {
            "gridcolor": "white",
            "linecolor": "white",
            "ticks": ""
           },
           "bgcolor": "#E5ECF6",
           "radialaxis": {
            "gridcolor": "white",
            "linecolor": "white",
            "ticks": ""
           }
          },
          "scene": {
           "xaxis": {
            "backgroundcolor": "#E5ECF6",
            "gridcolor": "white",
            "gridwidth": 2,
            "linecolor": "white",
            "showbackground": true,
            "ticks": "",
            "zerolinecolor": "white"
           },
           "yaxis": {
            "backgroundcolor": "#E5ECF6",
            "gridcolor": "white",
            "gridwidth": 2,
            "linecolor": "white",
            "showbackground": true,
            "ticks": "",
            "zerolinecolor": "white"
           },
           "zaxis": {
            "backgroundcolor": "#E5ECF6",
            "gridcolor": "white",
            "gridwidth": 2,
            "linecolor": "white",
            "showbackground": true,
            "ticks": "",
            "zerolinecolor": "white"
           }
          },
          "shapedefaults": {
           "line": {
            "color": "#2a3f5f"
           }
          },
          "ternary": {
           "aaxis": {
            "gridcolor": "white",
            "linecolor": "white",
            "ticks": ""
           },
           "baxis": {
            "gridcolor": "white",
            "linecolor": "white",
            "ticks": ""
           },
           "bgcolor": "#E5ECF6",
           "caxis": {
            "gridcolor": "white",
            "linecolor": "white",
            "ticks": ""
           }
          },
          "title": {
           "x": 0.05
          },
          "xaxis": {
           "automargin": true,
           "gridcolor": "white",
           "linecolor": "white",
           "ticks": "",
           "title": {
            "standoff": 15
           },
           "zerolinecolor": "white",
           "zerolinewidth": 2
          },
          "yaxis": {
           "automargin": true,
           "gridcolor": "white",
           "linecolor": "white",
           "ticks": "",
           "title": {
            "standoff": 15
           },
           "zerolinecolor": "white",
           "zerolinewidth": 2
          }
         }
        }
       }
      }
     },
     "metadata": {},
     "output_type": "display_data"
    }
   ],
   "source": [
    "fig = go.Figure()\n",
    "for row in data.index:\n",
    "    fig.add_annotation(x=data.loc[row, 'xGA'], y=data.loc[row, 'GA/100 xGA'], \n",
    "            text='Player', showarrow=False, \n",
    "            font=dict(size=11, color=teamColours[data.loc[row, 'Team']]['text']),\n",
    "            bgcolor=teamColours[data.loc[row, 'Team']]['colour'], opacity=0.85, \n",
    "            borderpad=2.5)\n",
    "# fig.update_layout(showlegend=False, width=750, height=750)\n",
    "# fig.update_xaxes(range=[(data[\"xGA\"].min() - 5), (data[\"xGA\"].max() + 5)])\n",
    "# fig.update_yaxes(autorange=\"reversed\")\n",
    "fig.show()"
   ]
  }
 ],
 "metadata": {
  "kernelspec": {
   "display_name": "dev",
   "language": "python",
   "name": "python3"
  },
  "language_info": {
   "codemirror_mode": {
    "name": "ipython",
    "version": 3
   },
   "file_extension": ".py",
   "mimetype": "text/x-python",
   "name": "python",
   "nbconvert_exporter": "python",
   "pygments_lexer": "ipython3",
   "version": "3.12.0"
  }
 },
 "nbformat": 4,
 "nbformat_minor": 2
}
